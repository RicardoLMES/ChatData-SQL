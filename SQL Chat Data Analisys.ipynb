{
 "cells": [
  {
   "cell_type": "markdown",
   "metadata": {},
   "source": [
    "# ChatData\n",
    "\n",
    "## Sqlite\n",
    "We are using a file system called **sqlite**. It looks and acts like a real single user relational database (RDB). sqlite3 comes packaged with python. You do not need to install the library. You simply import it (as below).\n",
    "\n",
    "- We are using Pandas to write and read to sqlite. Pandas will manage a lot of the complexity of dealing with a RDB. There are other ways of reading and writing to a RDB that are VERY common and often used in production systems.  \n",
    "\n",
    "- The most common other way is to read or write to the RDB row by row. As you can see Pandas puts the entire dataframe into the RDB or extracts a new dataframe from the RDB. These are not row by row operations. These are set operations. Set operations ARE more efficient. However, it is common to use row by row operations to avoid needing large memory computers to hold the dataframes. One row only takes a few bytes. An entire dataframe could be many gigabytes and even petabytes of data. Obviously you will end up with problems with your compute resource if your files are this big. This will not happen to you in this activity and may never happen to you while you are a data analyst. Please just be aware of this. \n",
    "\n",
    "- This activity is primarily about querying a RDB, so, we are using a simple way that Pandas provides. If you want to learn the more complex way, just google 'reading and wrting to a relational database using python'. There are many resources to learn from.\n",
    "\n",
    "- The data types that sqlite supports are quite limited. for example, it does not have a DATE type.  This is not a challenge for this project. However, more sophisticated database systems,such as Postgresql, have a large array of data types, such as \"DATE\", etc. that give those systems additional capability. \n",
    "\n",
    "- All of the SQL queries could also be performed on the Pandas DataFrames directly.  You may want to try this yourself for comparison (but make sure you do the SQL queries first, as this is an exercise in using SQL!).\n",
    "\n",
    "\n",
    "## SQL Magic\n",
    "Within the Jupyter notebook we will be using something called **SQL Magic**.  This provides a convenient way to write SQL queries directly into code cells in the notebook and to read the results back into a Pandas DataFrame.  This makes working with SQL much easier!\n",
    "\n",
    "Note that you may need to update your sqlite version using `conda update -c anaconda sqlite` in order for the SQL Magic to work correctly.\n",
    "\n",
    "## The Data Analysis Lifecycle\n",
    "The sections in this notebook follow the stages of the Data Analysis Lifecycle introduced in an earlier activity.  The stages are:\n",
    "\n",
    "- Acquire\n",
    "- Transform\n",
    "- Organise\n",
    "- Analyse\n",
    "- Communicate\n",
    "- Maintain\n"
   ]
  },
  {
   "cell_type": "markdown",
   "metadata": {},
   "source": [
    "The requirements document for this project is Template SQL queries.xlsx."
   ]
  },
  {
   "cell_type": "markdown",
   "metadata": {},
   "source": [
    "# Preliminary Steps: Create a Database\n",
    "First let's import Sqlite and the other libraries we will need."
   ]
  },
  {
   "cell_type": "code",
   "execution_count": 2,
   "metadata": {},
   "outputs": [],
   "source": [
    "# Import Libraries\n",
    "import numpy as np\n",
    "import pandas as pd\n",
    "import sqlite3"
   ]
  },
  {
   "cell_type": "markdown",
   "metadata": {},
   "source": [
    "### Create the Database\n",
    "Now we will create the Sqlite database.  Here is some code that does this for you.  We use the `%load_ext` magic command to load the SQL Magic extension and then use `%sql` to connect to the database."
   ]
  },
  {
   "cell_type": "code",
   "execution_count": 3,
   "metadata": {},
   "outputs": [
    {
     "data": {
      "text/plain": [
       "'Connected: @chatdata.db'"
      ]
     },
     "execution_count": 3,
     "metadata": {},
     "output_type": "execute_result"
    }
   ],
   "source": [
    "# If the db does not exist, sqlite will create it.\n",
    "con = sqlite3.connect('chatdata.db')\n",
    "\n",
    "# loads sql magic\n",
    "%load_ext sql \n",
    "\n",
    "# connects sql magic command to the correct db\n",
    "%sql sqlite:///chatdata.db "
   ]
  },
  {
   "cell_type": "markdown",
   "metadata": {},
   "source": [
    "#### Drop the `queries` table if it already exists\n",
    "The queries table will be our record of the queries created to answer the questions from the requirements spreadsheet.  As we will be running this Jupyter notebook a few times, let's drop (i.e. remove) the queries table so that we start fresh each time.  Here is the code to do this.  We use the `%%sql` magic command to tell Jupyter that we are going to write SQL in the cell.\n"
   ]
  },
  {
   "cell_type": "code",
   "execution_count": 4,
   "metadata": {},
   "outputs": [
    {
     "name": "stdout",
     "output_type": "stream",
     "text": [
      " * sqlite:///chatdata.db\n",
      "Done.\n"
     ]
    },
    {
     "data": {
      "text/plain": [
       "[]"
      ]
     },
     "execution_count": 4,
     "metadata": {},
     "output_type": "execute_result"
    }
   ],
   "source": [
    "%%sql\n",
    "DROP TABLE IF EXISTS 'queries'"
   ]
  },
  {
   "cell_type": "markdown",
   "metadata": {},
   "source": [
    "# Task 1: Load the Data\n",
    "Now we can start loading the data.  The tables will be created as we load the data.  \n",
    "\n",
    "Note that some of these files are quite large, so make sure you have plenty of free memory!"
   ]
  },
  {
   "cell_type": "markdown",
   "metadata": {},
   "source": [
    "## Lifecycle Stages: Transform and Organise\n",
    "The data has already been processed into 3 clean data files ready for this project:\n",
    "\n",
    "- queries.csv\n",
    "- posts.csv\n",
    "- comments.csv\n",
    "\n",
    "We will load these files into our database."
   ]
  },
  {
   "cell_type": "markdown",
   "metadata": {},
   "source": [
    "## Lifecycle Stage: Acquire\n",
    "The data can be found in the OpenClassrooms instructions for this activity."
   ]
  },
  {
   "cell_type": "markdown",
   "metadata": {},
   "source": [
    "### Load Comments Data into a `comments` table\n",
    "Now we will load the data from the csv files into our sqlite database.\n",
    "\n",
    "First we load the csv file into a Pandas dataframe:"
   ]
  },
  {
   "cell_type": "code",
   "execution_count": 5,
   "metadata": {},
   "outputs": [
    {
     "data": {
      "text/html": [
       "<div>\n",
       "<style scoped>\n",
       "    .dataframe tbody tr th:only-of-type {\n",
       "        vertical-align: middle;\n",
       "    }\n",
       "\n",
       "    .dataframe tbody tr th {\n",
       "        vertical-align: top;\n",
       "    }\n",
       "\n",
       "    .dataframe thead th {\n",
       "        text-align: right;\n",
       "    }\n",
       "</style>\n",
       "<table border=\"1\" class=\"dataframe\">\n",
       "  <thead>\n",
       "    <tr style=\"text-align: right;\">\n",
       "      <th></th>\n",
       "      <th>Id</th>\n",
       "      <th>PostId</th>\n",
       "      <th>Score</th>\n",
       "      <th>Text</th>\n",
       "      <th>CreationDate</th>\n",
       "      <th>UserId</th>\n",
       "    </tr>\n",
       "  </thead>\n",
       "  <tbody>\n",
       "    <tr>\n",
       "      <th>0</th>\n",
       "      <td>723182</td>\n",
       "      <td>385124</td>\n",
       "      <td>0</td>\n",
       "      <td>@BenBolker I don't understand. The fit cannot ...</td>\n",
       "      <td>2019-01-01 00:06:39</td>\n",
       "      <td>78575</td>\n",
       "    </tr>\n",
       "    <tr>\n",
       "      <th>1</th>\n",
       "      <td>723183</td>\n",
       "      <td>385124</td>\n",
       "      <td>3</td>\n",
       "      <td>You can't add *less* than (`-min(y)`), but you...</td>\n",
       "      <td>2019-01-01 00:09:22</td>\n",
       "      <td>2126</td>\n",
       "    </tr>\n",
       "    <tr>\n",
       "      <th>2</th>\n",
       "      <td>723186</td>\n",
       "      <td>385137</td>\n",
       "      <td>0</td>\n",
       "      <td>nice. If you felt like doing the work it would...</td>\n",
       "      <td>2019-01-01 00:32:11</td>\n",
       "      <td>2126</td>\n",
       "    </tr>\n",
       "    <tr>\n",
       "      <th>3</th>\n",
       "      <td>723187</td>\n",
       "      <td>385137</td>\n",
       "      <td>0</td>\n",
       "      <td>i.e. `emdbook::curve3d(-sum(dnbinom(y,mu=mu,si...</td>\n",
       "      <td>2019-01-01 00:40:36</td>\n",
       "      <td>2126</td>\n",
       "    </tr>\n",
       "    <tr>\n",
       "      <th>4</th>\n",
       "      <td>723188</td>\n",
       "      <td>385134</td>\n",
       "      <td>0</td>\n",
       "      <td>Don't you mean \"so variance should be $\\sigma^...</td>\n",
       "      <td>2019-01-01 00:41:28</td>\n",
       "      <td>112141</td>\n",
       "    </tr>\n",
       "  </tbody>\n",
       "</table>\n",
       "</div>"
      ],
      "text/plain": [
       "       Id  PostId  Score                                               Text  \\\n",
       "0  723182  385124      0  @BenBolker I don't understand. The fit cannot ...   \n",
       "1  723183  385124      3  You can't add *less* than (`-min(y)`), but you...   \n",
       "2  723186  385137      0  nice. If you felt like doing the work it would...   \n",
       "3  723187  385137      0  i.e. `emdbook::curve3d(-sum(dnbinom(y,mu=mu,si...   \n",
       "4  723188  385134      0  Don't you mean \"so variance should be $\\sigma^...   \n",
       "\n",
       "          CreationDate  UserId  \n",
       "0  2019-01-01 00:06:39   78575  \n",
       "1  2019-01-01 00:09:22    2126  \n",
       "2  2019-01-01 00:32:11    2126  \n",
       "3  2019-01-01 00:40:36    2126  \n",
       "4  2019-01-01 00:41:28  112141  "
      ]
     },
     "execution_count": 5,
     "metadata": {},
     "output_type": "execute_result"
    }
   ],
   "source": [
    "comments = pd.read_csv('comments.csv')\n",
    "comments.head()"
   ]
  },
  {
   "cell_type": "markdown",
   "metadata": {},
   "source": [
    "Now take the comments dataframe and push the data into the Sqlite database table called 'comments':"
   ]
  },
  {
   "cell_type": "code",
   "execution_count": 6,
   "metadata": {},
   "outputs": [
    {
     "data": {
      "text/html": [
       "<div>\n",
       "<style scoped>\n",
       "    .dataframe tbody tr th:only-of-type {\n",
       "        vertical-align: middle;\n",
       "    }\n",
       "\n",
       "    .dataframe tbody tr th {\n",
       "        vertical-align: top;\n",
       "    }\n",
       "\n",
       "    .dataframe thead th {\n",
       "        text-align: right;\n",
       "    }\n",
       "</style>\n",
       "<table border=\"1\" class=\"dataframe\">\n",
       "  <thead>\n",
       "    <tr style=\"text-align: right;\">\n",
       "      <th></th>\n",
       "      <th>Id</th>\n",
       "      <th>PostId</th>\n",
       "      <th>Score</th>\n",
       "      <th>Text</th>\n",
       "      <th>CreationDate</th>\n",
       "      <th>UserId</th>\n",
       "    </tr>\n",
       "  </thead>\n",
       "  <tbody>\n",
       "    <tr>\n",
       "      <th>0</th>\n",
       "      <td>723182</td>\n",
       "      <td>385124</td>\n",
       "      <td>0</td>\n",
       "      <td>@BenBolker I don't understand. The fit cannot ...</td>\n",
       "      <td>2019-01-01 00:06:39</td>\n",
       "      <td>78575</td>\n",
       "    </tr>\n",
       "    <tr>\n",
       "      <th>1</th>\n",
       "      <td>723183</td>\n",
       "      <td>385124</td>\n",
       "      <td>3</td>\n",
       "      <td>You can't add *less* than (`-min(y)`), but you...</td>\n",
       "      <td>2019-01-01 00:09:22</td>\n",
       "      <td>2126</td>\n",
       "    </tr>\n",
       "    <tr>\n",
       "      <th>2</th>\n",
       "      <td>723186</td>\n",
       "      <td>385137</td>\n",
       "      <td>0</td>\n",
       "      <td>nice. If you felt like doing the work it would...</td>\n",
       "      <td>2019-01-01 00:32:11</td>\n",
       "      <td>2126</td>\n",
       "    </tr>\n",
       "    <tr>\n",
       "      <th>3</th>\n",
       "      <td>723187</td>\n",
       "      <td>385137</td>\n",
       "      <td>0</td>\n",
       "      <td>i.e. `emdbook::curve3d(-sum(dnbinom(y,mu=mu,si...</td>\n",
       "      <td>2019-01-01 00:40:36</td>\n",
       "      <td>2126</td>\n",
       "    </tr>\n",
       "    <tr>\n",
       "      <th>4</th>\n",
       "      <td>723188</td>\n",
       "      <td>385134</td>\n",
       "      <td>0</td>\n",
       "      <td>Don't you mean \"so variance should be $\\sigma^...</td>\n",
       "      <td>2019-01-01 00:41:28</td>\n",
       "      <td>112141</td>\n",
       "    </tr>\n",
       "  </tbody>\n",
       "</table>\n",
       "</div>"
      ],
      "text/plain": [
       "       Id  PostId  Score                                               Text  \\\n",
       "0  723182  385124      0  @BenBolker I don't understand. The fit cannot ...   \n",
       "1  723183  385124      3  You can't add *less* than (`-min(y)`), but you...   \n",
       "2  723186  385137      0  nice. If you felt like doing the work it would...   \n",
       "3  723187  385137      0  i.e. `emdbook::curve3d(-sum(dnbinom(y,mu=mu,si...   \n",
       "4  723188  385134      0  Don't you mean \"so variance should be $\\sigma^...   \n",
       "\n",
       "          CreationDate  UserId  \n",
       "0  2019-01-01 00:06:39   78575  \n",
       "1  2019-01-01 00:09:22    2126  \n",
       "2  2019-01-01 00:32:11    2126  \n",
       "3  2019-01-01 00:40:36    2126  \n",
       "4  2019-01-01 00:41:28  112141  "
      ]
     },
     "execution_count": 6,
     "metadata": {},
     "output_type": "execute_result"
    }
   ],
   "source": [
    "# load comments into sqlite\n",
    "comments.to_sql('comments', con, if_exists='replace', index=False)\n",
    "\n",
    "# read back in to prove that it worked\n",
    "sql = 'SELECT * FROM comments'\n",
    "comments = pd.read_sql(sql, con)\n",
    "comments.head()"
   ]
  },
  {
   "cell_type": "markdown",
   "metadata": {},
   "source": [
    "### Load Other CSVs\n",
    "Now that you have seen the code for loading in the comments.csv now do the same to read and write the posts.csv and users.csv to sqlite. \n",
    "\n"
   ]
  },
  {
   "cell_type": "code",
   "execution_count": 7,
   "metadata": {},
   "outputs": [
    {
     "data": {
      "text/html": [
       "<div>\n",
       "<style scoped>\n",
       "    .dataframe tbody tr th:only-of-type {\n",
       "        vertical-align: middle;\n",
       "    }\n",
       "\n",
       "    .dataframe tbody tr th {\n",
       "        vertical-align: top;\n",
       "    }\n",
       "\n",
       "    .dataframe thead th {\n",
       "        text-align: right;\n",
       "    }\n",
       "</style>\n",
       "<table border=\"1\" class=\"dataframe\">\n",
       "  <thead>\n",
       "    <tr style=\"text-align: right;\">\n",
       "      <th></th>\n",
       "      <th>Id</th>\n",
       "      <th>PostTypeId</th>\n",
       "      <th>AcceptedAnswerId</th>\n",
       "      <th>ParentId</th>\n",
       "      <th>CreationDate</th>\n",
       "      <th>Score</th>\n",
       "      <th>ViewCount</th>\n",
       "      <th>Body</th>\n",
       "      <th>OwnerUserId</th>\n",
       "      <th>OwnerDisplayName</th>\n",
       "      <th>...</th>\n",
       "      <th>LastEditorDisplayName</th>\n",
       "      <th>LastEditDate</th>\n",
       "      <th>LastActivityDate</th>\n",
       "      <th>Title</th>\n",
       "      <th>Tags</th>\n",
       "      <th>AnswerCount</th>\n",
       "      <th>CommentCount</th>\n",
       "      <th>FavoriteCount</th>\n",
       "      <th>ClosedDate</th>\n",
       "      <th>CommunityOwnedDate</th>\n",
       "    </tr>\n",
       "  </thead>\n",
       "  <tbody>\n",
       "    <tr>\n",
       "      <th>0</th>\n",
       "      <td>423497</td>\n",
       "      <td>1</td>\n",
       "      <td>423511</td>\n",
       "      <td>0</td>\n",
       "      <td>2019-08-24 09:39:31</td>\n",
       "      <td>2</td>\n",
       "      <td>68</td>\n",
       "      <td>&lt;p&gt;From wikipedia &lt;a href=\"https://en.wikipedi...</td>\n",
       "      <td>64552</td>\n",
       "      <td>NaN</td>\n",
       "      <td>...</td>\n",
       "      <td>NaN</td>\n",
       "      <td>NaN</td>\n",
       "      <td>2019-08-24 11:38:54</td>\n",
       "      <td>When are biased estimators with lower MSE pref...</td>\n",
       "      <td>&lt;bias&gt;&lt;unbiased-estimator&gt;&lt;mse&gt;</td>\n",
       "      <td>1</td>\n",
       "      <td>0</td>\n",
       "      <td>1</td>\n",
       "      <td>2019-08-25 10:25:24</td>\n",
       "      <td>NaN</td>\n",
       "    </tr>\n",
       "    <tr>\n",
       "      <th>1</th>\n",
       "      <td>423498</td>\n",
       "      <td>1</td>\n",
       "      <td>0</td>\n",
       "      <td>0</td>\n",
       "      <td>2019-08-24 09:47:42</td>\n",
       "      <td>1</td>\n",
       "      <td>24</td>\n",
       "      <td>&lt;p&gt;I am currently doing local sensitivity anal...</td>\n",
       "      <td>87231</td>\n",
       "      <td>NaN</td>\n",
       "      <td>...</td>\n",
       "      <td>NaN</td>\n",
       "      <td>2019-09-06 12:52:32</td>\n",
       "      <td>2019-09-06 12:52:32</td>\n",
       "      <td>How to interpret the result from local sensiti...</td>\n",
       "      <td>&lt;sensitivity-analysis&gt;&lt;elasticity&gt;</td>\n",
       "      <td>1</td>\n",
       "      <td>0</td>\n",
       "      <td>0</td>\n",
       "      <td>NaN</td>\n",
       "      <td>NaN</td>\n",
       "    </tr>\n",
       "    <tr>\n",
       "      <th>2</th>\n",
       "      <td>423499</td>\n",
       "      <td>1</td>\n",
       "      <td>0</td>\n",
       "      <td>0</td>\n",
       "      <td>2019-08-24 09:48:26</td>\n",
       "      <td>1</td>\n",
       "      <td>56</td>\n",
       "      <td>&lt;p&gt;I'm an honours student in psychology doing ...</td>\n",
       "      <td>257207</td>\n",
       "      <td>NaN</td>\n",
       "      <td>...</td>\n",
       "      <td>NaN</td>\n",
       "      <td>NaN</td>\n",
       "      <td>2019-08-25 08:54:17</td>\n",
       "      <td>Power Analysis in G-Power - Mixed Model Anova</td>\n",
       "      <td>&lt;anova&gt;&lt;gpower&gt;</td>\n",
       "      <td>2</td>\n",
       "      <td>0</td>\n",
       "      <td>0</td>\n",
       "      <td>NaN</td>\n",
       "      <td>NaN</td>\n",
       "    </tr>\n",
       "    <tr>\n",
       "      <th>3</th>\n",
       "      <td>423500</td>\n",
       "      <td>2</td>\n",
       "      <td>0</td>\n",
       "      <td>215865</td>\n",
       "      <td>2019-08-24 09:57:01</td>\n",
       "      <td>0</td>\n",
       "      <td>0</td>\n",
       "      <td>&lt;p&gt;Maybe you can look this &lt;a href=\"https://me...</td>\n",
       "      <td>106606</td>\n",
       "      <td>NaN</td>\n",
       "      <td>...</td>\n",
       "      <td>NaN</td>\n",
       "      <td>NaN</td>\n",
       "      <td>2019-08-24 09:57:01</td>\n",
       "      <td>NaN</td>\n",
       "      <td>NaN</td>\n",
       "      <td>0</td>\n",
       "      <td>0</td>\n",
       "      <td>0</td>\n",
       "      <td>NaN</td>\n",
       "      <td>NaN</td>\n",
       "    </tr>\n",
       "    <tr>\n",
       "      <th>4</th>\n",
       "      <td>423502</td>\n",
       "      <td>2</td>\n",
       "      <td>0</td>\n",
       "      <td>423286</td>\n",
       "      <td>2019-08-24 10:44:52</td>\n",
       "      <td>3</td>\n",
       "      <td>0</td>\n",
       "      <td>&lt;blockquote&gt;\\n  &lt;p&gt;Q1) Is my approach valid?&lt;/...</td>\n",
       "      <td>220643</td>\n",
       "      <td>NaN</td>\n",
       "      <td>...</td>\n",
       "      <td>NaN</td>\n",
       "      <td>2019-08-24 12:13:46</td>\n",
       "      <td>2019-08-24 12:13:46</td>\n",
       "      <td>NaN</td>\n",
       "      <td>NaN</td>\n",
       "      <td>0</td>\n",
       "      <td>1</td>\n",
       "      <td>0</td>\n",
       "      <td>NaN</td>\n",
       "      <td>NaN</td>\n",
       "    </tr>\n",
       "  </tbody>\n",
       "</table>\n",
       "<p>5 rows × 21 columns</p>\n",
       "</div>"
      ],
      "text/plain": [
       "       Id  PostTypeId  AcceptedAnswerId  ParentId         CreationDate  Score  \\\n",
       "0  423497           1            423511         0  2019-08-24 09:39:31      2   \n",
       "1  423498           1                 0         0  2019-08-24 09:47:42      1   \n",
       "2  423499           1                 0         0  2019-08-24 09:48:26      1   \n",
       "3  423500           2                 0    215865  2019-08-24 09:57:01      0   \n",
       "4  423502           2                 0    423286  2019-08-24 10:44:52      3   \n",
       "\n",
       "   ViewCount                                               Body  OwnerUserId  \\\n",
       "0         68  <p>From wikipedia <a href=\"https://en.wikipedi...        64552   \n",
       "1         24  <p>I am currently doing local sensitivity anal...        87231   \n",
       "2         56  <p>I'm an honours student in psychology doing ...       257207   \n",
       "3          0  <p>Maybe you can look this <a href=\"https://me...       106606   \n",
       "4          0  <blockquote>\\n  <p>Q1) Is my approach valid?</...       220643   \n",
       "\n",
       "  OwnerDisplayName  ...  LastEditorDisplayName         LastEditDate  \\\n",
       "0              NaN  ...                    NaN                  NaN   \n",
       "1              NaN  ...                    NaN  2019-09-06 12:52:32   \n",
       "2              NaN  ...                    NaN                  NaN   \n",
       "3              NaN  ...                    NaN                  NaN   \n",
       "4              NaN  ...                    NaN  2019-08-24 12:13:46   \n",
       "\n",
       "      LastActivityDate                                              Title  \\\n",
       "0  2019-08-24 11:38:54  When are biased estimators with lower MSE pref...   \n",
       "1  2019-09-06 12:52:32  How to interpret the result from local sensiti...   \n",
       "2  2019-08-25 08:54:17      Power Analysis in G-Power - Mixed Model Anova   \n",
       "3  2019-08-24 09:57:01                                                NaN   \n",
       "4  2019-08-24 12:13:46                                                NaN   \n",
       "\n",
       "                                 Tags AnswerCount  CommentCount  \\\n",
       "0     <bias><unbiased-estimator><mse>           1             0   \n",
       "1  <sensitivity-analysis><elasticity>           1             0   \n",
       "2                     <anova><gpower>           2             0   \n",
       "3                                 NaN           0             0   \n",
       "4                                 NaN           0             1   \n",
       "\n",
       "   FavoriteCount           ClosedDate CommunityOwnedDate  \n",
       "0              1  2019-08-25 10:25:24                NaN  \n",
       "1              0                  NaN                NaN  \n",
       "2              0                  NaN                NaN  \n",
       "3              0                  NaN                NaN  \n",
       "4              0                  NaN                NaN  \n",
       "\n",
       "[5 rows x 21 columns]"
      ]
     },
     "execution_count": 7,
     "metadata": {},
     "output_type": "execute_result"
    }
   ],
   "source": [
    "posts = pd.read_csv('posts.csv')\n",
    "posts.head()"
   ]
  },
  {
   "cell_type": "code",
   "execution_count": 8,
   "metadata": {},
   "outputs": [
    {
     "data": {
      "text/html": [
       "<div>\n",
       "<style scoped>\n",
       "    .dataframe tbody tr th:only-of-type {\n",
       "        vertical-align: middle;\n",
       "    }\n",
       "\n",
       "    .dataframe tbody tr th {\n",
       "        vertical-align: top;\n",
       "    }\n",
       "\n",
       "    .dataframe thead th {\n",
       "        text-align: right;\n",
       "    }\n",
       "</style>\n",
       "<table border=\"1\" class=\"dataframe\">\n",
       "  <thead>\n",
       "    <tr style=\"text-align: right;\">\n",
       "      <th></th>\n",
       "      <th>Id</th>\n",
       "      <th>PostTypeId</th>\n",
       "      <th>AcceptedAnswerId</th>\n",
       "      <th>ParentId</th>\n",
       "      <th>CreationDate</th>\n",
       "      <th>Score</th>\n",
       "      <th>ViewCount</th>\n",
       "      <th>Body</th>\n",
       "      <th>OwnerUserId</th>\n",
       "      <th>OwnerDisplayName</th>\n",
       "      <th>...</th>\n",
       "      <th>LastEditorDisplayName</th>\n",
       "      <th>LastEditDate</th>\n",
       "      <th>LastActivityDate</th>\n",
       "      <th>Title</th>\n",
       "      <th>Tags</th>\n",
       "      <th>AnswerCount</th>\n",
       "      <th>CommentCount</th>\n",
       "      <th>FavoriteCount</th>\n",
       "      <th>ClosedDate</th>\n",
       "      <th>CommunityOwnedDate</th>\n",
       "    </tr>\n",
       "  </thead>\n",
       "  <tbody>\n",
       "    <tr>\n",
       "      <th>0</th>\n",
       "      <td>423497</td>\n",
       "      <td>1</td>\n",
       "      <td>423511</td>\n",
       "      <td>0</td>\n",
       "      <td>2019-08-24 09:39:31</td>\n",
       "      <td>2</td>\n",
       "      <td>68</td>\n",
       "      <td>&lt;p&gt;From wikipedia &lt;a href=\"https://en.wikipedi...</td>\n",
       "      <td>64552</td>\n",
       "      <td>None</td>\n",
       "      <td>...</td>\n",
       "      <td>None</td>\n",
       "      <td>None</td>\n",
       "      <td>2019-08-24 11:38:54</td>\n",
       "      <td>When are biased estimators with lower MSE pref...</td>\n",
       "      <td>&lt;bias&gt;&lt;unbiased-estimator&gt;&lt;mse&gt;</td>\n",
       "      <td>1</td>\n",
       "      <td>0</td>\n",
       "      <td>1</td>\n",
       "      <td>2019-08-25 10:25:24</td>\n",
       "      <td>None</td>\n",
       "    </tr>\n",
       "    <tr>\n",
       "      <th>1</th>\n",
       "      <td>423498</td>\n",
       "      <td>1</td>\n",
       "      <td>0</td>\n",
       "      <td>0</td>\n",
       "      <td>2019-08-24 09:47:42</td>\n",
       "      <td>1</td>\n",
       "      <td>24</td>\n",
       "      <td>&lt;p&gt;I am currently doing local sensitivity anal...</td>\n",
       "      <td>87231</td>\n",
       "      <td>None</td>\n",
       "      <td>...</td>\n",
       "      <td>None</td>\n",
       "      <td>2019-09-06 12:52:32</td>\n",
       "      <td>2019-09-06 12:52:32</td>\n",
       "      <td>How to interpret the result from local sensiti...</td>\n",
       "      <td>&lt;sensitivity-analysis&gt;&lt;elasticity&gt;</td>\n",
       "      <td>1</td>\n",
       "      <td>0</td>\n",
       "      <td>0</td>\n",
       "      <td>None</td>\n",
       "      <td>None</td>\n",
       "    </tr>\n",
       "    <tr>\n",
       "      <th>2</th>\n",
       "      <td>423499</td>\n",
       "      <td>1</td>\n",
       "      <td>0</td>\n",
       "      <td>0</td>\n",
       "      <td>2019-08-24 09:48:26</td>\n",
       "      <td>1</td>\n",
       "      <td>56</td>\n",
       "      <td>&lt;p&gt;I'm an honours student in psychology doing ...</td>\n",
       "      <td>257207</td>\n",
       "      <td>None</td>\n",
       "      <td>...</td>\n",
       "      <td>None</td>\n",
       "      <td>None</td>\n",
       "      <td>2019-08-25 08:54:17</td>\n",
       "      <td>Power Analysis in G-Power - Mixed Model Anova</td>\n",
       "      <td>&lt;anova&gt;&lt;gpower&gt;</td>\n",
       "      <td>2</td>\n",
       "      <td>0</td>\n",
       "      <td>0</td>\n",
       "      <td>None</td>\n",
       "      <td>None</td>\n",
       "    </tr>\n",
       "    <tr>\n",
       "      <th>3</th>\n",
       "      <td>423500</td>\n",
       "      <td>2</td>\n",
       "      <td>0</td>\n",
       "      <td>215865</td>\n",
       "      <td>2019-08-24 09:57:01</td>\n",
       "      <td>0</td>\n",
       "      <td>0</td>\n",
       "      <td>&lt;p&gt;Maybe you can look this &lt;a href=\"https://me...</td>\n",
       "      <td>106606</td>\n",
       "      <td>None</td>\n",
       "      <td>...</td>\n",
       "      <td>None</td>\n",
       "      <td>None</td>\n",
       "      <td>2019-08-24 09:57:01</td>\n",
       "      <td>None</td>\n",
       "      <td>None</td>\n",
       "      <td>0</td>\n",
       "      <td>0</td>\n",
       "      <td>0</td>\n",
       "      <td>None</td>\n",
       "      <td>None</td>\n",
       "    </tr>\n",
       "    <tr>\n",
       "      <th>4</th>\n",
       "      <td>423502</td>\n",
       "      <td>2</td>\n",
       "      <td>0</td>\n",
       "      <td>423286</td>\n",
       "      <td>2019-08-24 10:44:52</td>\n",
       "      <td>3</td>\n",
       "      <td>0</td>\n",
       "      <td>&lt;blockquote&gt;\\n  &lt;p&gt;Q1) Is my approach valid?&lt;/...</td>\n",
       "      <td>220643</td>\n",
       "      <td>None</td>\n",
       "      <td>...</td>\n",
       "      <td>None</td>\n",
       "      <td>2019-08-24 12:13:46</td>\n",
       "      <td>2019-08-24 12:13:46</td>\n",
       "      <td>None</td>\n",
       "      <td>None</td>\n",
       "      <td>0</td>\n",
       "      <td>1</td>\n",
       "      <td>0</td>\n",
       "      <td>None</td>\n",
       "      <td>None</td>\n",
       "    </tr>\n",
       "  </tbody>\n",
       "</table>\n",
       "<p>5 rows × 21 columns</p>\n",
       "</div>"
      ],
      "text/plain": [
       "       Id  PostTypeId  AcceptedAnswerId  ParentId         CreationDate  Score  \\\n",
       "0  423497           1            423511         0  2019-08-24 09:39:31      2   \n",
       "1  423498           1                 0         0  2019-08-24 09:47:42      1   \n",
       "2  423499           1                 0         0  2019-08-24 09:48:26      1   \n",
       "3  423500           2                 0    215865  2019-08-24 09:57:01      0   \n",
       "4  423502           2                 0    423286  2019-08-24 10:44:52      3   \n",
       "\n",
       "   ViewCount                                               Body  OwnerUserId  \\\n",
       "0         68  <p>From wikipedia <a href=\"https://en.wikipedi...        64552   \n",
       "1         24  <p>I am currently doing local sensitivity anal...        87231   \n",
       "2         56  <p>I'm an honours student in psychology doing ...       257207   \n",
       "3          0  <p>Maybe you can look this <a href=\"https://me...       106606   \n",
       "4          0  <blockquote>\\n  <p>Q1) Is my approach valid?</...       220643   \n",
       "\n",
       "  OwnerDisplayName  ...  LastEditorDisplayName         LastEditDate  \\\n",
       "0             None  ...                   None                 None   \n",
       "1             None  ...                   None  2019-09-06 12:52:32   \n",
       "2             None  ...                   None                 None   \n",
       "3             None  ...                   None                 None   \n",
       "4             None  ...                   None  2019-08-24 12:13:46   \n",
       "\n",
       "      LastActivityDate                                              Title  \\\n",
       "0  2019-08-24 11:38:54  When are biased estimators with lower MSE pref...   \n",
       "1  2019-09-06 12:52:32  How to interpret the result from local sensiti...   \n",
       "2  2019-08-25 08:54:17      Power Analysis in G-Power - Mixed Model Anova   \n",
       "3  2019-08-24 09:57:01                                               None   \n",
       "4  2019-08-24 12:13:46                                               None   \n",
       "\n",
       "                                 Tags AnswerCount  CommentCount  \\\n",
       "0     <bias><unbiased-estimator><mse>           1             0   \n",
       "1  <sensitivity-analysis><elasticity>           1             0   \n",
       "2                     <anova><gpower>           2             0   \n",
       "3                                None           0             0   \n",
       "4                                None           0             1   \n",
       "\n",
       "   FavoriteCount           ClosedDate CommunityOwnedDate  \n",
       "0              1  2019-08-25 10:25:24               None  \n",
       "1              0                 None               None  \n",
       "2              0                 None               None  \n",
       "3              0                 None               None  \n",
       "4              0                 None               None  \n",
       "\n",
       "[5 rows x 21 columns]"
      ]
     },
     "execution_count": 8,
     "metadata": {},
     "output_type": "execute_result"
    }
   ],
   "source": [
    "# load posts into sqlite\n",
    "posts.to_sql('posts', con, if_exists='replace', index=False)\n",
    "\n",
    "# read back in to prove that it worked\n",
    "sql = 'SELECT * FROM posts'\n",
    "posts = pd.read_sql(sql, con)\n",
    "posts.head()"
   ]
  },
  {
   "cell_type": "code",
   "execution_count": 9,
   "metadata": {},
   "outputs": [
    {
     "data": {
      "text/html": [
       "<div>\n",
       "<style scoped>\n",
       "    .dataframe tbody tr th:only-of-type {\n",
       "        vertical-align: middle;\n",
       "    }\n",
       "\n",
       "    .dataframe tbody tr th {\n",
       "        vertical-align: top;\n",
       "    }\n",
       "\n",
       "    .dataframe thead th {\n",
       "        text-align: right;\n",
       "    }\n",
       "</style>\n",
       "<table border=\"1\" class=\"dataframe\">\n",
       "  <thead>\n",
       "    <tr style=\"text-align: right;\">\n",
       "      <th></th>\n",
       "      <th>Id</th>\n",
       "      <th>Reputation</th>\n",
       "      <th>CreationDate</th>\n",
       "      <th>DisplayName</th>\n",
       "      <th>LastAccessDate</th>\n",
       "      <th>WebsiteUrl</th>\n",
       "      <th>Location</th>\n",
       "      <th>AboutMe</th>\n",
       "      <th>Views</th>\n",
       "      <th>UpVotes</th>\n",
       "      <th>DownVotes</th>\n",
       "      <th>ProfileImageUrl</th>\n",
       "      <th>AccountId</th>\n",
       "    </tr>\n",
       "  </thead>\n",
       "  <tbody>\n",
       "    <tr>\n",
       "      <th>0</th>\n",
       "      <td>157607</td>\n",
       "      <td>31</td>\n",
       "      <td>2017-04-17 14:50:42</td>\n",
       "      <td>user157607</td>\n",
       "      <td>2019-07-23 16:44:08</td>\n",
       "      <td>NaN</td>\n",
       "      <td>NaN</td>\n",
       "      <td>NaN</td>\n",
       "      <td>0</td>\n",
       "      <td>0</td>\n",
       "      <td>0</td>\n",
       "      <td>https://www.gravatar.com/avatar/2efb161849efa4...</td>\n",
       "      <td>10705183</td>\n",
       "    </tr>\n",
       "    <tr>\n",
       "      <th>1</th>\n",
       "      <td>157656</td>\n",
       "      <td>101</td>\n",
       "      <td>2017-04-17 20:08:20</td>\n",
       "      <td>user102859</td>\n",
       "      <td>2019-06-26 13:42:13</td>\n",
       "      <td>NaN</td>\n",
       "      <td>NaN</td>\n",
       "      <td>NaN</td>\n",
       "      <td>3</td>\n",
       "      <td>0</td>\n",
       "      <td>0</td>\n",
       "      <td>https://i.stack.imgur.com/eY4ka.jpg?s=128&amp;g=1</td>\n",
       "      <td>10567606</td>\n",
       "    </tr>\n",
       "    <tr>\n",
       "      <th>2</th>\n",
       "      <td>157704</td>\n",
       "      <td>133</td>\n",
       "      <td>2017-04-18 05:10:47</td>\n",
       "      <td>jupiar</td>\n",
       "      <td>2019-11-25 13:32:27</td>\n",
       "      <td>NaN</td>\n",
       "      <td>Shanghai, China</td>\n",
       "      <td>&lt;p&gt;Originally from the U.K, I have an Undergra...</td>\n",
       "      <td>1</td>\n",
       "      <td>1</td>\n",
       "      <td>0</td>\n",
       "      <td>https://www.gravatar.com/avatar/720e20205122c5...</td>\n",
       "      <td>9501631</td>\n",
       "    </tr>\n",
       "    <tr>\n",
       "      <th>3</th>\n",
       "      <td>157709</td>\n",
       "      <td>155</td>\n",
       "      <td>2017-04-18 06:39:18</td>\n",
       "      <td>farmer</td>\n",
       "      <td>2019-02-17 19:44:24</td>\n",
       "      <td>NaN</td>\n",
       "      <td>NaN</td>\n",
       "      <td>NaN</td>\n",
       "      <td>16</td>\n",
       "      <td>0</td>\n",
       "      <td>0</td>\n",
       "      <td>https://www.gravatar.com/avatar/0f8c4bde3d8f25...</td>\n",
       "      <td>10709837</td>\n",
       "    </tr>\n",
       "    <tr>\n",
       "      <th>4</th>\n",
       "      <td>157755</td>\n",
       "      <td>101</td>\n",
       "      <td>2017-04-18 12:56:17</td>\n",
       "      <td>Miki P</td>\n",
       "      <td>2019-08-12 17:02:21</td>\n",
       "      <td>NaN</td>\n",
       "      <td>NaN</td>\n",
       "      <td>NaN</td>\n",
       "      <td>1</td>\n",
       "      <td>9</td>\n",
       "      <td>0</td>\n",
       "      <td>https://www.gravatar.com/avatar/af088558cd81c5...</td>\n",
       "      <td>7969290</td>\n",
       "    </tr>\n",
       "  </tbody>\n",
       "</table>\n",
       "</div>"
      ],
      "text/plain": [
       "       Id  Reputation         CreationDate DisplayName       LastAccessDate  \\\n",
       "0  157607          31  2017-04-17 14:50:42  user157607  2019-07-23 16:44:08   \n",
       "1  157656         101  2017-04-17 20:08:20  user102859  2019-06-26 13:42:13   \n",
       "2  157704         133  2017-04-18 05:10:47      jupiar  2019-11-25 13:32:27   \n",
       "3  157709         155  2017-04-18 06:39:18      farmer  2019-02-17 19:44:24   \n",
       "4  157755         101  2017-04-18 12:56:17      Miki P  2019-08-12 17:02:21   \n",
       "\n",
       "  WebsiteUrl         Location  \\\n",
       "0        NaN              NaN   \n",
       "1        NaN              NaN   \n",
       "2        NaN  Shanghai, China   \n",
       "3        NaN              NaN   \n",
       "4        NaN              NaN   \n",
       "\n",
       "                                             AboutMe  Views  UpVotes  \\\n",
       "0                                                NaN      0        0   \n",
       "1                                                NaN      3        0   \n",
       "2  <p>Originally from the U.K, I have an Undergra...      1        1   \n",
       "3                                                NaN     16        0   \n",
       "4                                                NaN      1        9   \n",
       "\n",
       "   DownVotes                                    ProfileImageUrl  AccountId  \n",
       "0          0  https://www.gravatar.com/avatar/2efb161849efa4...   10705183  \n",
       "1          0      https://i.stack.imgur.com/eY4ka.jpg?s=128&g=1   10567606  \n",
       "2          0  https://www.gravatar.com/avatar/720e20205122c5...    9501631  \n",
       "3          0  https://www.gravatar.com/avatar/0f8c4bde3d8f25...   10709837  \n",
       "4          0  https://www.gravatar.com/avatar/af088558cd81c5...    7969290  "
      ]
     },
     "execution_count": 9,
     "metadata": {},
     "output_type": "execute_result"
    }
   ],
   "source": [
    "users = pd.read_csv('users.csv')\n",
    "users.head()"
   ]
  },
  {
   "cell_type": "code",
   "execution_count": 10,
   "metadata": {},
   "outputs": [
    {
     "data": {
      "text/html": [
       "<div>\n",
       "<style scoped>\n",
       "    .dataframe tbody tr th:only-of-type {\n",
       "        vertical-align: middle;\n",
       "    }\n",
       "\n",
       "    .dataframe tbody tr th {\n",
       "        vertical-align: top;\n",
       "    }\n",
       "\n",
       "    .dataframe thead th {\n",
       "        text-align: right;\n",
       "    }\n",
       "</style>\n",
       "<table border=\"1\" class=\"dataframe\">\n",
       "  <thead>\n",
       "    <tr style=\"text-align: right;\">\n",
       "      <th></th>\n",
       "      <th>Id</th>\n",
       "      <th>Reputation</th>\n",
       "      <th>CreationDate</th>\n",
       "      <th>DisplayName</th>\n",
       "      <th>LastAccessDate</th>\n",
       "      <th>WebsiteUrl</th>\n",
       "      <th>Location</th>\n",
       "      <th>AboutMe</th>\n",
       "      <th>Views</th>\n",
       "      <th>UpVotes</th>\n",
       "      <th>DownVotes</th>\n",
       "      <th>ProfileImageUrl</th>\n",
       "      <th>AccountId</th>\n",
       "    </tr>\n",
       "  </thead>\n",
       "  <tbody>\n",
       "    <tr>\n",
       "      <th>0</th>\n",
       "      <td>157607</td>\n",
       "      <td>31</td>\n",
       "      <td>2017-04-17 14:50:42</td>\n",
       "      <td>user157607</td>\n",
       "      <td>2019-07-23 16:44:08</td>\n",
       "      <td>None</td>\n",
       "      <td>None</td>\n",
       "      <td>None</td>\n",
       "      <td>0</td>\n",
       "      <td>0</td>\n",
       "      <td>0</td>\n",
       "      <td>https://www.gravatar.com/avatar/2efb161849efa4...</td>\n",
       "      <td>10705183</td>\n",
       "    </tr>\n",
       "    <tr>\n",
       "      <th>1</th>\n",
       "      <td>157656</td>\n",
       "      <td>101</td>\n",
       "      <td>2017-04-17 20:08:20</td>\n",
       "      <td>user102859</td>\n",
       "      <td>2019-06-26 13:42:13</td>\n",
       "      <td>None</td>\n",
       "      <td>None</td>\n",
       "      <td>None</td>\n",
       "      <td>3</td>\n",
       "      <td>0</td>\n",
       "      <td>0</td>\n",
       "      <td>https://i.stack.imgur.com/eY4ka.jpg?s=128&amp;g=1</td>\n",
       "      <td>10567606</td>\n",
       "    </tr>\n",
       "    <tr>\n",
       "      <th>2</th>\n",
       "      <td>157704</td>\n",
       "      <td>133</td>\n",
       "      <td>2017-04-18 05:10:47</td>\n",
       "      <td>jupiar</td>\n",
       "      <td>2019-11-25 13:32:27</td>\n",
       "      <td>None</td>\n",
       "      <td>Shanghai, China</td>\n",
       "      <td>&lt;p&gt;Originally from the U.K, I have an Undergra...</td>\n",
       "      <td>1</td>\n",
       "      <td>1</td>\n",
       "      <td>0</td>\n",
       "      <td>https://www.gravatar.com/avatar/720e20205122c5...</td>\n",
       "      <td>9501631</td>\n",
       "    </tr>\n",
       "    <tr>\n",
       "      <th>3</th>\n",
       "      <td>157709</td>\n",
       "      <td>155</td>\n",
       "      <td>2017-04-18 06:39:18</td>\n",
       "      <td>farmer</td>\n",
       "      <td>2019-02-17 19:44:24</td>\n",
       "      <td>None</td>\n",
       "      <td>None</td>\n",
       "      <td>None</td>\n",
       "      <td>16</td>\n",
       "      <td>0</td>\n",
       "      <td>0</td>\n",
       "      <td>https://www.gravatar.com/avatar/0f8c4bde3d8f25...</td>\n",
       "      <td>10709837</td>\n",
       "    </tr>\n",
       "    <tr>\n",
       "      <th>4</th>\n",
       "      <td>157755</td>\n",
       "      <td>101</td>\n",
       "      <td>2017-04-18 12:56:17</td>\n",
       "      <td>Miki P</td>\n",
       "      <td>2019-08-12 17:02:21</td>\n",
       "      <td>None</td>\n",
       "      <td>None</td>\n",
       "      <td>None</td>\n",
       "      <td>1</td>\n",
       "      <td>9</td>\n",
       "      <td>0</td>\n",
       "      <td>https://www.gravatar.com/avatar/af088558cd81c5...</td>\n",
       "      <td>7969290</td>\n",
       "    </tr>\n",
       "  </tbody>\n",
       "</table>\n",
       "</div>"
      ],
      "text/plain": [
       "       Id  Reputation         CreationDate DisplayName       LastAccessDate  \\\n",
       "0  157607          31  2017-04-17 14:50:42  user157607  2019-07-23 16:44:08   \n",
       "1  157656         101  2017-04-17 20:08:20  user102859  2019-06-26 13:42:13   \n",
       "2  157704         133  2017-04-18 05:10:47      jupiar  2019-11-25 13:32:27   \n",
       "3  157709         155  2017-04-18 06:39:18      farmer  2019-02-17 19:44:24   \n",
       "4  157755         101  2017-04-18 12:56:17      Miki P  2019-08-12 17:02:21   \n",
       "\n",
       "  WebsiteUrl         Location  \\\n",
       "0       None             None   \n",
       "1       None             None   \n",
       "2       None  Shanghai, China   \n",
       "3       None             None   \n",
       "4       None             None   \n",
       "\n",
       "                                             AboutMe  Views  UpVotes  \\\n",
       "0                                               None      0        0   \n",
       "1                                               None      3        0   \n",
       "2  <p>Originally from the U.K, I have an Undergra...      1        1   \n",
       "3                                               None     16        0   \n",
       "4                                               None      1        9   \n",
       "\n",
       "   DownVotes                                    ProfileImageUrl  AccountId  \n",
       "0          0  https://www.gravatar.com/avatar/2efb161849efa4...   10705183  \n",
       "1          0      https://i.stack.imgur.com/eY4ka.jpg?s=128&g=1   10567606  \n",
       "2          0  https://www.gravatar.com/avatar/720e20205122c5...    9501631  \n",
       "3          0  https://www.gravatar.com/avatar/0f8c4bde3d8f25...   10709837  \n",
       "4          0  https://www.gravatar.com/avatar/af088558cd81c5...    7969290  "
      ]
     },
     "execution_count": 10,
     "metadata": {},
     "output_type": "execute_result"
    }
   ],
   "source": [
    "# load posts into sqlite\n",
    "users.to_sql('users', con, if_exists='replace', index=False)\n",
    "\n",
    "# read back in to prove that it worked\n",
    "sql = 'SELECT * FROM users'\n",
    "users = pd.read_sql(sql, con)\n",
    "users.head()"
   ]
  },
  {
   "cell_type": "markdown",
   "metadata": {},
   "source": [
    "### Drop Duplicates\n",
    "Look for and drop any duplicates in all 3 of the tables (if they exist). Use Pandas to do this. If you find duplicates, you will need to rewrite the table."
   ]
  },
  {
   "cell_type": "code",
   "execution_count": 11,
   "metadata": {},
   "outputs": [
    {
     "name": "stdout",
     "output_type": "stream",
     "text": [
      "Empty DataFrame\n",
      "Columns: [Id, PostId, Score, Text, CreationDate, UserId]\n",
      "Index: []\n"
     ]
    }
   ],
   "source": [
    "duplicates = comments[comments.duplicated()]\n",
    "print(duplicates)"
   ]
  },
  {
   "cell_type": "code",
   "execution_count": 12,
   "metadata": {},
   "outputs": [
    {
     "name": "stdout",
     "output_type": "stream",
     "text": [
      "Empty DataFrame\n",
      "Columns: [Id, PostTypeId, AcceptedAnswerId, ParentId, CreationDate, Score, ViewCount, Body, OwnerUserId, OwnerDisplayName, LastEditorUserId, LastEditorDisplayName, LastEditDate, LastActivityDate, Title, Tags, AnswerCount, CommentCount, FavoriteCount, ClosedDate, CommunityOwnedDate]\n",
      "Index: []\n",
      "\n",
      "[0 rows x 21 columns]\n"
     ]
    }
   ],
   "source": [
    "duplicates = posts[posts.duplicated()]\n",
    "print(duplicates)"
   ]
  },
  {
   "cell_type": "code",
   "execution_count": 13,
   "metadata": {},
   "outputs": [
    {
     "name": "stdout",
     "output_type": "stream",
     "text": [
      "Empty DataFrame\n",
      "Columns: [Id, Reputation, CreationDate, DisplayName, LastAccessDate, WebsiteUrl, Location, AboutMe, Views, UpVotes, DownVotes, ProfileImageUrl, AccountId]\n",
      "Index: []\n"
     ]
    }
   ],
   "source": [
    "duplicates = users[users.duplicated()]\n",
    "print(duplicates)"
   ]
  },
  {
   "cell_type": "markdown",
   "metadata": {},
   "source": [
    "## Review the Data\n",
    "\n",
    "Spend some time reviewing the data.  Understand what data we have, think about how that data can be used to assist in the initiative of understanding how ChatData is used in the real world.  Is the data organised in a way that would lend itself to being manged in a relational database?  How would the different tables be connected?  What are the primary and foreign keys?  Would this give you a 3NF model?\n",
    "\n",
    "Also think about security and ethics.  Is there personal data in here?  Could individuals be identified through this data?  It it ethical to use the data in this way?"
   ]
  },
  {
   "cell_type": "code",
   "execution_count": 14,
   "metadata": {},
   "outputs": [
    {
     "data": {
      "text/plain": [
       "Index(['Id', 'Reputation', 'CreationDate', 'DisplayName', 'LastAccessDate',\n",
       "       'WebsiteUrl', 'Location', 'AboutMe', 'Views', 'UpVotes', 'DownVotes',\n",
       "       'ProfileImageUrl', 'AccountId'],\n",
       "      dtype='object')"
      ]
     },
     "execution_count": 14,
     "metadata": {},
     "output_type": "execute_result"
    }
   ],
   "source": [
    "users.columns"
   ]
  },
  {
   "cell_type": "code",
   "execution_count": 15,
   "metadata": {},
   "outputs": [
    {
     "data": {
      "text/html": [
       "<div>\n",
       "<style scoped>\n",
       "    .dataframe tbody tr th:only-of-type {\n",
       "        vertical-align: middle;\n",
       "    }\n",
       "\n",
       "    .dataframe tbody tr th {\n",
       "        vertical-align: top;\n",
       "    }\n",
       "\n",
       "    .dataframe thead th {\n",
       "        text-align: right;\n",
       "    }\n",
       "</style>\n",
       "<table border=\"1\" class=\"dataframe\">\n",
       "  <thead>\n",
       "    <tr style=\"text-align: right;\">\n",
       "      <th></th>\n",
       "      <th>Id</th>\n",
       "      <th>Reputation</th>\n",
       "      <th>CreationDate</th>\n",
       "      <th>DisplayName</th>\n",
       "      <th>LastAccessDate</th>\n",
       "      <th>WebsiteUrl</th>\n",
       "      <th>Location</th>\n",
       "      <th>AboutMe</th>\n",
       "      <th>Views</th>\n",
       "      <th>UpVotes</th>\n",
       "      <th>DownVotes</th>\n",
       "      <th>ProfileImageUrl</th>\n",
       "      <th>AccountId</th>\n",
       "    </tr>\n",
       "  </thead>\n",
       "  <tbody>\n",
       "    <tr>\n",
       "      <th>0</th>\n",
       "      <td>157607</td>\n",
       "      <td>31</td>\n",
       "      <td>2017-04-17 14:50:42</td>\n",
       "      <td>user157607</td>\n",
       "      <td>2019-07-23 16:44:08</td>\n",
       "      <td>None</td>\n",
       "      <td>None</td>\n",
       "      <td>None</td>\n",
       "      <td>0</td>\n",
       "      <td>0</td>\n",
       "      <td>0</td>\n",
       "      <td>https://www.gravatar.com/avatar/2efb161849efa4...</td>\n",
       "      <td>10705183</td>\n",
       "    </tr>\n",
       "    <tr>\n",
       "      <th>1</th>\n",
       "      <td>157656</td>\n",
       "      <td>101</td>\n",
       "      <td>2017-04-17 20:08:20</td>\n",
       "      <td>user102859</td>\n",
       "      <td>2019-06-26 13:42:13</td>\n",
       "      <td>None</td>\n",
       "      <td>None</td>\n",
       "      <td>None</td>\n",
       "      <td>3</td>\n",
       "      <td>0</td>\n",
       "      <td>0</td>\n",
       "      <td>https://i.stack.imgur.com/eY4ka.jpg?s=128&amp;g=1</td>\n",
       "      <td>10567606</td>\n",
       "    </tr>\n",
       "    <tr>\n",
       "      <th>2</th>\n",
       "      <td>157704</td>\n",
       "      <td>133</td>\n",
       "      <td>2017-04-18 05:10:47</td>\n",
       "      <td>jupiar</td>\n",
       "      <td>2019-11-25 13:32:27</td>\n",
       "      <td>None</td>\n",
       "      <td>Shanghai, China</td>\n",
       "      <td>&lt;p&gt;Originally from the U.K, I have an Undergra...</td>\n",
       "      <td>1</td>\n",
       "      <td>1</td>\n",
       "      <td>0</td>\n",
       "      <td>https://www.gravatar.com/avatar/720e20205122c5...</td>\n",
       "      <td>9501631</td>\n",
       "    </tr>\n",
       "    <tr>\n",
       "      <th>3</th>\n",
       "      <td>157709</td>\n",
       "      <td>155</td>\n",
       "      <td>2017-04-18 06:39:18</td>\n",
       "      <td>farmer</td>\n",
       "      <td>2019-02-17 19:44:24</td>\n",
       "      <td>None</td>\n",
       "      <td>None</td>\n",
       "      <td>None</td>\n",
       "      <td>16</td>\n",
       "      <td>0</td>\n",
       "      <td>0</td>\n",
       "      <td>https://www.gravatar.com/avatar/0f8c4bde3d8f25...</td>\n",
       "      <td>10709837</td>\n",
       "    </tr>\n",
       "    <tr>\n",
       "      <th>4</th>\n",
       "      <td>157755</td>\n",
       "      <td>101</td>\n",
       "      <td>2017-04-18 12:56:17</td>\n",
       "      <td>Miki P</td>\n",
       "      <td>2019-08-12 17:02:21</td>\n",
       "      <td>None</td>\n",
       "      <td>None</td>\n",
       "      <td>None</td>\n",
       "      <td>1</td>\n",
       "      <td>9</td>\n",
       "      <td>0</td>\n",
       "      <td>https://www.gravatar.com/avatar/af088558cd81c5...</td>\n",
       "      <td>7969290</td>\n",
       "    </tr>\n",
       "  </tbody>\n",
       "</table>\n",
       "</div>"
      ],
      "text/plain": [
       "       Id  Reputation         CreationDate DisplayName       LastAccessDate  \\\n",
       "0  157607          31  2017-04-17 14:50:42  user157607  2019-07-23 16:44:08   \n",
       "1  157656         101  2017-04-17 20:08:20  user102859  2019-06-26 13:42:13   \n",
       "2  157704         133  2017-04-18 05:10:47      jupiar  2019-11-25 13:32:27   \n",
       "3  157709         155  2017-04-18 06:39:18      farmer  2019-02-17 19:44:24   \n",
       "4  157755         101  2017-04-18 12:56:17      Miki P  2019-08-12 17:02:21   \n",
       "\n",
       "  WebsiteUrl         Location  \\\n",
       "0       None             None   \n",
       "1       None             None   \n",
       "2       None  Shanghai, China   \n",
       "3       None             None   \n",
       "4       None             None   \n",
       "\n",
       "                                             AboutMe  Views  UpVotes  \\\n",
       "0                                               None      0        0   \n",
       "1                                               None      3        0   \n",
       "2  <p>Originally from the U.K, I have an Undergra...      1        1   \n",
       "3                                               None     16        0   \n",
       "4                                               None      1        9   \n",
       "\n",
       "   DownVotes                                    ProfileImageUrl  AccountId  \n",
       "0          0  https://www.gravatar.com/avatar/2efb161849efa4...   10705183  \n",
       "1          0      https://i.stack.imgur.com/eY4ka.jpg?s=128&g=1   10567606  \n",
       "2          0  https://www.gravatar.com/avatar/720e20205122c5...    9501631  \n",
       "3          0  https://www.gravatar.com/avatar/0f8c4bde3d8f25...   10709837  \n",
       "4          0  https://www.gravatar.com/avatar/af088558cd81c5...    7969290  "
      ]
     },
     "execution_count": 15,
     "metadata": {},
     "output_type": "execute_result"
    }
   ],
   "source": [
    "users.head()"
   ]
  },
  {
   "cell_type": "code",
   "execution_count": 16,
   "metadata": {},
   "outputs": [
    {
     "data": {
      "text/plain": [
       "Index(['Id', 'PostId', 'Score', 'Text', 'CreationDate', 'UserId'], dtype='object')"
      ]
     },
     "execution_count": 16,
     "metadata": {},
     "output_type": "execute_result"
    }
   ],
   "source": [
    "comments.columns"
   ]
  },
  {
   "cell_type": "code",
   "execution_count": 17,
   "metadata": {},
   "outputs": [
    {
     "data": {
      "text/html": [
       "<div>\n",
       "<style scoped>\n",
       "    .dataframe tbody tr th:only-of-type {\n",
       "        vertical-align: middle;\n",
       "    }\n",
       "\n",
       "    .dataframe tbody tr th {\n",
       "        vertical-align: top;\n",
       "    }\n",
       "\n",
       "    .dataframe thead th {\n",
       "        text-align: right;\n",
       "    }\n",
       "</style>\n",
       "<table border=\"1\" class=\"dataframe\">\n",
       "  <thead>\n",
       "    <tr style=\"text-align: right;\">\n",
       "      <th></th>\n",
       "      <th>Id</th>\n",
       "      <th>PostId</th>\n",
       "      <th>Score</th>\n",
       "      <th>Text</th>\n",
       "      <th>CreationDate</th>\n",
       "      <th>UserId</th>\n",
       "    </tr>\n",
       "  </thead>\n",
       "  <tbody>\n",
       "    <tr>\n",
       "      <th>0</th>\n",
       "      <td>723182</td>\n",
       "      <td>385124</td>\n",
       "      <td>0</td>\n",
       "      <td>@BenBolker I don't understand. The fit cannot ...</td>\n",
       "      <td>2019-01-01 00:06:39</td>\n",
       "      <td>78575</td>\n",
       "    </tr>\n",
       "    <tr>\n",
       "      <th>1</th>\n",
       "      <td>723183</td>\n",
       "      <td>385124</td>\n",
       "      <td>3</td>\n",
       "      <td>You can't add *less* than (`-min(y)`), but you...</td>\n",
       "      <td>2019-01-01 00:09:22</td>\n",
       "      <td>2126</td>\n",
       "    </tr>\n",
       "    <tr>\n",
       "      <th>2</th>\n",
       "      <td>723186</td>\n",
       "      <td>385137</td>\n",
       "      <td>0</td>\n",
       "      <td>nice. If you felt like doing the work it would...</td>\n",
       "      <td>2019-01-01 00:32:11</td>\n",
       "      <td>2126</td>\n",
       "    </tr>\n",
       "    <tr>\n",
       "      <th>3</th>\n",
       "      <td>723187</td>\n",
       "      <td>385137</td>\n",
       "      <td>0</td>\n",
       "      <td>i.e. `emdbook::curve3d(-sum(dnbinom(y,mu=mu,si...</td>\n",
       "      <td>2019-01-01 00:40:36</td>\n",
       "      <td>2126</td>\n",
       "    </tr>\n",
       "    <tr>\n",
       "      <th>4</th>\n",
       "      <td>723188</td>\n",
       "      <td>385134</td>\n",
       "      <td>0</td>\n",
       "      <td>Don't you mean \"so variance should be $\\sigma^...</td>\n",
       "      <td>2019-01-01 00:41:28</td>\n",
       "      <td>112141</td>\n",
       "    </tr>\n",
       "  </tbody>\n",
       "</table>\n",
       "</div>"
      ],
      "text/plain": [
       "       Id  PostId  Score                                               Text  \\\n",
       "0  723182  385124      0  @BenBolker I don't understand. The fit cannot ...   \n",
       "1  723183  385124      3  You can't add *less* than (`-min(y)`), but you...   \n",
       "2  723186  385137      0  nice. If you felt like doing the work it would...   \n",
       "3  723187  385137      0  i.e. `emdbook::curve3d(-sum(dnbinom(y,mu=mu,si...   \n",
       "4  723188  385134      0  Don't you mean \"so variance should be $\\sigma^...   \n",
       "\n",
       "          CreationDate  UserId  \n",
       "0  2019-01-01 00:06:39   78575  \n",
       "1  2019-01-01 00:09:22    2126  \n",
       "2  2019-01-01 00:32:11    2126  \n",
       "3  2019-01-01 00:40:36    2126  \n",
       "4  2019-01-01 00:41:28  112141  "
      ]
     },
     "execution_count": 17,
     "metadata": {},
     "output_type": "execute_result"
    }
   ],
   "source": [
    "comments.head()"
   ]
  },
  {
   "cell_type": "code",
   "execution_count": 18,
   "metadata": {},
   "outputs": [
    {
     "data": {
      "text/plain": [
       "Index(['Id', 'PostTypeId', 'AcceptedAnswerId', 'ParentId', 'CreationDate',\n",
       "       'Score', 'ViewCount', 'Body', 'OwnerUserId', 'OwnerDisplayName',\n",
       "       'LastEditorUserId', 'LastEditorDisplayName', 'LastEditDate',\n",
       "       'LastActivityDate', 'Title', 'Tags', 'AnswerCount', 'CommentCount',\n",
       "       'FavoriteCount', 'ClosedDate', 'CommunityOwnedDate'],\n",
       "      dtype='object')"
      ]
     },
     "execution_count": 18,
     "metadata": {},
     "output_type": "execute_result"
    }
   ],
   "source": [
    "posts.columns"
   ]
  },
  {
   "cell_type": "code",
   "execution_count": 19,
   "metadata": {},
   "outputs": [
    {
     "data": {
      "text/html": [
       "<div>\n",
       "<style scoped>\n",
       "    .dataframe tbody tr th:only-of-type {\n",
       "        vertical-align: middle;\n",
       "    }\n",
       "\n",
       "    .dataframe tbody tr th {\n",
       "        vertical-align: top;\n",
       "    }\n",
       "\n",
       "    .dataframe thead th {\n",
       "        text-align: right;\n",
       "    }\n",
       "</style>\n",
       "<table border=\"1\" class=\"dataframe\">\n",
       "  <thead>\n",
       "    <tr style=\"text-align: right;\">\n",
       "      <th></th>\n",
       "      <th>Id</th>\n",
       "      <th>PostTypeId</th>\n",
       "      <th>AcceptedAnswerId</th>\n",
       "      <th>ParentId</th>\n",
       "      <th>CreationDate</th>\n",
       "      <th>Score</th>\n",
       "      <th>ViewCount</th>\n",
       "      <th>Body</th>\n",
       "      <th>OwnerUserId</th>\n",
       "      <th>OwnerDisplayName</th>\n",
       "      <th>...</th>\n",
       "      <th>LastEditorDisplayName</th>\n",
       "      <th>LastEditDate</th>\n",
       "      <th>LastActivityDate</th>\n",
       "      <th>Title</th>\n",
       "      <th>Tags</th>\n",
       "      <th>AnswerCount</th>\n",
       "      <th>CommentCount</th>\n",
       "      <th>FavoriteCount</th>\n",
       "      <th>ClosedDate</th>\n",
       "      <th>CommunityOwnedDate</th>\n",
       "    </tr>\n",
       "  </thead>\n",
       "  <tbody>\n",
       "    <tr>\n",
       "      <th>0</th>\n",
       "      <td>423497</td>\n",
       "      <td>1</td>\n",
       "      <td>423511</td>\n",
       "      <td>0</td>\n",
       "      <td>2019-08-24 09:39:31</td>\n",
       "      <td>2</td>\n",
       "      <td>68</td>\n",
       "      <td>&lt;p&gt;From wikipedia &lt;a href=\"https://en.wikipedi...</td>\n",
       "      <td>64552</td>\n",
       "      <td>None</td>\n",
       "      <td>...</td>\n",
       "      <td>None</td>\n",
       "      <td>None</td>\n",
       "      <td>2019-08-24 11:38:54</td>\n",
       "      <td>When are biased estimators with lower MSE pref...</td>\n",
       "      <td>&lt;bias&gt;&lt;unbiased-estimator&gt;&lt;mse&gt;</td>\n",
       "      <td>1</td>\n",
       "      <td>0</td>\n",
       "      <td>1</td>\n",
       "      <td>2019-08-25 10:25:24</td>\n",
       "      <td>None</td>\n",
       "    </tr>\n",
       "    <tr>\n",
       "      <th>1</th>\n",
       "      <td>423498</td>\n",
       "      <td>1</td>\n",
       "      <td>0</td>\n",
       "      <td>0</td>\n",
       "      <td>2019-08-24 09:47:42</td>\n",
       "      <td>1</td>\n",
       "      <td>24</td>\n",
       "      <td>&lt;p&gt;I am currently doing local sensitivity anal...</td>\n",
       "      <td>87231</td>\n",
       "      <td>None</td>\n",
       "      <td>...</td>\n",
       "      <td>None</td>\n",
       "      <td>2019-09-06 12:52:32</td>\n",
       "      <td>2019-09-06 12:52:32</td>\n",
       "      <td>How to interpret the result from local sensiti...</td>\n",
       "      <td>&lt;sensitivity-analysis&gt;&lt;elasticity&gt;</td>\n",
       "      <td>1</td>\n",
       "      <td>0</td>\n",
       "      <td>0</td>\n",
       "      <td>None</td>\n",
       "      <td>None</td>\n",
       "    </tr>\n",
       "    <tr>\n",
       "      <th>2</th>\n",
       "      <td>423499</td>\n",
       "      <td>1</td>\n",
       "      <td>0</td>\n",
       "      <td>0</td>\n",
       "      <td>2019-08-24 09:48:26</td>\n",
       "      <td>1</td>\n",
       "      <td>56</td>\n",
       "      <td>&lt;p&gt;I'm an honours student in psychology doing ...</td>\n",
       "      <td>257207</td>\n",
       "      <td>None</td>\n",
       "      <td>...</td>\n",
       "      <td>None</td>\n",
       "      <td>None</td>\n",
       "      <td>2019-08-25 08:54:17</td>\n",
       "      <td>Power Analysis in G-Power - Mixed Model Anova</td>\n",
       "      <td>&lt;anova&gt;&lt;gpower&gt;</td>\n",
       "      <td>2</td>\n",
       "      <td>0</td>\n",
       "      <td>0</td>\n",
       "      <td>None</td>\n",
       "      <td>None</td>\n",
       "    </tr>\n",
       "    <tr>\n",
       "      <th>3</th>\n",
       "      <td>423500</td>\n",
       "      <td>2</td>\n",
       "      <td>0</td>\n",
       "      <td>215865</td>\n",
       "      <td>2019-08-24 09:57:01</td>\n",
       "      <td>0</td>\n",
       "      <td>0</td>\n",
       "      <td>&lt;p&gt;Maybe you can look this &lt;a href=\"https://me...</td>\n",
       "      <td>106606</td>\n",
       "      <td>None</td>\n",
       "      <td>...</td>\n",
       "      <td>None</td>\n",
       "      <td>None</td>\n",
       "      <td>2019-08-24 09:57:01</td>\n",
       "      <td>None</td>\n",
       "      <td>None</td>\n",
       "      <td>0</td>\n",
       "      <td>0</td>\n",
       "      <td>0</td>\n",
       "      <td>None</td>\n",
       "      <td>None</td>\n",
       "    </tr>\n",
       "    <tr>\n",
       "      <th>4</th>\n",
       "      <td>423502</td>\n",
       "      <td>2</td>\n",
       "      <td>0</td>\n",
       "      <td>423286</td>\n",
       "      <td>2019-08-24 10:44:52</td>\n",
       "      <td>3</td>\n",
       "      <td>0</td>\n",
       "      <td>&lt;blockquote&gt;\\n  &lt;p&gt;Q1) Is my approach valid?&lt;/...</td>\n",
       "      <td>220643</td>\n",
       "      <td>None</td>\n",
       "      <td>...</td>\n",
       "      <td>None</td>\n",
       "      <td>2019-08-24 12:13:46</td>\n",
       "      <td>2019-08-24 12:13:46</td>\n",
       "      <td>None</td>\n",
       "      <td>None</td>\n",
       "      <td>0</td>\n",
       "      <td>1</td>\n",
       "      <td>0</td>\n",
       "      <td>None</td>\n",
       "      <td>None</td>\n",
       "    </tr>\n",
       "  </tbody>\n",
       "</table>\n",
       "<p>5 rows × 21 columns</p>\n",
       "</div>"
      ],
      "text/plain": [
       "       Id  PostTypeId  AcceptedAnswerId  ParentId         CreationDate  Score  \\\n",
       "0  423497           1            423511         0  2019-08-24 09:39:31      2   \n",
       "1  423498           1                 0         0  2019-08-24 09:47:42      1   \n",
       "2  423499           1                 0         0  2019-08-24 09:48:26      1   \n",
       "3  423500           2                 0    215865  2019-08-24 09:57:01      0   \n",
       "4  423502           2                 0    423286  2019-08-24 10:44:52      3   \n",
       "\n",
       "   ViewCount                                               Body  OwnerUserId  \\\n",
       "0         68  <p>From wikipedia <a href=\"https://en.wikipedi...        64552   \n",
       "1         24  <p>I am currently doing local sensitivity anal...        87231   \n",
       "2         56  <p>I'm an honours student in psychology doing ...       257207   \n",
       "3          0  <p>Maybe you can look this <a href=\"https://me...       106606   \n",
       "4          0  <blockquote>\\n  <p>Q1) Is my approach valid?</...       220643   \n",
       "\n",
       "  OwnerDisplayName  ...  LastEditorDisplayName         LastEditDate  \\\n",
       "0             None  ...                   None                 None   \n",
       "1             None  ...                   None  2019-09-06 12:52:32   \n",
       "2             None  ...                   None                 None   \n",
       "3             None  ...                   None                 None   \n",
       "4             None  ...                   None  2019-08-24 12:13:46   \n",
       "\n",
       "      LastActivityDate                                              Title  \\\n",
       "0  2019-08-24 11:38:54  When are biased estimators with lower MSE pref...   \n",
       "1  2019-09-06 12:52:32  How to interpret the result from local sensiti...   \n",
       "2  2019-08-25 08:54:17      Power Analysis in G-Power - Mixed Model Anova   \n",
       "3  2019-08-24 09:57:01                                               None   \n",
       "4  2019-08-24 12:13:46                                               None   \n",
       "\n",
       "                                 Tags AnswerCount  CommentCount  \\\n",
       "0     <bias><unbiased-estimator><mse>           1             0   \n",
       "1  <sensitivity-analysis><elasticity>           1             0   \n",
       "2                     <anova><gpower>           2             0   \n",
       "3                                None           0             0   \n",
       "4                                None           0             1   \n",
       "\n",
       "   FavoriteCount           ClosedDate CommunityOwnedDate  \n",
       "0              1  2019-08-25 10:25:24               None  \n",
       "1              0                 None               None  \n",
       "2              0                 None               None  \n",
       "3              0                 None               None  \n",
       "4              0                 None               None  \n",
       "\n",
       "[5 rows x 21 columns]"
      ]
     },
     "execution_count": 19,
     "metadata": {},
     "output_type": "execute_result"
    }
   ],
   "source": [
    "posts.head()"
   ]
  },
  {
   "cell_type": "markdown",
   "metadata": {},
   "source": [
    "# Working with Sqlite and SQL Magic\n",
    "In this section let's spend a little time understanding a bit more about how we can work with Sqlite within Jupyter.\n",
    "\n",
    "Let's look at 2 ways to query the sqlite database: using SQL Magic or using Pandas.  Either way is fine for this project."
   ]
  },
  {
   "cell_type": "markdown",
   "metadata": {},
   "source": [
    "## Writing queries with SQL Magic\n",
    "\n",
    "You will now need to write some queries to get answers to the questions in the requirements.  \n",
    "\n",
    "For single-line queries, start the cell with `%sql` and simply enter your query:"
   ]
  },
  {
   "cell_type": "code",
   "execution_count": 20,
   "metadata": {},
   "outputs": [
    {
     "name": "stdout",
     "output_type": "stream",
     "text": [
      " * sqlite:///chatdata.db\n"
     ]
    },
    {
     "data": {
      "text/plain": [
       "'Connected: @chatdata.db'"
      ]
     },
     "execution_count": 20,
     "metadata": {},
     "output_type": "execute_result"
    }
   ],
   "source": [
    " %sql"
   ]
  },
  {
   "cell_type": "markdown",
   "metadata": {},
   "source": [
    "For multi line sql statements use `%%sql` as follows. This tells Jupyter that *everything* in this cell should be interpreted as sql. So, NO comments other statements are allowed:"
   ]
  },
  {
   "cell_type": "code",
   "execution_count": 21,
   "metadata": {},
   "outputs": [
    {
     "name": "stdout",
     "output_type": "stream",
     "text": [
      " * sqlite:///chatdata.db\n",
      "Done.\n"
     ]
    },
    {
     "data": {
      "text/html": [
       "<table>\n",
       "    <thead>\n",
       "        <tr>\n",
       "            <th>Id</th>\n",
       "            <th>PostId</th>\n",
       "            <th>Score</th>\n",
       "            <th>Text</th>\n",
       "        </tr>\n",
       "    </thead>\n",
       "    <tbody>\n",
       "        <tr>\n",
       "            <td>723182</td>\n",
       "            <td>385124</td>\n",
       "            <td>0</td>\n",
       "            <td>@BenBolker I don&#x27;t understand. The fit cannot be done for the negative $y$. So intuitively I&#x27;d think that in order to retain the relativity of the data, one&#x27;d ideally &quot;mirror&quot; or &quot;flip&quot; it to the positive axis? Would it be possible to adjust every point individually? Basically e.g. take $abs(y_i)$ instead of minimums.</td>\n",
       "        </tr>\n",
       "        <tr>\n",
       "            <td>723183</td>\n",
       "            <td>385124</td>\n",
       "            <td>3</td>\n",
       "            <td>You can&#x27;t add *less* than (`-min(y)`), but you could add *more*. I&#x27;m going to stop answering now sorry, because **judging what the &#x27;best&#x27; approach is depends on much more context that we don&#x27;t have** (the goal of the analysis, why you need to fit an exponential, your level of computational and statistical sophistication and that of your audience, etc. ...)</td>\n",
       "        </tr>\n",
       "        <tr>\n",
       "            <td>723186</td>\n",
       "            <td>385137</td>\n",
       "            <td>0</td>\n",
       "            <td>nice. If you felt like doing the work it would be nice to generate an image/contour plot of log-likelihood as a function of (mu, theta) and show the lines corresponding to the two `size` values .</td>\n",
       "        </tr>\n",
       "        <tr>\n",
       "            <td>723187</td>\n",
       "            <td>385137</td>\n",
       "            <td>0</td>\n",
       "            <td>i.e. `emdbook::curve3d(-sum(dnbinom(y,mu=mu,size=size,log=TRUE)),<br>                 xlim=c(2,5),ylim=c(0.2,0.5),<br>                 varnames=c(&quot;mu&quot;,&quot;size&quot;),<br>                 sys3d=&quot;contour&quot;)<br>abline(h=3.2/7,col=&quot;red&quot;)<br>abline(h=fit.what$theta,col=&quot;blue&quot;)<br>` ... although doesn&#x27;t look this is actually the answer - mu-hat is independent of theta-hat ... ?</td>\n",
       "        </tr>\n",
       "        <tr>\n",
       "            <td>723188</td>\n",
       "            <td>385134</td>\n",
       "            <td>0</td>\n",
       "            <td>Don&#x27;t you mean &quot;so variance should be $\\sigma^2/(n\\mu^2)$&quot;</td>\n",
       "        </tr>\n",
       "    </tbody>\n",
       "</table>"
      ],
      "text/plain": [
       "[(723182, 385124, 0, '@BenBolker I don\\'t understand. The fit cannot be done for the negative $y$. So intuitively I\\'d think that in order to retain the relativity of the  ... (24 characters truncated) ... rror\" or \"flip\" it to the positive axis? Would it be possible to adjust every point individually? Basically e.g. take $abs(y_i)$ instead of minimums.'),\n",
       " (723183, 385124, 3, \"You can't add *less* than (`-min(y)`), but you could add *more*. I'm going to stop answering now sorry, because **judging what the 'best' approach is ... (60 characters truncated) ...  of the analysis, why you need to fit an exponential, your level of computational and statistical sophistication and that of your audience, etc. ...)\"),\n",
       " (723186, 385137, 0, 'nice. If you felt like doing the work it would be nice to generate an image/contour plot of log-likelihood as a function of (mu, theta) and show the lines corresponding to the two `size` values .'),\n",
       " (723187, 385137, 0, 'i.e. `emdbook::curve3d(-sum(dnbinom(y,mu=mu,size=size,log=TRUE)),\\n                 xlim=c(2,5),ylim=c(0.2,0.5),\\n                 varnames=c(\"mu\",\"s ... (57 characters truncated) ... ,col=\"red\")\\nabline(h=fit.what$theta,col=\"blue\")\\n` ... although doesn\\'t look this is actually the answer - mu-hat is independent of theta-hat ... ?'),\n",
       " (723188, 385134, 0, 'Don\\'t you mean \"so variance should be $\\\\sigma^2/(n\\\\mu^2)$\"')]"
      ]
     },
     "execution_count": 21,
     "metadata": {},
     "output_type": "execute_result"
    }
   ],
   "source": [
    "%%sql\n",
    "SELECT Id, PostId, Score, Text\n",
    "    FROM comments\n",
    "        LIMIT 5"
   ]
  },
  {
   "cell_type": "markdown",
   "metadata": {},
   "source": [
    "## Writing queries with Pandas\n",
    "Another way to write queries is to use pandas:"
   ]
  },
  {
   "cell_type": "code",
   "execution_count": 22,
   "metadata": {
    "scrolled": true
   },
   "outputs": [
    {
     "data": {
      "text/html": [
       "<div>\n",
       "<style scoped>\n",
       "    .dataframe tbody tr th:only-of-type {\n",
       "        vertical-align: middle;\n",
       "    }\n",
       "\n",
       "    .dataframe tbody tr th {\n",
       "        vertical-align: top;\n",
       "    }\n",
       "\n",
       "    .dataframe thead th {\n",
       "        text-align: right;\n",
       "    }\n",
       "</style>\n",
       "<table border=\"1\" class=\"dataframe\">\n",
       "  <thead>\n",
       "    <tr style=\"text-align: right;\">\n",
       "      <th></th>\n",
       "      <th>Id</th>\n",
       "      <th>PostId</th>\n",
       "      <th>Score</th>\n",
       "      <th>Text</th>\n",
       "    </tr>\n",
       "  </thead>\n",
       "  <tbody>\n",
       "    <tr>\n",
       "      <th>0</th>\n",
       "      <td>723182</td>\n",
       "      <td>385124</td>\n",
       "      <td>0</td>\n",
       "      <td>@BenBolker I don't understand. The fit cannot ...</td>\n",
       "    </tr>\n",
       "    <tr>\n",
       "      <th>1</th>\n",
       "      <td>723183</td>\n",
       "      <td>385124</td>\n",
       "      <td>3</td>\n",
       "      <td>You can't add *less* than (`-min(y)`), but you...</td>\n",
       "    </tr>\n",
       "    <tr>\n",
       "      <th>2</th>\n",
       "      <td>723186</td>\n",
       "      <td>385137</td>\n",
       "      <td>0</td>\n",
       "      <td>nice. If you felt like doing the work it would...</td>\n",
       "    </tr>\n",
       "    <tr>\n",
       "      <th>3</th>\n",
       "      <td>723187</td>\n",
       "      <td>385137</td>\n",
       "      <td>0</td>\n",
       "      <td>i.e. `emdbook::curve3d(-sum(dnbinom(y,mu=mu,si...</td>\n",
       "    </tr>\n",
       "    <tr>\n",
       "      <th>4</th>\n",
       "      <td>723188</td>\n",
       "      <td>385134</td>\n",
       "      <td>0</td>\n",
       "      <td>Don't you mean \"so variance should be $\\sigma^...</td>\n",
       "    </tr>\n",
       "  </tbody>\n",
       "</table>\n",
       "</div>"
      ],
      "text/plain": [
       "       Id  PostId  Score                                               Text\n",
       "0  723182  385124      0  @BenBolker I don't understand. The fit cannot ...\n",
       "1  723183  385124      3  You can't add *less* than (`-min(y)`), but you...\n",
       "2  723186  385137      0  nice. If you felt like doing the work it would...\n",
       "3  723187  385137      0  i.e. `emdbook::curve3d(-sum(dnbinom(y,mu=mu,si...\n",
       "4  723188  385134      0  Don't you mean \"so variance should be $\\sigma^..."
      ]
     },
     "execution_count": 22,
     "metadata": {},
     "output_type": "execute_result"
    }
   ],
   "source": [
    "sql = \"\"\"\n",
    "SELECT Id, PostId, Score, Text\n",
    "    FROM comments\n",
    "        LIMIT 5\n",
    "        \"\"\"\n",
    "result = pd.read_sql(sql, con)\n",
    "result"
   ]
  },
  {
   "cell_type": "markdown",
   "metadata": {},
   "source": [
    "# Creating Tables with Referential Integrity"
   ]
  },
  {
   "cell_type": "markdown",
   "metadata": {},
   "source": [
    "When we loaded the csv files into Sqlite database tables, Sqlite created the tables for us behind the scenes. Let's inspect this a bit more.\n",
    "\n",
    "We can see how Sqlite created the tables by querying the `sqlite_master` table, which Sqlite uses to keep track of what objects have been created in the database:"
   ]
  },
  {
   "cell_type": "code",
   "execution_count": 23,
   "metadata": {},
   "outputs": [
    {
     "name": "stdout",
     "output_type": "stream",
     "text": [
      " * sqlite:///chatdata.db\n",
      "Done.\n"
     ]
    },
    {
     "data": {
      "text/html": [
       "<table>\n",
       "    <thead>\n",
       "        <tr>\n",
       "            <th>sql</th>\n",
       "        </tr>\n",
       "    </thead>\n",
       "    <tbody>\n",
       "        <tr>\n",
       "            <td>CREATE TABLE &quot;comments&quot; (<br>&quot;Id&quot; INTEGER,<br>  &quot;PostId&quot; INTEGER,<br>  &quot;Score&quot; INTEGER,<br>  &quot;Text&quot; TEXT,<br>  &quot;CreationDate&quot; TEXT,<br>  &quot;UserId&quot; INTEGER<br>)</td>\n",
       "        </tr>\n",
       "        <tr>\n",
       "            <td>CREATE TABLE &quot;posts&quot; (<br>&quot;Id&quot; INTEGER,<br>  &quot;PostTypeId&quot; INTEGER,<br>  &quot;AcceptedAnswerId&quot; INTEGER,<br>  &quot;ParentId&quot; INTEGER,<br>  &quot;CreationDate&quot; TEXT,<br>  &quot;Score&quot; INTEGER,<br>  &quot;ViewCount&quot; INTEGER,<br>  &quot;Body&quot; TEXT,<br>  &quot;OwnerUserId&quot; INTEGER,<br>  &quot;OwnerDisplayName&quot; TEXT,<br>  &quot;LastEditorUserId&quot; INTEGER,<br>  &quot;LastEditorDisplayName&quot; TEXT,<br>  &quot;LastEditDate&quot; TEXT,<br>  &quot;LastActivityDate&quot; TEXT,<br>  &quot;Title&quot; TEXT,<br>  &quot;Tags&quot; TEXT,<br>  &quot;AnswerCount&quot; INTEGER,<br>  &quot;CommentCount&quot; INTEGER,<br>  &quot;FavoriteCount&quot; INTEGER,<br>  &quot;ClosedDate&quot; TEXT,<br>  &quot;CommunityOwnedDate&quot; TEXT<br>)</td>\n",
       "        </tr>\n",
       "        <tr>\n",
       "            <td>CREATE TABLE &quot;users&quot; (<br>&quot;Id&quot; INTEGER,<br>  &quot;Reputation&quot; INTEGER,<br>  &quot;CreationDate&quot; TEXT,<br>  &quot;DisplayName&quot; TEXT,<br>  &quot;LastAccessDate&quot; TEXT,<br>  &quot;WebsiteUrl&quot; TEXT,<br>  &quot;Location&quot; TEXT,<br>  &quot;AboutMe&quot; TEXT,<br>  &quot;Views&quot; INTEGER,<br>  &quot;UpVotes&quot; INTEGER,<br>  &quot;DownVotes&quot; INTEGER,<br>  &quot;ProfileImageUrl&quot; TEXT,<br>  &quot;AccountId&quot; INTEGER<br>)</td>\n",
       "        </tr>\n",
       "    </tbody>\n",
       "</table>"
      ],
      "text/plain": [
       "[('CREATE TABLE \"comments\" (\\n\"Id\" INTEGER,\\n  \"PostId\" INTEGER,\\n  \"Score\" INTEGER,\\n  \"Text\" TEXT,\\n  \"CreationDate\" TEXT,\\n  \"UserId\" INTEGER\\n)',),\n",
       " ('CREATE TABLE \"posts\" (\\n\"Id\" INTEGER,\\n  \"PostTypeId\" INTEGER,\\n  \"AcceptedAnswerId\" INTEGER,\\n  \"ParentId\" INTEGER,\\n  \"CreationDate\" TEXT,\\n  \"Scor ... (240 characters truncated) ...   \"Tags\" TEXT,\\n  \"AnswerCount\" INTEGER,\\n  \"CommentCount\" INTEGER,\\n  \"FavoriteCount\" INTEGER,\\n  \"ClosedDate\" TEXT,\\n  \"CommunityOwnedDate\" TEXT\\n)',),\n",
       " ('CREATE TABLE \"users\" (\\n\"Id\" INTEGER,\\n  \"Reputation\" INTEGER,\\n  \"CreationDate\" TEXT,\\n  \"DisplayName\" TEXT,\\n  \"LastAccessDate\" TEXT,\\n  \"WebsiteUr ... (17 characters truncated) ... tion\" TEXT,\\n  \"AboutMe\" TEXT,\\n  \"Views\" INTEGER,\\n  \"UpVotes\" INTEGER,\\n  \"DownVotes\" INTEGER,\\n  \"ProfileImageUrl\" TEXT,\\n  \"AccountId\" INTEGER\\n)',)]"
      ]
     },
     "execution_count": 23,
     "metadata": {},
     "output_type": "execute_result"
    }
   ],
   "source": [
    "%%sql\n",
    "select sql from sqlite_master"
   ]
  },
  {
   "cell_type": "markdown",
   "metadata": {},
   "source": [
    "The above results show the `CREATE TABLE` statements that could be used by Sqlite to recreate the tables with the exact same structure.\n",
    "\n",
    "The problem with the CREATE TABLE statements above is that they don't enforce **referential integrity**.  In other words, they don't ensure that every UserId and PostId in the comments table refers to an actual UserId and PostId in the users and posts tables.  At the moment. we can insert any old number here, and even have multiple users with the same Id!  One of the advantages of working with relational databases is that they can enforce the correct uniqueness and relationships in the data, but at the moment we are not using that feature.  So let's fix that...\n",
    "\n",
    "First, let's drop the original tables:\n"
   ]
  },
  {
   "cell_type": "code",
   "execution_count": 24,
   "metadata": {},
   "outputs": [
    {
     "name": "stdout",
     "output_type": "stream",
     "text": [
      " * sqlite:///chatdata.db\n",
      "Done.\n",
      "Done.\n",
      "Done.\n"
     ]
    },
    {
     "data": {
      "text/plain": [
       "[]"
      ]
     },
     "execution_count": 24,
     "metadata": {},
     "output_type": "execute_result"
    }
   ],
   "source": [
    "%%sql\n",
    "DROP TABLE comments;\n",
    "DROP TABLE users;\n",
    "DROP TABLE posts;"
   ]
  },
  {
   "cell_type": "markdown",
   "metadata": {},
   "source": [
    "Prove that this worked by selecting the names of the tables back.  We should have no tables:"
   ]
  },
  {
   "cell_type": "code",
   "execution_count": 25,
   "metadata": {},
   "outputs": [
    {
     "name": "stdout",
     "output_type": "stream",
     "text": [
      " * sqlite:///chatdata.db\n",
      "Done.\n"
     ]
    },
    {
     "data": {
      "text/html": [
       "<table>\n",
       "    <thead>\n",
       "        <tr>\n",
       "            <th>name</th>\n",
       "        </tr>\n",
       "    </thead>\n",
       "    <tbody>\n",
       "    </tbody>\n",
       "</table>"
      ],
      "text/plain": [
       "[]"
      ]
     },
     "execution_count": 25,
     "metadata": {},
     "output_type": "execute_result"
    }
   ],
   "source": [
    "%%sql\n",
    "SELECT name FROM sqlite_master WHERE type='table'\n",
    "    ORDER BY name"
   ]
  },
  {
   "cell_type": "markdown",
   "metadata": {},
   "source": [
    "In Sqlite we need to enable the enforcement of foreign key constraints:"
   ]
  },
  {
   "cell_type": "code",
   "execution_count": 26,
   "metadata": {},
   "outputs": [
    {
     "name": "stdout",
     "output_type": "stream",
     "text": [
      " * sqlite:///chatdata.db\n",
      "Done.\n"
     ]
    },
    {
     "data": {
      "text/plain": [
       "[]"
      ]
     },
     "execution_count": 26,
     "metadata": {},
     "output_type": "execute_result"
    }
   ],
   "source": [
    "%%sql\n",
    "PRAGMA foreign_keys=ON;"
   ]
  },
  {
   "cell_type": "markdown",
   "metadata": {},
   "source": [
    "Now recreate the users table with a **primary key constraint** by copying the CREATE TABLE statement from above and adding the NOT NULL PRIMARY KEY clause to the Id:"
   ]
  },
  {
   "cell_type": "code",
   "execution_count": 27,
   "metadata": {},
   "outputs": [
    {
     "name": "stdout",
     "output_type": "stream",
     "text": [
      " * sqlite:///chatdata.db\n",
      "Done.\n"
     ]
    },
    {
     "data": {
      "text/plain": [
       "[]"
      ]
     },
     "execution_count": 27,
     "metadata": {},
     "output_type": "execute_result"
    }
   ],
   "source": [
    "%%sql\n",
    "CREATE TABLE \"users\" (\n",
    "\"Id\" INTEGER NOT NULL PRIMARY KEY,\n",
    "\"Reputation\" INTEGER,\n",
    "\"CreationDate\" TEXT,\n",
    "\"DisplayName\" TEXT,\n",
    "\"LastAccessDate\" TEXT,\n",
    "\"WebsiteUrl\" TEXT,\n",
    "\"Location\" TEXT,\n",
    "\"AboutMe\" TEXT,\n",
    "\"Views\" INTEGER,\n",
    "\"UpVotes\" INTEGER,\n",
    "\"DownVotes\" INTEGER,\n",
    "\"ProfileImageUrl\" TEXT,\n",
    "\"AccountId\" INTEGER\n",
    ");\n"
   ]
  },
  {
   "cell_type": "markdown",
   "metadata": {},
   "source": [
    "Now do the same for the posts table:\n"
   ]
  },
  {
   "cell_type": "code",
   "execution_count": 28,
   "metadata": {},
   "outputs": [
    {
     "name": "stdout",
     "output_type": "stream",
     "text": [
      " * sqlite:///chatdata.db\n",
      "Done.\n"
     ]
    },
    {
     "data": {
      "text/plain": [
       "[]"
      ]
     },
     "execution_count": 28,
     "metadata": {},
     "output_type": "execute_result"
    }
   ],
   "source": [
    "%%sql\n",
    "CREATE TABLE \"posts\" (\n",
    "\"Id\" INTEGER NOT NULL PRIMARY KEY,\n",
    "\"PostTypeId\" INTEGER,\n",
    "\"AcceptedAnswerId\" INTEGER,\n",
    "\"ParentId\" INTEGER,\n",
    "\"CreationDate\" TEXT,\n",
    "\"Score\" INTEGER,\n",
    "\"ViewCount\" INTEGER,\n",
    "\"Body\" TEXT,\n",
    "\"OwnerUserId\" INTEGER,\n",
    "\"OwnerDisplayName\" TEXT,\n",
    "\"LastEditorUserId\" INTEGER,\n",
    "\"LastEditorDisplayName\" TEXT,\n",
    "\"LastEditDate\" TEXT,\n",
    "\"LastActivityDate\" TEXT,\n",
    "\"Title\" TEXT,\n",
    "\"Tags\" TEXT,\n",
    "\"AnswerCount\" INTEGER,\n",
    "\"CommentCount\" INTEGER,\n",
    "\"FavoriteCount\" INTEGER,\n",
    "\"ClosedDate\" TEXT,\n",
    "\"CommunityOwnedDate\" TEXT\n",
    ");"
   ]
  },
  {
   "cell_type": "markdown",
   "metadata": {},
   "source": [
    "Now for the comments table.  We need to add the primary key constraint on the id here as we did for users and posts, but we also need to add FOREIGN KEY constraints on the UserId and PostId. Read the documentation here and find our how to do that: https://www.sqlite.org/foreignkeys.html.  Then create the comments table with the correct constraints:\n"
   ]
  },
  {
   "cell_type": "code",
   "execution_count": 29,
   "metadata": {},
   "outputs": [
    {
     "name": "stdout",
     "output_type": "stream",
     "text": [
      " * sqlite:///chatdata.db\n",
      "Done.\n"
     ]
    },
    {
     "data": {
      "text/plain": [
       "[]"
      ]
     },
     "execution_count": 29,
     "metadata": {},
     "output_type": "execute_result"
    }
   ],
   "source": [
    "%%sql\n",
    "CREATE TABLE \"comments\" (\n",
    "    \"Id\" INTEGER PRIMARY KEY,\n",
    "    \"PostId\" INTEGER,\n",
    "    \"Score\" INTEGER,\n",
    "    \"Text\" TEXT,\n",
    "    \"CreationDate\" TEXT,\n",
    "    \"UserId\" INTEGER,\n",
    "    FOREIGN KEY (\"PostId\") REFERENCES \"posts\" (\"Id\"),\n",
    "    FOREIGN KEY (\"UserId\") REFERENCES \"users\" (\"Id\")\n",
    ");"
   ]
  },
  {
   "cell_type": "markdown",
   "metadata": {},
   "source": [
    "Now we can re-insert the data into these constrained tables.  First users:"
   ]
  },
  {
   "cell_type": "code",
   "execution_count": 30,
   "metadata": {},
   "outputs": [
    {
     "data": {
      "text/plain": [
       "18412"
      ]
     },
     "execution_count": 30,
     "metadata": {},
     "output_type": "execute_result"
    }
   ],
   "source": [
    "# Insert data into the new users table\n",
    "users.to_sql('users', con, if_exists='append', index=False)"
   ]
  },
  {
   "cell_type": "markdown",
   "metadata": {},
   "source": [
    "Now posts:\n"
   ]
  },
  {
   "cell_type": "code",
   "execution_count": 31,
   "metadata": {},
   "outputs": [
    {
     "data": {
      "text/plain": [
       "42234"
      ]
     },
     "execution_count": 31,
     "metadata": {},
     "output_type": "execute_result"
    }
   ],
   "source": [
    "# Insert data into the new posts table\n",
    "posts.to_sql('posts', con, if_exists='append', index=False)"
   ]
  },
  {
   "cell_type": "markdown",
   "metadata": {},
   "source": [
    "Finally comments, which references the users and posts tables:\n"
   ]
  },
  {
   "cell_type": "code",
   "execution_count": 32,
   "metadata": {},
   "outputs": [
    {
     "data": {
      "text/plain": [
       "50000"
      ]
     },
     "execution_count": 32,
     "metadata": {},
     "output_type": "execute_result"
    }
   ],
   "source": [
    "# Insert data into the new comments table\n",
    "comments.to_sql('comments', con, if_exists='append', index=False)"
   ]
  },
  {
   "cell_type": "markdown",
   "metadata": {},
   "source": [
    "Now check that we have the 3 new table definitions in Sqlite:"
   ]
  },
  {
   "cell_type": "code",
   "execution_count": 33,
   "metadata": {},
   "outputs": [
    {
     "name": "stdout",
     "output_type": "stream",
     "text": [
      " * sqlite:///chatdata.db\n",
      "Done.\n"
     ]
    },
    {
     "data": {
      "text/html": [
       "<table>\n",
       "    <thead>\n",
       "        <tr>\n",
       "            <th>name</th>\n",
       "        </tr>\n",
       "    </thead>\n",
       "    <tbody>\n",
       "        <tr>\n",
       "            <td>comments</td>\n",
       "        </tr>\n",
       "        <tr>\n",
       "            <td>posts</td>\n",
       "        </tr>\n",
       "        <tr>\n",
       "            <td>users</td>\n",
       "        </tr>\n",
       "    </tbody>\n",
       "</table>"
      ],
      "text/plain": [
       "[('comments',), ('posts',), ('users',)]"
      ]
     },
     "execution_count": 33,
     "metadata": {},
     "output_type": "execute_result"
    }
   ],
   "source": [
    "%%sql\n",
    "SELECT name FROM sqlite_master WHERE type='table'\n",
    "    ORDER BY name"
   ]
  },
  {
   "cell_type": "markdown",
   "metadata": {},
   "source": [
    "We now have all the data in tables in Sqlite and the tables will enforce the referential integrity."
   ]
  },
  {
   "cell_type": "markdown",
   "metadata": {},
   "source": [
    "\n"
   ]
  },
  {
   "cell_type": "markdown",
   "metadata": {},
   "source": [
    "Let's see an example of this by answering the following question:\n",
    "\n",
    "**Which 5 users have viewed the most times and what is the sum of those views per user?**\n",
    "\n",
    "## Prepare the Sqlite query\n",
    "\n",
    "First, let's write the query:"
   ]
  },
  {
   "cell_type": "code",
   "execution_count": 34,
   "metadata": {},
   "outputs": [
    {
     "data": {
      "text/html": [
       "<div>\n",
       "<style scoped>\n",
       "    .dataframe tbody tr th:only-of-type {\n",
       "        vertical-align: middle;\n",
       "    }\n",
       "\n",
       "    .dataframe tbody tr th {\n",
       "        vertical-align: top;\n",
       "    }\n",
       "\n",
       "    .dataframe thead th {\n",
       "        text-align: right;\n",
       "    }\n",
       "</style>\n",
       "<table border=\"1\" class=\"dataframe\">\n",
       "  <thead>\n",
       "    <tr style=\"text-align: right;\">\n",
       "      <th></th>\n",
       "      <th>Id</th>\n",
       "      <th>TotalViews</th>\n",
       "    </tr>\n",
       "  </thead>\n",
       "  <tbody>\n",
       "    <tr>\n",
       "      <th>0</th>\n",
       "      <td>919</td>\n",
       "      <td>85180</td>\n",
       "    </tr>\n",
       "    <tr>\n",
       "      <th>1</th>\n",
       "      <td>4253</td>\n",
       "      <td>35119</td>\n",
       "    </tr>\n",
       "    <tr>\n",
       "      <th>2</th>\n",
       "      <td>805</td>\n",
       "      <td>34637</td>\n",
       "    </tr>\n",
       "    <tr>\n",
       "      <th>3</th>\n",
       "      <td>7290</td>\n",
       "      <td>32639</td>\n",
       "    </tr>\n",
       "    <tr>\n",
       "      <th>4</th>\n",
       "      <td>3277</td>\n",
       "      <td>29255</td>\n",
       "    </tr>\n",
       "  </tbody>\n",
       "</table>\n",
       "</div>"
      ],
      "text/plain": [
       "     Id  TotalViews\n",
       "0   919       85180\n",
       "1  4253       35119\n",
       "2   805       34637\n",
       "3  7290       32639\n",
       "4  3277       29255"
      ]
     },
     "execution_count": 34,
     "metadata": {},
     "output_type": "execute_result"
    }
   ],
   "source": [
    "sql = \"\"\"\n",
    "SELECT Id, SUM(Views) AS TotalViews\n",
    "    FROM Users\n",
    "        GROUP BY Id\n",
    "            ORDER BY TotalViews DESC\n",
    "                LIMIT 5\n",
    "                \"\"\"\n",
    "result = pd.read_sql(sql, con) # con is the connection to the database\n",
    "result"
   ]
  },
  {
   "cell_type": "markdown",
   "metadata": {},
   "source": [
    "## Test the query\n",
    "You can optionally prove the query worked by performing the same query in Pandas:"
   ]
  },
  {
   "cell_type": "code",
   "execution_count": 35,
   "metadata": {},
   "outputs": [
    {
     "data": {
      "text/plain": [
       "Id\n",
       "919     85180\n",
       "4253    35119\n",
       "805     34637\n",
       "7290    32639\n",
       "3277    29255\n",
       "Name: Views, dtype: int64"
      ]
     },
     "execution_count": 35,
     "metadata": {},
     "output_type": "execute_result"
    }
   ],
   "source": [
    "results = users.groupby(['Id']).sum().sort_values('Views', ascending = False)[:5]\n",
    "results['Views']"
   ]
  },
  {
   "cell_type": "markdown",
   "metadata": {},
   "source": [
    "## Insert the query into the `queries` table\n",
    "Now we need to put this query into the `queries` table in sqlite. Remember we want these queries to be accessible to everybody that should have access to them. We do not want people writing and rewriting the same queires over and over again. The easiest thing to do is create a dictionary with the values and insert these into the queries table.  Note that the values are provided as lists as we are inserting a list of values (i.e. a number of rows) into the table.  In this case the number of rows is 1, so we have lists of 1 item.\n",
    "\n",
    "So here, we have a column called 'task' with a list of values, a column called 'action' with a list of values, etc."
   ]
  },
  {
   "cell_type": "code",
   "execution_count": 36,
   "metadata": {},
   "outputs": [
    {
     "data": {
      "text/plain": [
       "{'task': ['Single Table Queries'],\n",
       " 'action': ['Which 5 users have viewed the most times and what is the sum of those views per user?'],\n",
       " 'query': ['\\nSELECT Id, SUM(Views) AS TotalViews\\n    FROM Users\\n        GROUP BY Id\\n            ORDER BY TotalViews DESC\\n                LIMIT 5\\n                ']}"
      ]
     },
     "execution_count": 36,
     "metadata": {},
     "output_type": "execute_result"
    }
   ],
   "source": [
    "query_dict = {\n",
    "              'task': ['Single Table Queries'],\n",
    "              'action': ['Which 5 users have viewed the most times and what is the sum of those views per user?'],\n",
    "              'query': [sql]\n",
    "             }\n",
    "query_dict"
   ]
  },
  {
   "cell_type": "markdown",
   "metadata": {},
   "source": [
    "Now that you have the data structure (query_dict) containing the data, create a pandas dataframe that holds those values:"
   ]
  },
  {
   "cell_type": "code",
   "execution_count": 37,
   "metadata": {},
   "outputs": [
    {
     "data": {
      "text/html": [
       "<div>\n",
       "<style scoped>\n",
       "    .dataframe tbody tr th:only-of-type {\n",
       "        vertical-align: middle;\n",
       "    }\n",
       "\n",
       "    .dataframe tbody tr th {\n",
       "        vertical-align: top;\n",
       "    }\n",
       "\n",
       "    .dataframe thead th {\n",
       "        text-align: right;\n",
       "    }\n",
       "</style>\n",
       "<table border=\"1\" class=\"dataframe\">\n",
       "  <thead>\n",
       "    <tr style=\"text-align: right;\">\n",
       "      <th></th>\n",
       "      <th>task</th>\n",
       "      <th>action</th>\n",
       "      <th>query</th>\n",
       "    </tr>\n",
       "  </thead>\n",
       "  <tbody>\n",
       "    <tr>\n",
       "      <th>0</th>\n",
       "      <td>Single Table Queries</td>\n",
       "      <td>Which 5 users have viewed the most times and w...</td>\n",
       "      <td>\\nSELECT Id, SUM(Views) AS TotalViews\\n    FRO...</td>\n",
       "    </tr>\n",
       "  </tbody>\n",
       "</table>\n",
       "</div>"
      ],
      "text/plain": [
       "                   task                                             action  \\\n",
       "0  Single Table Queries  Which 5 users have viewed the most times and w...   \n",
       "\n",
       "                                               query  \n",
       "0  \\nSELECT Id, SUM(Views) AS TotalViews\\n    FRO...  "
      ]
     },
     "execution_count": 37,
     "metadata": {},
     "output_type": "execute_result"
    }
   ],
   "source": [
    "queries = pd.DataFrame(query_dict)\n",
    "queries"
   ]
  },
  {
   "cell_type": "markdown",
   "metadata": {},
   "source": [
    "Now load that pandas dataframe (queries) into the sqlite table called queries. In this case, you use append NOT replace. You will be adding to this tables as you go thru this project."
   ]
  },
  {
   "cell_type": "code",
   "execution_count": 38,
   "metadata": {},
   "outputs": [
    {
     "data": {
      "text/html": [
       "<div>\n",
       "<style scoped>\n",
       "    .dataframe tbody tr th:only-of-type {\n",
       "        vertical-align: middle;\n",
       "    }\n",
       "\n",
       "    .dataframe tbody tr th {\n",
       "        vertical-align: top;\n",
       "    }\n",
       "\n",
       "    .dataframe thead th {\n",
       "        text-align: right;\n",
       "    }\n",
       "</style>\n",
       "<table border=\"1\" class=\"dataframe\">\n",
       "  <thead>\n",
       "    <tr style=\"text-align: right;\">\n",
       "      <th></th>\n",
       "      <th>task</th>\n",
       "      <th>action</th>\n",
       "      <th>query</th>\n",
       "    </tr>\n",
       "  </thead>\n",
       "  <tbody>\n",
       "    <tr>\n",
       "      <th>0</th>\n",
       "      <td>Single Table Queries</td>\n",
       "      <td>Which 5 users have viewed the most times and w...</td>\n",
       "      <td>\\nSELECT Id, SUM(Views) AS TotalViews\\n    FRO...</td>\n",
       "    </tr>\n",
       "  </tbody>\n",
       "</table>\n",
       "</div>"
      ],
      "text/plain": [
       "                   task                                             action  \\\n",
       "0  Single Table Queries  Which 5 users have viewed the most times and w...   \n",
       "\n",
       "                                               query  \n",
       "0  \\nSELECT Id, SUM(Views) AS TotalViews\\n    FRO...  "
      ]
     },
     "execution_count": 38,
     "metadata": {},
     "output_type": "execute_result"
    }
   ],
   "source": [
    "# load query into sqlite\n",
    "queries.to_sql('queries', con, if_exists='append', index=False)\n",
    "\n",
    "# read back in to prove that it worked\n",
    "sql = 'SELECT * FROM queries'\n",
    "queries = pd.read_sql(sql, con)\n",
    "queries.head()"
   ]
  },
  {
   "cell_type": "markdown",
   "metadata": {},
   "source": [
    "It is likely that as you iterate thru this notebook you will create some duplicate entries in the query table. Not a big deal. Just tell sql or pandas (much easier in pandas) to drop the duplicates! If you drop the duplicates in Pandas you will have to write the entire dataframe back to sqlite. Otherwise it is changed in memory in Pandas but NOT in sqlite on the disk drive (or SDD). Just do this drop at the end of this notebook so that you are not constantly dealing with this. "
   ]
  },
  {
   "cell_type": "markdown",
   "metadata": {},
   "source": [
    "So, to summarise, as you go through the following tasks you need to:\n",
    "\n",
    "- answer the question in sql\n",
    "- prove it in pandas (if you want to)\n",
    "- put the query into the queries table"
   ]
  },
  {
   "cell_type": "markdown",
   "metadata": {},
   "source": [
    "##  Insert the CREATE TABLE Statements into the `queries` Table\n",
    "\n",
    "Now that we understand how to populate the `queries` table, let's insert the CREATE TABLE statements into it.  First let's define a function to help us insert into the queries table:\n"
   ]
  },
  {
   "cell_type": "code",
   "execution_count": 39,
   "metadata": {},
   "outputs": [],
   "source": [
    "def store_query(task, action, query):\n",
    "    query_dict = {\n",
    "                  'task': [task],\n",
    "                  'action': [action],\n",
    "                  'query': [query]\n",
    "                 }\n",
    "\n",
    "    # put query into the query_dict\n",
    "    queries = pd.DataFrame(query_dict)\n",
    "\n",
    "    # load query into sqlite\n",
    "    queries.to_sql('queries', con, if_exists='append', index=False)    "
   ]
  },
  {
   "cell_type": "markdown",
   "metadata": {},
   "source": [
    "Now we can specify the queries and call the above function to store them.  The first one is done for you."
   ]
  },
  {
   "cell_type": "code",
   "execution_count": 40,
   "metadata": {},
   "outputs": [],
   "source": [
    "sql = \"\"\"\n",
    "    CREATE TABLE \"comments\" (\n",
    "    \"Id\" INTEGER,\n",
    "    \"PostId\" INTEGER,\n",
    "    \"Score\" INTEGER,\n",
    "    \"Text\" TEXT,\n",
    "    \"CreationDate\" TEXT,\n",
    "    \"UserId\" INTEGER\n",
    "    )\n",
    "    \"\"\"\n",
    "store_query(\"Task 1\", \"Create table comments\", sql)"
   ]
  },
  {
   "cell_type": "markdown",
   "metadata": {},
   "source": [
    "Let's prove it works by selecting back from the queries table:"
   ]
  },
  {
   "cell_type": "code",
   "execution_count": 41,
   "metadata": {},
   "outputs": [
    {
     "name": "stdout",
     "output_type": "stream",
     "text": [
      " * sqlite:///chatdata.db\n",
      "Done.\n"
     ]
    },
    {
     "data": {
      "text/html": [
       "<table>\n",
       "    <thead>\n",
       "        <tr>\n",
       "            <th>task</th>\n",
       "            <th>action</th>\n",
       "            <th>query</th>\n",
       "        </tr>\n",
       "    </thead>\n",
       "    <tbody>\n",
       "        <tr>\n",
       "            <td>Single Table Queries</td>\n",
       "            <td>Which 5 users have viewed the most times and what is the sum of those views per user?</td>\n",
       "            <td><br>SELECT Id, SUM(Views) AS TotalViews<br>    FROM Users<br>        GROUP BY Id<br>            ORDER BY TotalViews DESC<br>                LIMIT 5<br>                </td>\n",
       "        </tr>\n",
       "        <tr>\n",
       "            <td>Task 1</td>\n",
       "            <td>Create table comments</td>\n",
       "            <td><br>    CREATE TABLE &quot;comments&quot; (<br>    &quot;Id&quot; INTEGER,<br>    &quot;PostId&quot; INTEGER,<br>    &quot;Score&quot; INTEGER,<br>    &quot;Text&quot; TEXT,<br>    &quot;CreationDate&quot; TEXT,<br>    &quot;UserId&quot; INTEGER<br>    )<br>    </td>\n",
       "        </tr>\n",
       "    </tbody>\n",
       "</table>"
      ],
      "text/plain": [
       "[('Single Table Queries', 'Which 5 users have viewed the most times and what is the sum of those views per user?', '\\nSELECT Id, SUM(Views) AS TotalViews\\n    FROM Users\\n        GROUP BY Id\\n            ORDER BY TotalViews DESC\\n                LIMIT 5\\n                '),\n",
       " ('Task 1', 'Create table comments', '\\n    CREATE TABLE \"comments\" (\\n    \"Id\" INTEGER,\\n    \"PostId\" INTEGER,\\n    \"Score\" INTEGER,\\n    \"Text\" TEXT,\\n    \"CreationDate\" TEXT,\\n    \"UserId\" INTEGER\\n    )\\n    ')]"
      ]
     },
     "execution_count": 41,
     "metadata": {},
     "output_type": "execute_result"
    }
   ],
   "source": [
    "# Prove it works\n",
    "%sql SELECT * FROM queries"
   ]
  },
  {
   "cell_type": "markdown",
   "metadata": {},
   "source": [
    "## Insert the other CREATE TABLE statements into the `queries` table.\n",
    "Follow the above pattern to complete these code cells:\n"
   ]
  },
  {
   "cell_type": "code",
   "execution_count": 42,
   "metadata": {},
   "outputs": [],
   "source": [
    "# Insert the CREATE TABLE for posts into the queries table\n",
    "sql = \"\"\"\n",
    "    CREATE TABLE \"posts\" (\n",
    "\"Id\" INTEGER,\n",
    "\"PostTypeId\" INTEGER,\n",
    "\"AcceptedAnswerId\" INTEGER,\n",
    "\"ParentId\" INTEGER,\n",
    "\"CreationDate\" TEXT,\n",
    "\"Score\" INTEGER,\n",
    "\"ViewCount\" INTEGER,\n",
    "\"Body\" TEXT,\n",
    "\"OwnerUserId\" INTEGER,\n",
    "\"OwnerDisplayName\" TEXT,\n",
    "\"LastEditorUserId\" INTEGER,\n",
    "\"LastEditorDisplayName\" TEXT,\n",
    "\"LastEditDate\" TEXT,\n",
    "\"LastActivityDate\" TEXT,\n",
    "\"Title\" TEXT,\n",
    "\"Tags\" TEXT,\n",
    "\"AnswerCount\" INTEGER,\n",
    "\"CommentCount\" INTEGER,\n",
    "\"FavoriteCount\" INTEGER,\n",
    "\"ClosedDate\" TEXT,\n",
    "\"CommunityOwnedDate\" TEXT\n",
    ")\n",
    "    \"\"\"\n",
    "store_query(\"Task 2\", \"Create table posts\", sql)"
   ]
  },
  {
   "cell_type": "code",
   "execution_count": 43,
   "metadata": {},
   "outputs": [
    {
     "name": "stdout",
     "output_type": "stream",
     "text": [
      " * sqlite:///chatdata.db\n",
      "Done.\n"
     ]
    },
    {
     "data": {
      "text/html": [
       "<table>\n",
       "    <thead>\n",
       "        <tr>\n",
       "            <th>task</th>\n",
       "            <th>action</th>\n",
       "            <th>query</th>\n",
       "        </tr>\n",
       "    </thead>\n",
       "    <tbody>\n",
       "        <tr>\n",
       "            <td>Single Table Queries</td>\n",
       "            <td>Which 5 users have viewed the most times and what is the sum of those views per user?</td>\n",
       "            <td><br>SELECT Id, SUM(Views) AS TotalViews<br>    FROM Users<br>        GROUP BY Id<br>            ORDER BY TotalViews DESC<br>                LIMIT 5<br>                </td>\n",
       "        </tr>\n",
       "        <tr>\n",
       "            <td>Task 1</td>\n",
       "            <td>Create table comments</td>\n",
       "            <td><br>    CREATE TABLE &quot;comments&quot; (<br>    &quot;Id&quot; INTEGER,<br>    &quot;PostId&quot; INTEGER,<br>    &quot;Score&quot; INTEGER,<br>    &quot;Text&quot; TEXT,<br>    &quot;CreationDate&quot; TEXT,<br>    &quot;UserId&quot; INTEGER<br>    )<br>    </td>\n",
       "        </tr>\n",
       "        <tr>\n",
       "            <td>Task 2</td>\n",
       "            <td>Create table posts</td>\n",
       "            <td><br>    CREATE TABLE &quot;posts&quot; (<br>&quot;Id&quot; INTEGER,<br>&quot;PostTypeId&quot; INTEGER,<br>&quot;AcceptedAnswerId&quot; INTEGER,<br>&quot;ParentId&quot; INTEGER,<br>&quot;CreationDate&quot; TEXT,<br>&quot;Score&quot; INTEGER,<br>&quot;ViewCount&quot; INTEGER,<br>&quot;Body&quot; TEXT,<br>&quot;OwnerUserId&quot; INTEGER,<br>&quot;OwnerDisplayName&quot; TEXT,<br>&quot;LastEditorUserId&quot; INTEGER,<br>&quot;LastEditorDisplayName&quot; TEXT,<br>&quot;LastEditDate&quot; TEXT,<br>&quot;LastActivityDate&quot; TEXT,<br>&quot;Title&quot; TEXT,<br>&quot;Tags&quot; TEXT,<br>&quot;AnswerCount&quot; INTEGER,<br>&quot;CommentCount&quot; INTEGER,<br>&quot;FavoriteCount&quot; INTEGER,<br>&quot;ClosedDate&quot; TEXT,<br>&quot;CommunityOwnedDate&quot; TEXT<br>)<br>    </td>\n",
       "        </tr>\n",
       "    </tbody>\n",
       "</table>"
      ],
      "text/plain": [
       "[('Single Table Queries', 'Which 5 users have viewed the most times and what is the sum of those views per user?', '\\nSELECT Id, SUM(Views) AS TotalViews\\n    FROM Users\\n        GROUP BY Id\\n            ORDER BY TotalViews DESC\\n                LIMIT 5\\n                '),\n",
       " ('Task 1', 'Create table comments', '\\n    CREATE TABLE \"comments\" (\\n    \"Id\" INTEGER,\\n    \"PostId\" INTEGER,\\n    \"Score\" INTEGER,\\n    \"Text\" TEXT,\\n    \"CreationDate\" TEXT,\\n    \"UserId\" INTEGER\\n    )\\n    '),\n",
       " ('Task 2', 'Create table posts', '\\n    CREATE TABLE \"posts\" (\\n\"Id\" INTEGER,\\n\"PostTypeId\" INTEGER,\\n\"AcceptedAnswerId\" INTEGER,\\n\"ParentId\" INTEGER,\\n\"CreationDate\" TEXT,\\n\"Score\" I ... (212 characters truncated) ... EXT,\\n\"Tags\" TEXT,\\n\"AnswerCount\" INTEGER,\\n\"CommentCount\" INTEGER,\\n\"FavoriteCount\" INTEGER,\\n\"ClosedDate\" TEXT,\\n\"CommunityOwnedDate\" TEXT\\n)\\n    ')]"
      ]
     },
     "execution_count": 43,
     "metadata": {},
     "output_type": "execute_result"
    }
   ],
   "source": [
    "%sql SELECT * FROM queries"
   ]
  },
  {
   "cell_type": "code",
   "execution_count": 44,
   "metadata": {},
   "outputs": [],
   "source": [
    "# Insert the CREATE TABLE for users into the queries table\n",
    "sql = \"\"\"\n",
    "  CREATE TABLE \"users\" (\n",
    "\"Id\" INTEGER,\n",
    "\"Reputation\" INTEGER,\n",
    "\"CreationDate\" TEXT,\n",
    "\"DisplayName\" TEXT,\n",
    "\"LastAccessDate\" TEXT,\n",
    "\"WebsiteUrl\" TEXT,\n",
    "\"Location\" TEXT,\n",
    "\"AboutMe\" TEXT,\n",
    "\"Views\" INTEGER,\n",
    "\"UpVotes\" INTEGER,\n",
    "\"DownVotes\" INTEGER,\n",
    "\"ProfileImageUrl\" TEXT,\n",
    "\"AccountId\" INTEGER\n",
    ")\n",
    "    \"\"\"\n",
    "store_query(\"Task 3\", \"Create table users\", sql)"
   ]
  },
  {
   "cell_type": "code",
   "execution_count": 45,
   "metadata": {},
   "outputs": [
    {
     "name": "stdout",
     "output_type": "stream",
     "text": [
      " * sqlite:///chatdata.db\n",
      "Done.\n"
     ]
    },
    {
     "data": {
      "text/html": [
       "<table>\n",
       "    <thead>\n",
       "        <tr>\n",
       "            <th>task</th>\n",
       "            <th>action</th>\n",
       "            <th>query</th>\n",
       "        </tr>\n",
       "    </thead>\n",
       "    <tbody>\n",
       "        <tr>\n",
       "            <td>Single Table Queries</td>\n",
       "            <td>Which 5 users have viewed the most times and what is the sum of those views per user?</td>\n",
       "            <td><br>SELECT Id, SUM(Views) AS TotalViews<br>    FROM Users<br>        GROUP BY Id<br>            ORDER BY TotalViews DESC<br>                LIMIT 5<br>                </td>\n",
       "        </tr>\n",
       "        <tr>\n",
       "            <td>Task 1</td>\n",
       "            <td>Create table comments</td>\n",
       "            <td><br>    CREATE TABLE &quot;comments&quot; (<br>    &quot;Id&quot; INTEGER,<br>    &quot;PostId&quot; INTEGER,<br>    &quot;Score&quot; INTEGER,<br>    &quot;Text&quot; TEXT,<br>    &quot;CreationDate&quot; TEXT,<br>    &quot;UserId&quot; INTEGER<br>    )<br>    </td>\n",
       "        </tr>\n",
       "        <tr>\n",
       "            <td>Task 2</td>\n",
       "            <td>Create table posts</td>\n",
       "            <td><br>    CREATE TABLE &quot;posts&quot; (<br>&quot;Id&quot; INTEGER,<br>&quot;PostTypeId&quot; INTEGER,<br>&quot;AcceptedAnswerId&quot; INTEGER,<br>&quot;ParentId&quot; INTEGER,<br>&quot;CreationDate&quot; TEXT,<br>&quot;Score&quot; INTEGER,<br>&quot;ViewCount&quot; INTEGER,<br>&quot;Body&quot; TEXT,<br>&quot;OwnerUserId&quot; INTEGER,<br>&quot;OwnerDisplayName&quot; TEXT,<br>&quot;LastEditorUserId&quot; INTEGER,<br>&quot;LastEditorDisplayName&quot; TEXT,<br>&quot;LastEditDate&quot; TEXT,<br>&quot;LastActivityDate&quot; TEXT,<br>&quot;Title&quot; TEXT,<br>&quot;Tags&quot; TEXT,<br>&quot;AnswerCount&quot; INTEGER,<br>&quot;CommentCount&quot; INTEGER,<br>&quot;FavoriteCount&quot; INTEGER,<br>&quot;ClosedDate&quot; TEXT,<br>&quot;CommunityOwnedDate&quot; TEXT<br>)<br>    </td>\n",
       "        </tr>\n",
       "        <tr>\n",
       "            <td>Task 3</td>\n",
       "            <td>Create table users</td>\n",
       "            <td><br>  CREATE TABLE &quot;users&quot; (<br>&quot;Id&quot; INTEGER,<br>&quot;Reputation&quot; INTEGER,<br>&quot;CreationDate&quot; TEXT,<br>&quot;DisplayName&quot; TEXT,<br>&quot;LastAccessDate&quot; TEXT,<br>&quot;WebsiteUrl&quot; TEXT,<br>&quot;Location&quot; TEXT,<br>&quot;AboutMe&quot; TEXT,<br>&quot;Views&quot; INTEGER,<br>&quot;UpVotes&quot; INTEGER,<br>&quot;DownVotes&quot; INTEGER,<br>&quot;ProfileImageUrl&quot; TEXT,<br>&quot;AccountId&quot; INTEGER<br>)<br>    </td>\n",
       "        </tr>\n",
       "    </tbody>\n",
       "</table>"
      ],
      "text/plain": [
       "[('Single Table Queries', 'Which 5 users have viewed the most times and what is the sum of those views per user?', '\\nSELECT Id, SUM(Views) AS TotalViews\\n    FROM Users\\n        GROUP BY Id\\n            ORDER BY TotalViews DESC\\n                LIMIT 5\\n                '),\n",
       " ('Task 1', 'Create table comments', '\\n    CREATE TABLE \"comments\" (\\n    \"Id\" INTEGER,\\n    \"PostId\" INTEGER,\\n    \"Score\" INTEGER,\\n    \"Text\" TEXT,\\n    \"CreationDate\" TEXT,\\n    \"UserId\" INTEGER\\n    )\\n    '),\n",
       " ('Task 2', 'Create table posts', '\\n    CREATE TABLE \"posts\" (\\n\"Id\" INTEGER,\\n\"PostTypeId\" INTEGER,\\n\"AcceptedAnswerId\" INTEGER,\\n\"ParentId\" INTEGER,\\n\"CreationDate\" TEXT,\\n\"Score\" I ... (212 characters truncated) ... EXT,\\n\"Tags\" TEXT,\\n\"AnswerCount\" INTEGER,\\n\"CommentCount\" INTEGER,\\n\"FavoriteCount\" INTEGER,\\n\"ClosedDate\" TEXT,\\n\"CommunityOwnedDate\" TEXT\\n)\\n    '),\n",
       " ('Task 3', 'Create table users', '\\n  CREATE TABLE \"users\" (\\n\"Id\" INTEGER,\\n\"Reputation\" INTEGER,\\n\"CreationDate\" TEXT,\\n\"DisplayName\" TEXT,\\n\"LastAccessDate\" TEXT,\\n\"WebsiteUrl\" TEX ... (3 characters truncated) ... n\"Location\" TEXT,\\n\"AboutMe\" TEXT,\\n\"Views\" INTEGER,\\n\"UpVotes\" INTEGER,\\n\"DownVotes\" INTEGER,\\n\"ProfileImageUrl\" TEXT,\\n\"AccountId\" INTEGER\\n)\\n    ')]"
      ]
     },
     "execution_count": 45,
     "metadata": {},
     "output_type": "execute_result"
    }
   ],
   "source": [
    "%sql SELECT * FROM queries"
   ]
  },
  {
   "cell_type": "markdown",
   "metadata": {},
   "source": [
    "## Count the Number of Rows in Each Table\n",
    "Run some queries to count the number of rows in each of the tables.  Don't forget to insert the query into the queries table.\n"
   ]
  },
  {
   "cell_type": "code",
   "execution_count": 46,
   "metadata": {},
   "outputs": [
    {
     "name": "stdout",
     "output_type": "stream",
     "text": [
      " * sqlite:///chatdata.db\n",
      "Done.\n"
     ]
    },
    {
     "data": {
      "text/html": [
       "<table>\n",
       "    <thead>\n",
       "        <tr>\n",
       "            <th>COUNT(*)</th>\n",
       "        </tr>\n",
       "    </thead>\n",
       "    <tbody>\n",
       "        <tr>\n",
       "            <td>50000</td>\n",
       "        </tr>\n",
       "    </tbody>\n",
       "</table>"
      ],
      "text/plain": [
       "[(50000,)]"
      ]
     },
     "execution_count": 46,
     "metadata": {},
     "output_type": "execute_result"
    }
   ],
   "source": [
    "# Count the number of rows in the comments table\n",
    "%sql SELECT COUNT(*)  FROM comments;"
   ]
  },
  {
   "cell_type": "code",
   "execution_count": 47,
   "metadata": {},
   "outputs": [
    {
     "name": "stdout",
     "output_type": "stream",
     "text": [
      " * sqlite:///chatdata.db\n",
      "Done.\n"
     ]
    },
    {
     "data": {
      "text/html": [
       "<table>\n",
       "    <thead>\n",
       "        <tr>\n",
       "            <th>COUNT(*)</th>\n",
       "        </tr>\n",
       "    </thead>\n",
       "    <tbody>\n",
       "        <tr>\n",
       "            <td>18412</td>\n",
       "        </tr>\n",
       "    </tbody>\n",
       "</table>"
      ],
      "text/plain": [
       "[(18412,)]"
      ]
     },
     "execution_count": 47,
     "metadata": {},
     "output_type": "execute_result"
    }
   ],
   "source": [
    "# Count the number of rows in the users table\n",
    "%sql SELECT COUNT(*)  FROM users;"
   ]
  },
  {
   "cell_type": "code",
   "execution_count": 48,
   "metadata": {},
   "outputs": [
    {
     "name": "stdout",
     "output_type": "stream",
     "text": [
      " * sqlite:///chatdata.db\n",
      "Done.\n"
     ]
    },
    {
     "data": {
      "text/html": [
       "<table>\n",
       "    <thead>\n",
       "        <tr>\n",
       "            <th>COUNT(*)</th>\n",
       "        </tr>\n",
       "    </thead>\n",
       "    <tbody>\n",
       "        <tr>\n",
       "            <td>42234</td>\n",
       "        </tr>\n",
       "    </tbody>\n",
       "</table>"
      ],
      "text/plain": [
       "[(42234,)]"
      ]
     },
     "execution_count": 48,
     "metadata": {},
     "output_type": "execute_result"
    }
   ],
   "source": [
    "# Count the number of rows in the posts table\n",
    "%sql SELECT COUNT(*)  FROM posts;"
   ]
  },
  {
   "cell_type": "markdown",
   "metadata": {},
   "source": [
    "##  Random Checks on the Data\n"
   ]
  },
  {
   "cell_type": "code",
   "execution_count": 49,
   "metadata": {},
   "outputs": [
    {
     "data": {
      "text/html": [
       "<div>\n",
       "<style scoped>\n",
       "    .dataframe tbody tr th:only-of-type {\n",
       "        vertical-align: middle;\n",
       "    }\n",
       "\n",
       "    .dataframe tbody tr th {\n",
       "        vertical-align: top;\n",
       "    }\n",
       "\n",
       "    .dataframe thead th {\n",
       "        text-align: right;\n",
       "    }\n",
       "</style>\n",
       "<table border=\"1\" class=\"dataframe\">\n",
       "  <thead>\n",
       "    <tr style=\"text-align: right;\">\n",
       "      <th></th>\n",
       "      <th>Id</th>\n",
       "      <th>PostId</th>\n",
       "      <th>Score</th>\n",
       "      <th>Text</th>\n",
       "      <th>CreationDate</th>\n",
       "      <th>UserId</th>\n",
       "    </tr>\n",
       "  </thead>\n",
       "  <tbody>\n",
       "    <tr>\n",
       "      <th>0</th>\n",
       "      <td>740140</td>\n",
       "      <td>393255</td>\n",
       "      <td>0</td>\n",
       "      <td>Thanks again. In the meantime, I found a packa...</td>\n",
       "      <td>2019-02-25 22:14:29</td>\n",
       "      <td>174439</td>\n",
       "    </tr>\n",
       "    <tr>\n",
       "      <th>1</th>\n",
       "      <td>779232</td>\n",
       "      <td>417559</td>\n",
       "      <td>0</td>\n",
       "      <td>Right, it's so each subject has their own smal...</td>\n",
       "      <td>2019-07-15 19:23:13</td>\n",
       "      <td>253228</td>\n",
       "    </tr>\n",
       "    <tr>\n",
       "      <th>2</th>\n",
       "      <td>723966</td>\n",
       "      <td>385548</td>\n",
       "      <td>0</td>\n",
       "      <td>Thanks. 1- In this case, should I test both pa...</td>\n",
       "      <td>2019-01-04 04:14:40</td>\n",
       "      <td>232988</td>\n",
       "    </tr>\n",
       "    <tr>\n",
       "      <th>3</th>\n",
       "      <td>772904</td>\n",
       "      <td>414055</td>\n",
       "      <td>0</td>\n",
       "      <td>I based it off this previous question: https:/...</td>\n",
       "      <td>2019-06-21 04:45:54</td>\n",
       "      <td>236180</td>\n",
       "    </tr>\n",
       "    <tr>\n",
       "      <th>4</th>\n",
       "      <td>748317</td>\n",
       "      <td>399546</td>\n",
       "      <td>0</td>\n",
       "      <td>There are many conflicting ways of choosing st...</td>\n",
       "      <td>2019-03-26 18:47:21</td>\n",
       "      <td>53690</td>\n",
       "    </tr>\n",
       "  </tbody>\n",
       "</table>\n",
       "</div>"
      ],
      "text/plain": [
       "       Id  PostId  Score                                               Text  \\\n",
       "0  740140  393255      0  Thanks again. In the meantime, I found a packa...   \n",
       "1  779232  417559      0  Right, it's so each subject has their own smal...   \n",
       "2  723966  385548      0  Thanks. 1- In this case, should I test both pa...   \n",
       "3  772904  414055      0  I based it off this previous question: https:/...   \n",
       "4  748317  399546      0  There are many conflicting ways of choosing st...   \n",
       "\n",
       "          CreationDate  UserId  \n",
       "0  2019-02-25 22:14:29  174439  \n",
       "1  2019-07-15 19:23:13  253228  \n",
       "2  2019-01-04 04:14:40  232988  \n",
       "3  2019-06-21 04:45:54  236180  \n",
       "4  2019-03-26 18:47:21   53690  "
      ]
     },
     "execution_count": 49,
     "metadata": {},
     "output_type": "execute_result"
    }
   ],
   "source": [
    "# Run the query to select 5 random rows from the posts table\n",
    "sql = \"\"\"\n",
    "select * from Comments order by random() limit 5;\n",
    "\"\"\"\n",
    "store_query(\"Task 4\", \"Random Comments\", sql)\n",
    "result = pd.read_sql(sql, con)\n",
    "result"
   ]
  },
  {
   "cell_type": "code",
   "execution_count": 50,
   "metadata": {},
   "outputs": [
    {
     "data": {
      "text/html": [
       "<div>\n",
       "<style scoped>\n",
       "    .dataframe tbody tr th:only-of-type {\n",
       "        vertical-align: middle;\n",
       "    }\n",
       "\n",
       "    .dataframe tbody tr th {\n",
       "        vertical-align: top;\n",
       "    }\n",
       "\n",
       "    .dataframe thead th {\n",
       "        text-align: right;\n",
       "    }\n",
       "</style>\n",
       "<table border=\"1\" class=\"dataframe\">\n",
       "  <thead>\n",
       "    <tr style=\"text-align: right;\">\n",
       "      <th></th>\n",
       "      <th>Id</th>\n",
       "      <th>Reputation</th>\n",
       "      <th>CreationDate</th>\n",
       "      <th>DisplayName</th>\n",
       "      <th>LastAccessDate</th>\n",
       "      <th>WebsiteUrl</th>\n",
       "      <th>Location</th>\n",
       "      <th>AboutMe</th>\n",
       "      <th>Views</th>\n",
       "      <th>UpVotes</th>\n",
       "      <th>DownVotes</th>\n",
       "      <th>ProfileImageUrl</th>\n",
       "      <th>AccountId</th>\n",
       "    </tr>\n",
       "  </thead>\n",
       "  <tbody>\n",
       "    <tr>\n",
       "      <th>0</th>\n",
       "      <td>3601</td>\n",
       "      <td>6428</td>\n",
       "      <td>2011-03-07 21:51:11</td>\n",
       "      <td>Aaron - Reinstate Monica</td>\n",
       "      <td>2019-11-19 18:30:52</td>\n",
       "      <td>http://www.stat.umn.edu/~arendahl/</td>\n",
       "      <td>St. Paul, MN</td>\n",
       "      <td>&lt;p&gt;I am an Assistant Professor of Statistics a...</td>\n",
       "      <td>1135</td>\n",
       "      <td>459</td>\n",
       "      <td>3</td>\n",
       "      <td>https://i.stack.imgur.com/fGuXb.png?s=128&amp;g=1</td>\n",
       "      <td>73081</td>\n",
       "    </tr>\n",
       "    <tr>\n",
       "      <th>1</th>\n",
       "      <td>244476</td>\n",
       "      <td>125</td>\n",
       "      <td>2019-04-12 00:36:56</td>\n",
       "      <td>jytoronto</td>\n",
       "      <td>2019-07-25 00:36:37</td>\n",
       "      <td>None</td>\n",
       "      <td>None</td>\n",
       "      <td>None</td>\n",
       "      <td>1</td>\n",
       "      <td>3</td>\n",
       "      <td>0</td>\n",
       "      <td>https://www.gravatar.com/avatar/a09ce10c684d43...</td>\n",
       "      <td>2651087</td>\n",
       "    </tr>\n",
       "    <tr>\n",
       "      <th>2</th>\n",
       "      <td>246828</td>\n",
       "      <td>11</td>\n",
       "      <td>2019-05-03 22:00:55</td>\n",
       "      <td>viggen</td>\n",
       "      <td>2019-10-16 21:33:42</td>\n",
       "      <td>None</td>\n",
       "      <td>None</td>\n",
       "      <td>None</td>\n",
       "      <td>1</td>\n",
       "      <td>0</td>\n",
       "      <td>0</td>\n",
       "      <td>https://www.gravatar.com/avatar/772e22c3da65cf...</td>\n",
       "      <td>15868583</td>\n",
       "    </tr>\n",
       "    <tr>\n",
       "      <th>3</th>\n",
       "      <td>203672</td>\n",
       "      <td>115</td>\n",
       "      <td>2018-04-09 20:07:18</td>\n",
       "      <td>Michael Stachowsky</td>\n",
       "      <td>2019-05-15 10:54:45</td>\n",
       "      <td>None</td>\n",
       "      <td>Canada</td>\n",
       "      <td>&lt;p&gt;Engineering instructor and part-time mathem...</td>\n",
       "      <td>2</td>\n",
       "      <td>1</td>\n",
       "      <td>0</td>\n",
       "      <td>https://lh5.googleusercontent.com/-a-UIp5V6iDM...</td>\n",
       "      <td>6379999</td>\n",
       "    </tr>\n",
       "    <tr>\n",
       "      <th>4</th>\n",
       "      <td>234145</td>\n",
       "      <td>11</td>\n",
       "      <td>2019-01-15 15:33:40</td>\n",
       "      <td>adeevee</td>\n",
       "      <td>2019-09-23 17:14:00</td>\n",
       "      <td>None</td>\n",
       "      <td>New York, NY, USA</td>\n",
       "      <td>None</td>\n",
       "      <td>2</td>\n",
       "      <td>0</td>\n",
       "      <td>0</td>\n",
       "      <td>https://www.gravatar.com/avatar/966a0a7c414535...</td>\n",
       "      <td>15129326</td>\n",
       "    </tr>\n",
       "  </tbody>\n",
       "</table>\n",
       "</div>"
      ],
      "text/plain": [
       "       Id  Reputation         CreationDate               DisplayName  \\\n",
       "0    3601        6428  2011-03-07 21:51:11  Aaron - Reinstate Monica   \n",
       "1  244476         125  2019-04-12 00:36:56                 jytoronto   \n",
       "2  246828          11  2019-05-03 22:00:55                    viggen   \n",
       "3  203672         115  2018-04-09 20:07:18        Michael Stachowsky   \n",
       "4  234145          11  2019-01-15 15:33:40                   adeevee   \n",
       "\n",
       "        LastAccessDate                          WebsiteUrl           Location  \\\n",
       "0  2019-11-19 18:30:52  http://www.stat.umn.edu/~arendahl/       St. Paul, MN   \n",
       "1  2019-07-25 00:36:37                                None               None   \n",
       "2  2019-10-16 21:33:42                                None               None   \n",
       "3  2019-05-15 10:54:45                                None             Canada   \n",
       "4  2019-09-23 17:14:00                                None  New York, NY, USA   \n",
       "\n",
       "                                             AboutMe  Views  UpVotes  \\\n",
       "0  <p>I am an Assistant Professor of Statistics a...   1135      459   \n",
       "1                                               None      1        3   \n",
       "2                                               None      1        0   \n",
       "3  <p>Engineering instructor and part-time mathem...      2        1   \n",
       "4                                               None      2        0   \n",
       "\n",
       "   DownVotes                                    ProfileImageUrl  AccountId  \n",
       "0          3      https://i.stack.imgur.com/fGuXb.png?s=128&g=1      73081  \n",
       "1          0  https://www.gravatar.com/avatar/a09ce10c684d43...    2651087  \n",
       "2          0  https://www.gravatar.com/avatar/772e22c3da65cf...   15868583  \n",
       "3          0  https://lh5.googleusercontent.com/-a-UIp5V6iDM...    6379999  \n",
       "4          0  https://www.gravatar.com/avatar/966a0a7c414535...   15129326  "
      ]
     },
     "execution_count": 50,
     "metadata": {},
     "output_type": "execute_result"
    }
   ],
   "source": [
    "# Run the query to select 5 random rows from the posts comments\n",
    "sql = \"\"\"\n",
    "select * from Users order by random() limit 5;\n",
    "\"\"\"\n",
    "store_query(\"Task 5\", \"Random post Users\", sql)\n",
    "result = pd.read_sql(sql, con)\n",
    "result"
   ]
  },
  {
   "cell_type": "code",
   "execution_count": 51,
   "metadata": {},
   "outputs": [
    {
     "data": {
      "text/html": [
       "<div>\n",
       "<style scoped>\n",
       "    .dataframe tbody tr th:only-of-type {\n",
       "        vertical-align: middle;\n",
       "    }\n",
       "\n",
       "    .dataframe tbody tr th {\n",
       "        vertical-align: top;\n",
       "    }\n",
       "\n",
       "    .dataframe thead th {\n",
       "        text-align: right;\n",
       "    }\n",
       "</style>\n",
       "<table border=\"1\" class=\"dataframe\">\n",
       "  <thead>\n",
       "    <tr style=\"text-align: right;\">\n",
       "      <th></th>\n",
       "      <th>Id</th>\n",
       "      <th>PostTypeId</th>\n",
       "      <th>AcceptedAnswerId</th>\n",
       "      <th>ParentId</th>\n",
       "      <th>CreationDate</th>\n",
       "      <th>Score</th>\n",
       "      <th>ViewCount</th>\n",
       "      <th>Body</th>\n",
       "      <th>OwnerUserId</th>\n",
       "      <th>OwnerDisplayName</th>\n",
       "      <th>...</th>\n",
       "      <th>LastEditorDisplayName</th>\n",
       "      <th>LastEditDate</th>\n",
       "      <th>LastActivityDate</th>\n",
       "      <th>Title</th>\n",
       "      <th>Tags</th>\n",
       "      <th>AnswerCount</th>\n",
       "      <th>CommentCount</th>\n",
       "      <th>FavoriteCount</th>\n",
       "      <th>ClosedDate</th>\n",
       "      <th>CommunityOwnedDate</th>\n",
       "    </tr>\n",
       "  </thead>\n",
       "  <tbody>\n",
       "    <tr>\n",
       "      <th>0</th>\n",
       "      <td>394325</td>\n",
       "      <td>2</td>\n",
       "      <td>0</td>\n",
       "      <td>394312</td>\n",
       "      <td>2019-02-25 18:26:22</td>\n",
       "      <td>1</td>\n",
       "      <td>0</td>\n",
       "      <td>&lt;p&gt;I see some normality in this dataset, but I...</td>\n",
       "      <td>171498</td>\n",
       "      <td>None</td>\n",
       "      <td>...</td>\n",
       "      <td>None</td>\n",
       "      <td>None</td>\n",
       "      <td>2019-02-25 18:26:22</td>\n",
       "      <td>None</td>\n",
       "      <td>None</td>\n",
       "      <td>0</td>\n",
       "      <td>3</td>\n",
       "      <td>0</td>\n",
       "      <td>None</td>\n",
       "      <td>None</td>\n",
       "    </tr>\n",
       "    <tr>\n",
       "      <th>1</th>\n",
       "      <td>435000</td>\n",
       "      <td>1</td>\n",
       "      <td>0</td>\n",
       "      <td>0</td>\n",
       "      <td>2019-11-07 12:04:08</td>\n",
       "      <td>4</td>\n",
       "      <td>50</td>\n",
       "      <td>&lt;p&gt;I have a regression task, for which I'm tra...</td>\n",
       "      <td>203565</td>\n",
       "      <td>None</td>\n",
       "      <td>...</td>\n",
       "      <td>None</td>\n",
       "      <td>None</td>\n",
       "      <td>2019-11-07 13:58:16</td>\n",
       "      <td>Loss function for regression with uncertain la...</td>\n",
       "      <td>&lt;regression&gt;&lt;machine-learning&gt;&lt;loss-functions&gt;</td>\n",
       "      <td>1</td>\n",
       "      <td>0</td>\n",
       "      <td>1</td>\n",
       "      <td>None</td>\n",
       "      <td>None</td>\n",
       "    </tr>\n",
       "    <tr>\n",
       "      <th>2</th>\n",
       "      <td>412299</td>\n",
       "      <td>2</td>\n",
       "      <td>0</td>\n",
       "      <td>412276</td>\n",
       "      <td>2019-06-10 12:47:54</td>\n",
       "      <td>5</td>\n",
       "      <td>0</td>\n",
       "      <td>&lt;p&gt;The problem with the mass-fitting packages ...</td>\n",
       "      <td>3382</td>\n",
       "      <td>None</td>\n",
       "      <td>...</td>\n",
       "      <td>None</td>\n",
       "      <td>2019-06-10 13:23:57</td>\n",
       "      <td>2019-06-10 13:23:57</td>\n",
       "      <td>None</td>\n",
       "      <td>None</td>\n",
       "      <td>0</td>\n",
       "      <td>3</td>\n",
       "      <td>0</td>\n",
       "      <td>None</td>\n",
       "      <td>None</td>\n",
       "    </tr>\n",
       "    <tr>\n",
       "      <th>3</th>\n",
       "      <td>406973</td>\n",
       "      <td>1</td>\n",
       "      <td>406975</td>\n",
       "      <td>0</td>\n",
       "      <td>2019-05-07 06:09:40</td>\n",
       "      <td>4</td>\n",
       "      <td>965</td>\n",
       "      <td>&lt;p&gt;I am doing time-series analysis in python f...</td>\n",
       "      <td>208706</td>\n",
       "      <td>None</td>\n",
       "      <td>...</td>\n",
       "      <td>None</td>\n",
       "      <td>2019-05-07 07:01:08</td>\n",
       "      <td>2019-05-07 12:43:29</td>\n",
       "      <td>How to choose between ARIMA and ARMA model</td>\n",
       "      <td>&lt;time-series&gt;&lt;python&gt;&lt;arima&gt;&lt;stationarity&gt;</td>\n",
       "      <td>2</td>\n",
       "      <td>1</td>\n",
       "      <td>3</td>\n",
       "      <td>None</td>\n",
       "      <td>None</td>\n",
       "    </tr>\n",
       "    <tr>\n",
       "      <th>4</th>\n",
       "      <td>407915</td>\n",
       "      <td>2</td>\n",
       "      <td>0</td>\n",
       "      <td>407911</td>\n",
       "      <td>2019-05-12 04:40:36</td>\n",
       "      <td>17</td>\n",
       "      <td>0</td>\n",
       "      <td>&lt;p&gt;It is per 100,000 people in the population ...</td>\n",
       "      <td>56133</td>\n",
       "      <td>None</td>\n",
       "      <td>...</td>\n",
       "      <td>None</td>\n",
       "      <td>2019-05-12 06:43:54</td>\n",
       "      <td>2019-05-12 06:43:54</td>\n",
       "      <td>None</td>\n",
       "      <td>None</td>\n",
       "      <td>0</td>\n",
       "      <td>3</td>\n",
       "      <td>0</td>\n",
       "      <td>None</td>\n",
       "      <td>None</td>\n",
       "    </tr>\n",
       "  </tbody>\n",
       "</table>\n",
       "<p>5 rows × 21 columns</p>\n",
       "</div>"
      ],
      "text/plain": [
       "       Id  PostTypeId  AcceptedAnswerId  ParentId         CreationDate  Score  \\\n",
       "0  394325           2                 0    394312  2019-02-25 18:26:22      1   \n",
       "1  435000           1                 0         0  2019-11-07 12:04:08      4   \n",
       "2  412299           2                 0    412276  2019-06-10 12:47:54      5   \n",
       "3  406973           1            406975         0  2019-05-07 06:09:40      4   \n",
       "4  407915           2                 0    407911  2019-05-12 04:40:36     17   \n",
       "\n",
       "   ViewCount                                               Body  OwnerUserId  \\\n",
       "0          0  <p>I see some normality in this dataset, but I...       171498   \n",
       "1         50  <p>I have a regression task, for which I'm tra...       203565   \n",
       "2          0  <p>The problem with the mass-fitting packages ...         3382   \n",
       "3        965  <p>I am doing time-series analysis in python f...       208706   \n",
       "4          0  <p>It is per 100,000 people in the population ...        56133   \n",
       "\n",
       "  OwnerDisplayName  ...  LastEditorDisplayName         LastEditDate  \\\n",
       "0             None  ...                   None                 None   \n",
       "1             None  ...                   None                 None   \n",
       "2             None  ...                   None  2019-06-10 13:23:57   \n",
       "3             None  ...                   None  2019-05-07 07:01:08   \n",
       "4             None  ...                   None  2019-05-12 06:43:54   \n",
       "\n",
       "      LastActivityDate                                              Title  \\\n",
       "0  2019-02-25 18:26:22                                               None   \n",
       "1  2019-11-07 13:58:16  Loss function for regression with uncertain la...   \n",
       "2  2019-06-10 13:23:57                                               None   \n",
       "3  2019-05-07 12:43:29         How to choose between ARIMA and ARMA model   \n",
       "4  2019-05-12 06:43:54                                               None   \n",
       "\n",
       "                                             Tags AnswerCount  CommentCount  \\\n",
       "0                                            None           0             3   \n",
       "1  <regression><machine-learning><loss-functions>           1             0   \n",
       "2                                            None           0             3   \n",
       "3      <time-series><python><arima><stationarity>           2             1   \n",
       "4                                            None           0             3   \n",
       "\n",
       "   FavoriteCount  ClosedDate CommunityOwnedDate  \n",
       "0              0        None               None  \n",
       "1              1        None               None  \n",
       "2              0        None               None  \n",
       "3              3        None               None  \n",
       "4              0        None               None  \n",
       "\n",
       "[5 rows x 21 columns]"
      ]
     },
     "execution_count": 51,
     "metadata": {},
     "output_type": "execute_result"
    }
   ],
   "source": [
    "# Run the query to select 5 random rows from the users table\n",
    "sql = \"\"\"\n",
    "select * from Posts order by random() limit 5;\n",
    "\"\"\"\n",
    "store_query(\"Task 6\", \"Random post Posts\", sql)\n",
    "result = pd.read_sql(sql, con)\n",
    "result"
   ]
  },
  {
   "cell_type": "markdown",
   "metadata": {},
   "source": [
    "# Create Single Table Queries\n"
   ]
  },
  {
   "cell_type": "markdown",
   "metadata": {},
   "source": [
    "## Lifecycle Stage: Analyze\n",
    "We can now start the analysis with our single-table queries.  First we need to create a new computed column to help with one of the queries.  The code below creates a column called LEN_BODY which is the length of the BODY text:\n"
   ]
  },
  {
   "cell_type": "code",
   "execution_count": 52,
   "metadata": {},
   "outputs": [
    {
     "name": "stdout",
     "output_type": "stream",
     "text": [
      " * sqlite:///chatdata.db\n",
      "Done.\n"
     ]
    },
    {
     "data": {
      "text/plain": [
       "[]"
      ]
     },
     "execution_count": 52,
     "metadata": {},
     "output_type": "execute_result"
    }
   ],
   "source": [
    "%%sql\n",
    "ALTER TABLE POSTS ADD COLUMN LEN_BODY INT"
   ]
  },
  {
   "cell_type": "code",
   "execution_count": 53,
   "metadata": {},
   "outputs": [
    {
     "name": "stdout",
     "output_type": "stream",
     "text": [
      " * sqlite:///chatdata.db\n",
      "42234 rows affected.\n"
     ]
    },
    {
     "data": {
      "text/plain": [
       "[]"
      ]
     },
     "execution_count": 53,
     "metadata": {},
     "output_type": "execute_result"
    }
   ],
   "source": [
    "%%sql\n",
    "UPDATE POSTS SET LEN_BODY = LENGTH(BODY)"
   ]
  },
  {
   "cell_type": "markdown",
   "metadata": {},
   "source": [
    "### Single Table Queries\n",
    "From the Template SQL Queries there are a series of queries requested. You are responsible for coding the result. Use the pattern above to accomplish the coding objective.  Copy and paste the question (column B Action) into a markdown cell and answer the query. Use the pattern that you have been using above. \n",
    "\n"
   ]
  },
  {
   "cell_type": "markdown",
   "metadata": {},
   "source": [
    "How many posts have 0 comments?"
   ]
  },
  {
   "cell_type": "code",
   "execution_count": 54,
   "metadata": {},
   "outputs": [
    {
     "data": {
      "text/html": [
       "<div>\n",
       "<style scoped>\n",
       "    .dataframe tbody tr th:only-of-type {\n",
       "        vertical-align: middle;\n",
       "    }\n",
       "\n",
       "    .dataframe tbody tr th {\n",
       "        vertical-align: top;\n",
       "    }\n",
       "\n",
       "    .dataframe thead th {\n",
       "        text-align: right;\n",
       "    }\n",
       "</style>\n",
       "<table border=\"1\" class=\"dataframe\">\n",
       "  <thead>\n",
       "    <tr style=\"text-align: right;\">\n",
       "      <th></th>\n",
       "      <th>COUNT(*)</th>\n",
       "    </tr>\n",
       "  </thead>\n",
       "  <tbody>\n",
       "    <tr>\n",
       "      <th>0</th>\n",
       "      <td>21713</td>\n",
       "    </tr>\n",
       "  </tbody>\n",
       "</table>\n",
       "</div>"
      ],
      "text/plain": [
       "   COUNT(*)\n",
       "0     21713"
      ]
     },
     "execution_count": 54,
     "metadata": {},
     "output_type": "execute_result"
    }
   ],
   "source": [
    "sql = \"\"\"\n",
    "SELECT COUNT(*) FROM Posts WHERE CommentCount = 0;\n",
    "\"\"\"\n",
    "store_query(\"Task 7\", \"How many posts have 0 comments\", sql)\n",
    "result = pd.read_sql(sql, con)\n",
    "result"
   ]
  },
  {
   "cell_type": "code",
   "execution_count": 55,
   "metadata": {},
   "outputs": [
    {
     "data": {
      "text/html": [
       "<div>\n",
       "<style scoped>\n",
       "    .dataframe tbody tr th:only-of-type {\n",
       "        vertical-align: middle;\n",
       "    }\n",
       "\n",
       "    .dataframe tbody tr th {\n",
       "        vertical-align: top;\n",
       "    }\n",
       "\n",
       "    .dataframe thead th {\n",
       "        text-align: right;\n",
       "    }\n",
       "</style>\n",
       "<table border=\"1\" class=\"dataframe\">\n",
       "  <thead>\n",
       "    <tr style=\"text-align: right;\">\n",
       "      <th></th>\n",
       "      <th>COUNT(*)</th>\n",
       "    </tr>\n",
       "  </thead>\n",
       "  <tbody>\n",
       "    <tr>\n",
       "      <th>0</th>\n",
       "      <td>6460</td>\n",
       "    </tr>\n",
       "  </tbody>\n",
       "</table>\n",
       "</div>"
      ],
      "text/plain": [
       "   COUNT(*)\n",
       "0      6460"
      ]
     },
     "execution_count": 55,
     "metadata": {},
     "output_type": "execute_result"
    }
   ],
   "source": [
    "sql = \"\"\"\n",
    "SELECT COUNT(*) FROM Posts WHERE CommentCount = 1;\n",
    "\"\"\"\n",
    "store_query(\"Task 8\", \"How many posts have 1 comments\", sql)\n",
    "result = pd.read_sql(sql, con)\n",
    "result"
   ]
  },
  {
   "cell_type": "code",
   "execution_count": 56,
   "metadata": {},
   "outputs": [
    {
     "data": {
      "text/html": [
       "<div>\n",
       "<style scoped>\n",
       "    .dataframe tbody tr th:only-of-type {\n",
       "        vertical-align: middle;\n",
       "    }\n",
       "\n",
       "    .dataframe tbody tr th {\n",
       "        vertical-align: top;\n",
       "    }\n",
       "\n",
       "    .dataframe thead th {\n",
       "        text-align: right;\n",
       "    }\n",
       "</style>\n",
       "<table border=\"1\" class=\"dataframe\">\n",
       "  <thead>\n",
       "    <tr style=\"text-align: right;\">\n",
       "      <th></th>\n",
       "      <th>COUNT(*)</th>\n",
       "    </tr>\n",
       "  </thead>\n",
       "  <tbody>\n",
       "    <tr>\n",
       "      <th>0</th>\n",
       "      <td>14061</td>\n",
       "    </tr>\n",
       "  </tbody>\n",
       "</table>\n",
       "</div>"
      ],
      "text/plain": [
       "   COUNT(*)\n",
       "0     14061"
      ]
     },
     "execution_count": 56,
     "metadata": {},
     "output_type": "execute_result"
    }
   ],
   "source": [
    "sql = \"\"\"\n",
    "SELECT COUNT(*) FROM Posts WHERE CommentCount >= 2;\n",
    "\"\"\"\n",
    "store_query(\"Task 7\", \"How many posts have 0 comments\", sql)\n",
    "result = pd.read_sql(sql, con)\n",
    "result"
   ]
  },
  {
   "cell_type": "code",
   "execution_count": 57,
   "metadata": {},
   "outputs": [
    {
     "data": {
      "text/html": [
       "<div>\n",
       "<style scoped>\n",
       "    .dataframe tbody tr th:only-of-type {\n",
       "        vertical-align: middle;\n",
       "    }\n",
       "\n",
       "    .dataframe tbody tr th {\n",
       "        vertical-align: top;\n",
       "    }\n",
       "\n",
       "    .dataframe thead th {\n",
       "        text-align: right;\n",
       "    }\n",
       "</style>\n",
       "<table border=\"1\" class=\"dataframe\">\n",
       "  <thead>\n",
       "    <tr style=\"text-align: right;\">\n",
       "      <th></th>\n",
       "      <th>Id</th>\n",
       "      <th>Title</th>\n",
       "      <th>ViewCount</th>\n",
       "    </tr>\n",
       "  </thead>\n",
       "  <tbody>\n",
       "    <tr>\n",
       "      <th>0</th>\n",
       "      <td>388566</td>\n",
       "      <td>Is it wrong to rephrase \"1 in 80 deaths is cau...</td>\n",
       "      <td>19542</td>\n",
       "    </tr>\n",
       "    <tr>\n",
       "      <th>1</th>\n",
       "      <td>394118</td>\n",
       "      <td>Why do neural networks need so many training e...</td>\n",
       "      <td>16317</td>\n",
       "    </tr>\n",
       "    <tr>\n",
       "      <th>2</th>\n",
       "      <td>431370</td>\n",
       "      <td>Is there a name for the phenomenon of false po...</td>\n",
       "      <td>11723</td>\n",
       "    </tr>\n",
       "    <tr>\n",
       "      <th>3</th>\n",
       "      <td>398646</td>\n",
       "      <td>What does \"Scientists rise up against statisti...</td>\n",
       "      <td>9850</td>\n",
       "    </tr>\n",
       "    <tr>\n",
       "      <th>4</th>\n",
       "      <td>434128</td>\n",
       "      <td>Famous statistical wins and horror stories for...</td>\n",
       "      <td>6718</td>\n",
       "    </tr>\n",
       "  </tbody>\n",
       "</table>\n",
       "</div>"
      ],
      "text/plain": [
       "       Id                                              Title  ViewCount\n",
       "0  388566  Is it wrong to rephrase \"1 in 80 deaths is cau...      19542\n",
       "1  394118  Why do neural networks need so many training e...      16317\n",
       "2  431370  Is there a name for the phenomenon of false po...      11723\n",
       "3  398646  What does \"Scientists rise up against statisti...       9850\n",
       "4  434128  Famous statistical wins and horror stories for...       6718"
      ]
     },
     "execution_count": 57,
     "metadata": {},
     "output_type": "execute_result"
    }
   ],
   "source": [
    "sql = \"\"\"\n",
    "SELECT Id, Title, ViewCount\n",
    "FROM Posts\n",
    "ORDER BY ViewCount DESC\n",
    "LIMIT 5;\n",
    "\"\"\"\n",
    "\n",
    "store_query(\"Task 8\", \"Find the 5 posts with the highest ViewCount\", sql)\n",
    "result = pd.read_sql(sql, con)\n",
    "result"
   ]
  },
  {
   "cell_type": "code",
   "execution_count": 58,
   "metadata": {},
   "outputs": [
    {
     "data": {
      "text/html": [
       "<div>\n",
       "<style scoped>\n",
       "    .dataframe tbody tr th:only-of-type {\n",
       "        vertical-align: middle;\n",
       "    }\n",
       "\n",
       "    .dataframe tbody tr th {\n",
       "        vertical-align: top;\n",
       "    }\n",
       "\n",
       "    .dataframe thead th {\n",
       "        text-align: right;\n",
       "    }\n",
       "</style>\n",
       "<table border=\"1\" class=\"dataframe\">\n",
       "  <thead>\n",
       "    <tr style=\"text-align: right;\">\n",
       "      <th></th>\n",
       "      <th>Id</th>\n",
       "      <th>Title</th>\n",
       "      <th>Score</th>\n",
       "    </tr>\n",
       "  </thead>\n",
       "  <tbody>\n",
       "    <tr>\n",
       "      <th>0</th>\n",
       "      <td>431397</td>\n",
       "      <td>None</td>\n",
       "      <td>101</td>\n",
       "    </tr>\n",
       "    <tr>\n",
       "      <th>1</th>\n",
       "      <td>394128</td>\n",
       "      <td>None</td>\n",
       "      <td>100</td>\n",
       "    </tr>\n",
       "    <tr>\n",
       "      <th>2</th>\n",
       "      <td>426878</td>\n",
       "      <td>None</td>\n",
       "      <td>93</td>\n",
       "    </tr>\n",
       "    <tr>\n",
       "      <th>3</th>\n",
       "      <td>388578</td>\n",
       "      <td>None</td>\n",
       "      <td>80</td>\n",
       "    </tr>\n",
       "    <tr>\n",
       "      <th>4</th>\n",
       "      <td>431370</td>\n",
       "      <td>Is there a name for the phenomenon of false po...</td>\n",
       "      <td>77</td>\n",
       "    </tr>\n",
       "  </tbody>\n",
       "</table>\n",
       "</div>"
      ],
      "text/plain": [
       "       Id                                              Title  Score\n",
       "0  431397                                               None    101\n",
       "1  394128                                               None    100\n",
       "2  426878                                               None     93\n",
       "3  388578                                               None     80\n",
       "4  431370  Is there a name for the phenomenon of false po...     77"
      ]
     },
     "execution_count": 58,
     "metadata": {},
     "output_type": "execute_result"
    }
   ],
   "source": [
    "sql = \"\"\"\n",
    "SELECT Id, Title, Score\n",
    "FROM Posts\n",
    "ORDER BY Score DESC\n",
    "LIMIT 5;\n",
    "\"\"\"\n",
    "store_query(\"Task 9\", \"Find the 5 posts with the highest Score\", sql)\n",
    "result = pd.read_sql(sql, con)\n",
    "result"
   ]
  },
  {
   "cell_type": "code",
   "execution_count": 59,
   "metadata": {},
   "outputs": [
    {
     "data": {
      "text/html": [
       "<div>\n",
       "<style scoped>\n",
       "    .dataframe tbody tr th:only-of-type {\n",
       "        vertical-align: middle;\n",
       "    }\n",
       "\n",
       "    .dataframe tbody tr th {\n",
       "        vertical-align: top;\n",
       "    }\n",
       "\n",
       "    .dataframe thead th {\n",
       "        text-align: right;\n",
       "    }\n",
       "</style>\n",
       "<table border=\"1\" class=\"dataframe\">\n",
       "  <thead>\n",
       "    <tr style=\"text-align: right;\">\n",
       "      <th></th>\n",
       "      <th>Score</th>\n",
       "      <th>count</th>\n",
       "    </tr>\n",
       "  </thead>\n",
       "  <tbody>\n",
       "    <tr>\n",
       "      <th>0</th>\n",
       "      <td>0</td>\n",
       "      <td>19888</td>\n",
       "    </tr>\n",
       "    <tr>\n",
       "      <th>1</th>\n",
       "      <td>1</td>\n",
       "      <td>11867</td>\n",
       "    </tr>\n",
       "    <tr>\n",
       "      <th>2</th>\n",
       "      <td>2</td>\n",
       "      <td>5094</td>\n",
       "    </tr>\n",
       "    <tr>\n",
       "      <th>3</th>\n",
       "      <td>3</td>\n",
       "      <td>2228</td>\n",
       "    </tr>\n",
       "    <tr>\n",
       "      <th>4</th>\n",
       "      <td>4</td>\n",
       "      <td>1059</td>\n",
       "    </tr>\n",
       "  </tbody>\n",
       "</table>\n",
       "</div>"
      ],
      "text/plain": [
       "   Score  count\n",
       "0      0  19888\n",
       "1      1  11867\n",
       "2      2   5094\n",
       "3      3   2228\n",
       "4      4   1059"
      ]
     },
     "execution_count": 59,
     "metadata": {},
     "output_type": "execute_result"
    }
   ],
   "source": [
    "sql = \"\"\"\n",
    "SELECT Score, COUNT(*) AS count\n",
    "FROM Posts\n",
    "GROUP BY Score\n",
    "ORDER BY count DESC\n",
    "LIMIT 5;\n",
    "\"\"\"\n",
    "store_query(\"Task 10\", \"5 most frequent Scores\", sql)\n",
    "result = pd.read_sql(sql, con)\n",
    "result"
   ]
  },
  {
   "cell_type": "code",
   "execution_count": 60,
   "metadata": {},
   "outputs": [
    {
     "data": {
      "text/html": [
       "<div>\n",
       "<style scoped>\n",
       "    .dataframe tbody tr th:only-of-type {\n",
       "        vertical-align: middle;\n",
       "    }\n",
       "\n",
       "    .dataframe tbody tr th {\n",
       "        vertical-align: top;\n",
       "    }\n",
       "\n",
       "    .dataframe thead th {\n",
       "        text-align: right;\n",
       "    }\n",
       "</style>\n",
       "<table border=\"1\" class=\"dataframe\">\n",
       "  <thead>\n",
       "    <tr style=\"text-align: right;\">\n",
       "      <th></th>\n",
       "      <th>COUNT(*)</th>\n",
       "    </tr>\n",
       "  </thead>\n",
       "  <tbody>\n",
       "    <tr>\n",
       "      <th>0</th>\n",
       "      <td>2242</td>\n",
       "    </tr>\n",
       "  </tbody>\n",
       "</table>\n",
       "</div>"
      ],
      "text/plain": [
       "   COUNT(*)\n",
       "0      2242"
      ]
     },
     "execution_count": 60,
     "metadata": {},
     "output_type": "execute_result"
    }
   ],
   "source": [
    "sql = \"\"\"\n",
    "SELECT COUNT(*) \n",
    "FROM Posts \n",
    "WHERE Tags LIKE '%data%';\n",
    "\"\"\"\n",
    "store_query(\"Task 11\", \"How Many keyword Data in Tags\", sql)\n",
    "result = pd.read_sql(sql, con)\n",
    "result"
   ]
  },
  {
   "cell_type": "code",
   "execution_count": 61,
   "metadata": {},
   "outputs": [
    {
     "data": {
      "text/html": [
       "<div>\n",
       "<style scoped>\n",
       "    .dataframe tbody tr th:only-of-type {\n",
       "        vertical-align: middle;\n",
       "    }\n",
       "\n",
       "    .dataframe tbody tr th {\n",
       "        vertical-align: top;\n",
       "    }\n",
       "\n",
       "    .dataframe thead th {\n",
       "        text-align: right;\n",
       "    }\n",
       "</style>\n",
       "<table border=\"1\" class=\"dataframe\">\n",
       "  <thead>\n",
       "    <tr style=\"text-align: right;\">\n",
       "      <th></th>\n",
       "      <th>CommentCount</th>\n",
       "      <th>Frequency</th>\n",
       "    </tr>\n",
       "  </thead>\n",
       "  <tbody>\n",
       "    <tr>\n",
       "      <th>0</th>\n",
       "      <td>0</td>\n",
       "      <td>21713</td>\n",
       "    </tr>\n",
       "    <tr>\n",
       "      <th>1</th>\n",
       "      <td>1</td>\n",
       "      <td>6460</td>\n",
       "    </tr>\n",
       "    <tr>\n",
       "      <th>2</th>\n",
       "      <td>2</td>\n",
       "      <td>4966</td>\n",
       "    </tr>\n",
       "    <tr>\n",
       "      <th>3</th>\n",
       "      <td>3</td>\n",
       "      <td>3063</td>\n",
       "    </tr>\n",
       "    <tr>\n",
       "      <th>4</th>\n",
       "      <td>4</td>\n",
       "      <td>2026</td>\n",
       "    </tr>\n",
       "  </tbody>\n",
       "</table>\n",
       "</div>"
      ],
      "text/plain": [
       "   CommentCount  Frequency\n",
       "0             0      21713\n",
       "1             1       6460\n",
       "2             2       4966\n",
       "3             3       3063\n",
       "4             4       2026"
      ]
     },
     "execution_count": 61,
     "metadata": {},
     "output_type": "execute_result"
    }
   ],
   "source": [
    "sql = \"\"\"\n",
    "SELECT CommentCount, COUNT(*) AS Frequency\n",
    "FROM Posts\n",
    "GROUP BY CommentCount\n",
    "ORDER BY Frequency DESC\n",
    "LIMIT 5;\n",
    "\"\"\"\n",
    "store_query(\"Task 12\", \"Most frequent commentcount for posts\", sql)\n",
    "result = pd.read_sql(sql, con)\n",
    "result"
   ]
  },
  {
   "cell_type": "code",
   "execution_count": 62,
   "metadata": {},
   "outputs": [
    {
     "data": {
      "text/html": [
       "<div>\n",
       "<style scoped>\n",
       "    .dataframe tbody tr th:only-of-type {\n",
       "        vertical-align: middle;\n",
       "    }\n",
       "\n",
       "    .dataframe tbody tr th {\n",
       "        vertical-align: top;\n",
       "    }\n",
       "\n",
       "    .dataframe thead th {\n",
       "        text-align: right;\n",
       "    }\n",
       "</style>\n",
       "<table border=\"1\" class=\"dataframe\">\n",
       "  <thead>\n",
       "    <tr style=\"text-align: right;\">\n",
       "      <th></th>\n",
       "      <th>AcceptedAnswerCount</th>\n",
       "    </tr>\n",
       "  </thead>\n",
       "  <tbody>\n",
       "    <tr>\n",
       "      <th>0</th>\n",
       "      <td>5341</td>\n",
       "    </tr>\n",
       "  </tbody>\n",
       "</table>\n",
       "</div>"
      ],
      "text/plain": [
       "   AcceptedAnswerCount\n",
       "0                 5341"
      ]
     },
     "execution_count": 62,
     "metadata": {},
     "output_type": "execute_result"
    }
   ],
   "source": [
    "sql = \"\"\"\n",
    "SELECT COUNT(*) as AcceptedAnswerCount \n",
    "FROM Posts \n",
    "WHERE AcceptedAnswerId >0;\n",
    "\"\"\"\n",
    "store_query(\"Task 13\", \"How many posts have an accepted answer?\", sql)\n",
    "result = pd.read_sql(sql, con)\n",
    "result"
   ]
  },
  {
   "cell_type": "code",
   "execution_count": 63,
   "metadata": {},
   "outputs": [
    {
     "data": {
      "text/html": [
       "<div>\n",
       "<style scoped>\n",
       "    .dataframe tbody tr th:only-of-type {\n",
       "        vertical-align: middle;\n",
       "    }\n",
       "\n",
       "    .dataframe tbody tr th {\n",
       "        vertical-align: top;\n",
       "    }\n",
       "\n",
       "    .dataframe thead th {\n",
       "        text-align: right;\n",
       "    }\n",
       "</style>\n",
       "<table border=\"1\" class=\"dataframe\">\n",
       "  <thead>\n",
       "    <tr style=\"text-align: right;\">\n",
       "      <th></th>\n",
       "      <th>avg_reputation</th>\n",
       "    </tr>\n",
       "  </thead>\n",
       "  <tbody>\n",
       "    <tr>\n",
       "      <th>0</th>\n",
       "      <td>312.350912</td>\n",
       "    </tr>\n",
       "  </tbody>\n",
       "</table>\n",
       "</div>"
      ],
      "text/plain": [
       "   avg_reputation\n",
       "0      312.350912"
      ]
     },
     "execution_count": 63,
     "metadata": {},
     "output_type": "execute_result"
    }
   ],
   "source": [
    "sql = \"\"\"\n",
    "SELECT AVG(reputation) AS avg_reputation FROM users;\n",
    "\"\"\"\n",
    "store_query(\"Task 14\", \"Average reputation of users\", sql)\n",
    "result = pd.read_sql(sql, con)\n",
    "result"
   ]
  },
  {
   "cell_type": "code",
   "execution_count": 64,
   "metadata": {},
   "outputs": [
    {
     "data": {
      "text/html": [
       "<div>\n",
       "<style scoped>\n",
       "    .dataframe tbody tr th:only-of-type {\n",
       "        vertical-align: middle;\n",
       "    }\n",
       "\n",
       "    .dataframe tbody tr th {\n",
       "        vertical-align: top;\n",
       "    }\n",
       "\n",
       "    .dataframe thead th {\n",
       "        text-align: right;\n",
       "    }\n",
       "</style>\n",
       "<table border=\"1\" class=\"dataframe\">\n",
       "  <thead>\n",
       "    <tr style=\"text-align: right;\">\n",
       "      <th></th>\n",
       "      <th>MIN(reputation)</th>\n",
       "      <th>MAX(reputation)</th>\n",
       "    </tr>\n",
       "  </thead>\n",
       "  <tbody>\n",
       "    <tr>\n",
       "      <th>0</th>\n",
       "      <td>1</td>\n",
       "      <td>228662</td>\n",
       "    </tr>\n",
       "  </tbody>\n",
       "</table>\n",
       "</div>"
      ],
      "text/plain": [
       "   MIN(reputation)  MAX(reputation)\n",
       "0                1           228662"
      ]
     },
     "execution_count": 64,
     "metadata": {},
     "output_type": "execute_result"
    }
   ],
   "source": [
    "sql = \"\"\"\n",
    "SELECT MIN(reputation), MAX(reputation) FROM users;\n",
    "\"\"\"\n",
    "store_query(\"Task 14\", \"Min and Max reputation of users\", sql)\n",
    "result = pd.read_sql(sql, con)\n",
    "result"
   ]
  },
  {
   "cell_type": "code",
   "execution_count": 65,
   "metadata": {},
   "outputs": [
    {
     "data": {
      "text/html": [
       "<div>\n",
       "<style scoped>\n",
       "    .dataframe tbody tr th:only-of-type {\n",
       "        vertical-align: middle;\n",
       "    }\n",
       "\n",
       "    .dataframe tbody tr th {\n",
       "        vertical-align: top;\n",
       "    }\n",
       "\n",
       "    .dataframe thead th {\n",
       "        text-align: right;\n",
       "    }\n",
       "</style>\n",
       "<table border=\"1\" class=\"dataframe\">\n",
       "  <thead>\n",
       "    <tr style=\"text-align: right;\">\n",
       "      <th></th>\n",
       "      <th>LEN_BODY</th>\n",
       "      <th>ViewCount</th>\n",
       "    </tr>\n",
       "  </thead>\n",
       "  <tbody>\n",
       "    <tr>\n",
       "      <th>0</th>\n",
       "      <td>2270</td>\n",
       "      <td>19542</td>\n",
       "    </tr>\n",
       "    <tr>\n",
       "      <th>1</th>\n",
       "      <td>512</td>\n",
       "      <td>16317</td>\n",
       "    </tr>\n",
       "    <tr>\n",
       "      <th>2</th>\n",
       "      <td>811</td>\n",
       "      <td>11723</td>\n",
       "    </tr>\n",
       "    <tr>\n",
       "      <th>3</th>\n",
       "      <td>2148</td>\n",
       "      <td>9850</td>\n",
       "    </tr>\n",
       "    <tr>\n",
       "      <th>4</th>\n",
       "      <td>1172</td>\n",
       "      <td>6718</td>\n",
       "    </tr>\n",
       "  </tbody>\n",
       "</table>\n",
       "</div>"
      ],
      "text/plain": [
       "   LEN_BODY  ViewCount\n",
       "0      2270      19542\n",
       "1       512      16317\n",
       "2       811      11723\n",
       "3      2148       9850\n",
       "4      1172       6718"
      ]
     },
     "execution_count": 65,
     "metadata": {},
     "output_type": "execute_result"
    }
   ],
   "source": [
    "sql = \"\"\"\n",
    "SELECT LEN_BODY, ViewCount\n",
    "FROM Posts\n",
    "ORDER BY ViewCount DESC\n",
    "LIMIT 5\n",
    "\"\"\"\n",
    "store_query(\"Task 15\", \"What is the length of the body of 5 most viewed posts?\", sql)\n",
    "result = pd.read_sql(sql, con)\n",
    "result"
   ]
  },
  {
   "cell_type": "code",
   "execution_count": 66,
   "metadata": {},
   "outputs": [
    {
     "data": {
      "text/html": [
       "<div>\n",
       "<style scoped>\n",
       "    .dataframe tbody tr th:only-of-type {\n",
       "        vertical-align: middle;\n",
       "    }\n",
       "\n",
       "    .dataframe tbody tr th {\n",
       "        vertical-align: top;\n",
       "    }\n",
       "\n",
       "    .dataframe thead th {\n",
       "        text-align: right;\n",
       "    }\n",
       "</style>\n",
       "<table border=\"1\" class=\"dataframe\">\n",
       "  <thead>\n",
       "    <tr style=\"text-align: right;\">\n",
       "      <th></th>\n",
       "      <th>num_locations</th>\n",
       "    </tr>\n",
       "  </thead>\n",
       "  <tbody>\n",
       "    <tr>\n",
       "      <th>0</th>\n",
       "      <td>1900</td>\n",
       "    </tr>\n",
       "  </tbody>\n",
       "</table>\n",
       "</div>"
      ],
      "text/plain": [
       "   num_locations\n",
       "0           1900"
      ]
     },
     "execution_count": 66,
     "metadata": {},
     "output_type": "execute_result"
    }
   ],
   "source": [
    "sql = \"\"\"\n",
    "SELECT COUNT(DISTINCT (location)) AS num_locations\n",
    "FROM users;\n",
    "\"\"\"\n",
    "store_query(\"Task 16\", \"Distinct Locations\", sql)\n",
    "result = pd.read_sql(sql, con)\n",
    "result"
   ]
  },
  {
   "cell_type": "code",
   "execution_count": 67,
   "metadata": {},
   "outputs": [
    {
     "data": {
      "text/html": [
       "<div>\n",
       "<style scoped>\n",
       "    .dataframe tbody tr th:only-of-type {\n",
       "        vertical-align: middle;\n",
       "    }\n",
       "\n",
       "    .dataframe tbody tr th {\n",
       "        vertical-align: top;\n",
       "    }\n",
       "\n",
       "    .dataframe thead th {\n",
       "        text-align: right;\n",
       "    }\n",
       "</style>\n",
       "<table border=\"1\" class=\"dataframe\">\n",
       "  <thead>\n",
       "    <tr style=\"text-align: right;\">\n",
       "      <th></th>\n",
       "      <th>Location</th>\n",
       "      <th>count</th>\n",
       "    </tr>\n",
       "  </thead>\n",
       "  <tbody>\n",
       "    <tr>\n",
       "      <th>0</th>\n",
       "      <td>Germany</td>\n",
       "      <td>117</td>\n",
       "    </tr>\n",
       "    <tr>\n",
       "      <th>1</th>\n",
       "      <td>India</td>\n",
       "      <td>100</td>\n",
       "    </tr>\n",
       "    <tr>\n",
       "      <th>2</th>\n",
       "      <td>United States</td>\n",
       "      <td>69</td>\n",
       "    </tr>\n",
       "    <tr>\n",
       "      <th>3</th>\n",
       "      <td>Paris, France</td>\n",
       "      <td>66</td>\n",
       "    </tr>\n",
       "    <tr>\n",
       "      <th>4</th>\n",
       "      <td>London, United Kingdom</td>\n",
       "      <td>63</td>\n",
       "    </tr>\n",
       "  </tbody>\n",
       "</table>\n",
       "</div>"
      ],
      "text/plain": [
       "                 Location  count\n",
       "0                 Germany    117\n",
       "1                   India    100\n",
       "2           United States     69\n",
       "3           Paris, France     66\n",
       "4  London, United Kingdom     63"
      ]
     },
     "execution_count": 67,
     "metadata": {},
     "output_type": "execute_result"
    }
   ],
   "source": [
    "sql = \"\"\"\n",
    "SELECT Location, COUNT(*) AS count\n",
    "FROM Users\n",
    "WHERE Location IS NOT NULL\n",
    "GROUP BY Location\n",
    "ORDER BY count DESC\n",
    "LIMIT 5\n",
    "\"\"\"\n",
    "store_query(\"Task 17\", \"top 5 locations for users\", sql)\n",
    "result = pd.read_sql(sql, con)\n",
    "result"
   ]
  },
  {
   "cell_type": "code",
   "execution_count": 68,
   "metadata": {},
   "outputs": [
    {
     "data": {
      "text/html": [
       "<div>\n",
       "<style scoped>\n",
       "    .dataframe tbody tr th:only-of-type {\n",
       "        vertical-align: middle;\n",
       "    }\n",
       "\n",
       "    .dataframe tbody tr th {\n",
       "        vertical-align: top;\n",
       "    }\n",
       "\n",
       "    .dataframe thead th {\n",
       "        text-align: right;\n",
       "    }\n",
       "</style>\n",
       "<table border=\"1\" class=\"dataframe\">\n",
       "  <thead>\n",
       "    <tr style=\"text-align: right;\">\n",
       "      <th></th>\n",
       "      <th>day_of_week</th>\n",
       "      <th>total_views</th>\n",
       "      <th>percentage</th>\n",
       "    </tr>\n",
       "  </thead>\n",
       "  <tbody>\n",
       "    <tr>\n",
       "      <th>0</th>\n",
       "      <td>4</td>\n",
       "      <td>331507</td>\n",
       "      <td>16.819476</td>\n",
       "    </tr>\n",
       "    <tr>\n",
       "      <th>1</th>\n",
       "      <td>3</td>\n",
       "      <td>330506</td>\n",
       "      <td>16.768689</td>\n",
       "    </tr>\n",
       "    <tr>\n",
       "      <th>2</th>\n",
       "      <td>2</td>\n",
       "      <td>320382</td>\n",
       "      <td>16.255034</td>\n",
       "    </tr>\n",
       "    <tr>\n",
       "      <th>3</th>\n",
       "      <td>1</td>\n",
       "      <td>311546</td>\n",
       "      <td>15.806727</td>\n",
       "    </tr>\n",
       "    <tr>\n",
       "      <th>4</th>\n",
       "      <td>5</td>\n",
       "      <td>267324</td>\n",
       "      <td>13.563061</td>\n",
       "    </tr>\n",
       "    <tr>\n",
       "      <th>5</th>\n",
       "      <td>0</td>\n",
       "      <td>234459</td>\n",
       "      <td>11.895609</td>\n",
       "    </tr>\n",
       "    <tr>\n",
       "      <th>6</th>\n",
       "      <td>6</td>\n",
       "      <td>175247</td>\n",
       "      <td>8.891404</td>\n",
       "    </tr>\n",
       "  </tbody>\n",
       "</table>\n",
       "</div>"
      ],
      "text/plain": [
       "   day_of_week  total_views  percentage\n",
       "0            4       331507   16.819476\n",
       "1            3       330506   16.768689\n",
       "2            2       320382   16.255034\n",
       "3            1       311546   15.806727\n",
       "4            5       267324   13.563061\n",
       "5            0       234459   11.895609\n",
       "6            6       175247    8.891404"
      ]
     },
     "execution_count": 68,
     "metadata": {},
     "output_type": "execute_result"
    }
   ],
   "source": [
    "sql = \"\"\"\n",
    "SELECT CAST(strftime('%w', CreationDate) AS INTEGER) AS day_of_week,\n",
    "       SUM(ViewCount) AS total_views,\n",
    "       100.0 * SUM(ViewCount) / (SELECT SUM(ViewCount) FROM Posts) AS percentage\n",
    "FROM Posts\n",
    "GROUP BY day_of_week\n",
    "ORDER BY total_views DESC\n",
    "\"\"\"\n",
    "store_query(\"Task 18\", \"Rank Days of the week\", sql)\n",
    "result = pd.read_sql(sql, con)\n",
    "result"
   ]
  },
  {
   "cell_type": "markdown",
   "metadata": {},
   "source": [
    "#  Cross Table Queries"
   ]
  },
  {
   "cell_type": "markdown",
   "metadata": {},
   "source": [
    "## Lifecycle Stage: Analyze\n",
    "Let's continue the analysis with our multi-table queries.  "
   ]
  },
  {
   "cell_type": "markdown",
   "metadata": {},
   "source": [
    "### Cross Table Queries\n",
    "\n",
    "From the Template SQL Queries there are a series of queries requested. You are responsible for coding the result. Use the pattern above to accomplish the coding objective.  Copy and paste the question (column B Action) into a markdown cell and answer the query. Use the pattern that you have been using above. \n"
   ]
  },
  {
   "cell_type": "code",
   "execution_count": 69,
   "metadata": {},
   "outputs": [
    {
     "data": {
      "text/html": [
       "<div>\n",
       "<style scoped>\n",
       "    .dataframe tbody tr th:only-of-type {\n",
       "        vertical-align: middle;\n",
       "    }\n",
       "\n",
       "    .dataframe tbody tr th {\n",
       "        vertical-align: top;\n",
       "    }\n",
       "\n",
       "    .dataframe thead th {\n",
       "        text-align: right;\n",
       "    }\n",
       "</style>\n",
       "<table border=\"1\" class=\"dataframe\">\n",
       "  <thead>\n",
       "    <tr style=\"text-align: right;\">\n",
       "      <th></th>\n",
       "      <th>post_count</th>\n",
       "    </tr>\n",
       "  </thead>\n",
       "  <tbody>\n",
       "    <tr>\n",
       "      <th>0</th>\n",
       "      <td>17189</td>\n",
       "    </tr>\n",
       "  </tbody>\n",
       "</table>\n",
       "</div>"
      ],
      "text/plain": [
       "   post_count\n",
       "0       17189"
      ]
     },
     "execution_count": 69,
     "metadata": {},
     "output_type": "execute_result"
    }
   ],
   "source": [
    "sql = \"\"\"\n",
    "SELECT COUNT(*) AS post_count\n",
    "FROM users\n",
    "JOIN posts ON users.Id = posts.OwnerUserId\n",
    "WHERE users.AboutMe IS NOT NULL;\n",
    "\"\"\"\n",
    "store_query(\"Task 3.1\", \"Post created by a user about me section\", sql)\n",
    "result = pd.read_sql(sql, con)\n",
    "result"
   ]
  },
  {
   "cell_type": "code",
   "execution_count": 70,
   "metadata": {},
   "outputs": [
    {
     "data": {
      "text/html": [
       "<div>\n",
       "<style scoped>\n",
       "    .dataframe tbody tr th:only-of-type {\n",
       "        vertical-align: middle;\n",
       "    }\n",
       "\n",
       "    .dataframe tbody tr th {\n",
       "        vertical-align: top;\n",
       "    }\n",
       "\n",
       "    .dataframe thead th {\n",
       "        text-align: right;\n",
       "    }\n",
       "</style>\n",
       "<table border=\"1\" class=\"dataframe\">\n",
       "  <thead>\n",
       "    <tr style=\"text-align: right;\">\n",
       "      <th></th>\n",
       "      <th>posts_per_user</th>\n",
       "    </tr>\n",
       "  </thead>\n",
       "  <tbody>\n",
       "    <tr>\n",
       "      <th>0</th>\n",
       "      <td>4.274807</td>\n",
       "    </tr>\n",
       "  </tbody>\n",
       "</table>\n",
       "</div>"
      ],
      "text/plain": [
       "   posts_per_user\n",
       "0        4.274807"
      ]
     },
     "execution_count": 70,
     "metadata": {},
     "output_type": "execute_result"
    }
   ],
   "source": [
    "sql = \"\"\"\n",
    "SELECT COUNT(*) / (SELECT CAST(COUNT(*) AS FLOAT) FROM USERS WHERE ABOUTME !='') AS posts_per_user\n",
    "    FROM POSTS P\n",
    "    JOIN USERS U ON P.OWNERUSERID = U.ID\n",
    "    WHERE U.ABOUTME !='';\n",
    "    \"\"\"\n",
    "store_query(\"Task 3\", \"Considering only the users with an 'AboutMe', how many posts are there per user?\", sql)\n",
    "result = pd.read_sql(sql, con)\n",
    "result.head()"
   ]
  },
  {
   "cell_type": "code",
   "execution_count": 321,
   "metadata": {},
   "outputs": [
    {
     "data": {
      "text/html": [
       "<div>\n",
       "<style scoped>\n",
       "    .dataframe tbody tr th:only-of-type {\n",
       "        vertical-align: middle;\n",
       "    }\n",
       "\n",
       "    .dataframe tbody tr th {\n",
       "        vertical-align: top;\n",
       "    }\n",
       "\n",
       "    .dataframe thead th {\n",
       "        text-align: right;\n",
       "    }\n",
       "</style>\n",
       "<table border=\"1\" class=\"dataframe\">\n",
       "  <thead>\n",
       "    <tr style=\"text-align: right;\">\n",
       "      <th></th>\n",
       "      <th>Id</th>\n",
       "      <th>Title</th>\n",
       "      <th>comment_count</th>\n",
       "    </tr>\n",
       "  </thead>\n",
       "  <tbody>\n",
       "    <tr>\n",
       "      <th>0</th>\n",
       "      <td>386853</td>\n",
       "      <td>None</td>\n",
       "      <td>66</td>\n",
       "    </tr>\n",
       "    <tr>\n",
       "      <th>1</th>\n",
       "      <td>386556</td>\n",
       "      <td>Strategies for predicting 100 binary choices g...</td>\n",
       "      <td>34</td>\n",
       "    </tr>\n",
       "    <tr>\n",
       "      <th>2</th>\n",
       "      <td>418910</td>\n",
       "      <td>None</td>\n",
       "      <td>31</td>\n",
       "    </tr>\n",
       "    <tr>\n",
       "      <th>3</th>\n",
       "      <td>395232</td>\n",
       "      <td>None</td>\n",
       "      <td>31</td>\n",
       "    </tr>\n",
       "    <tr>\n",
       "      <th>4</th>\n",
       "      <td>402987</td>\n",
       "      <td>Evaluating Unbalanced Multiclass Classifiers: ...</td>\n",
       "      <td>27</td>\n",
       "    </tr>\n",
       "    <tr>\n",
       "      <th>5</th>\n",
       "      <td>386075</td>\n",
       "      <td>Avoiding social discrimination in model building</td>\n",
       "      <td>26</td>\n",
       "    </tr>\n",
       "    <tr>\n",
       "      <th>6</th>\n",
       "      <td>394118</td>\n",
       "      <td>Why do neural networks need so many training e...</td>\n",
       "      <td>24</td>\n",
       "    </tr>\n",
       "    <tr>\n",
       "      <th>7</th>\n",
       "      <td>402950</td>\n",
       "      <td>Poisson Regression in R with individual fixed-...</td>\n",
       "      <td>23</td>\n",
       "    </tr>\n",
       "    <tr>\n",
       "      <th>8</th>\n",
       "      <td>398828</td>\n",
       "      <td>None</td>\n",
       "      <td>23</td>\n",
       "    </tr>\n",
       "    <tr>\n",
       "      <th>9</th>\n",
       "      <td>396111</td>\n",
       "      <td>How do I intepret these t-SNE results?</td>\n",
       "      <td>22</td>\n",
       "    </tr>\n",
       "  </tbody>\n",
       "</table>\n",
       "</div>"
      ],
      "text/plain": [
       "       Id                                              Title  comment_count\n",
       "0  386853                                               None             66\n",
       "1  386556  Strategies for predicting 100 binary choices g...             34\n",
       "2  418910                                               None             31\n",
       "3  395232                                               None             31\n",
       "4  402987  Evaluating Unbalanced Multiclass Classifiers: ...             27\n",
       "5  386075   Avoiding social discrimination in model building             26\n",
       "6  394118  Why do neural networks need so many training e...             24\n",
       "7  402950  Poisson Regression in R with individual fixed-...             23\n",
       "8  398828                                               None             23\n",
       "9  396111             How do I intepret these t-SNE results?             22"
      ]
     },
     "execution_count": 321,
     "metadata": {},
     "output_type": "execute_result"
    }
   ],
   "source": [
    "sql = \"\"\" \n",
    "SELECT posts.Id, posts.Title, COUNT(comments.Id) AS comment_count\n",
    "FROM posts\n",
    "JOIN comments ON posts.Id = comments.PostId\n",
    "GROUP BY posts.Id\n",
    "ORDER BY comment_count DESC\n",
    "LIMIT 10;\n",
    "\"\"\"\n",
    "store_query(\"Task 3.3\", \"Top 10 posts number of comments\", sql)\n",
    "result = pd.read_sql(sql, con)\n",
    "result"
   ]
  },
  {
   "cell_type": "code",
   "execution_count": 322,
   "metadata": {},
   "outputs": [
    {
     "data": {
      "text/html": [
       "<div>\n",
       "<style scoped>\n",
       "    .dataframe tbody tr th:only-of-type {\n",
       "        vertical-align: middle;\n",
       "    }\n",
       "\n",
       "    .dataframe tbody tr th {\n",
       "        vertical-align: top;\n",
       "    }\n",
       "\n",
       "    .dataframe thead th {\n",
       "        text-align: right;\n",
       "    }\n",
       "</style>\n",
       "<table border=\"1\" class=\"dataframe\">\n",
       "  <thead>\n",
       "    <tr style=\"text-align: right;\">\n",
       "      <th></th>\n",
       "      <th>Id</th>\n",
       "      <th>Title</th>\n",
       "      <th>total_score</th>\n",
       "    </tr>\n",
       "  </thead>\n",
       "  <tbody>\n",
       "    <tr>\n",
       "      <th>0</th>\n",
       "      <td>394118</td>\n",
       "      <td>Why do neural networks need so many training e...</td>\n",
       "      <td>306</td>\n",
       "    </tr>\n",
       "    <tr>\n",
       "      <th>1</th>\n",
       "      <td>394128</td>\n",
       "      <td>None</td>\n",
       "      <td>169</td>\n",
       "    </tr>\n",
       "    <tr>\n",
       "      <th>2</th>\n",
       "      <td>388578</td>\n",
       "      <td>None</td>\n",
       "      <td>141</td>\n",
       "    </tr>\n",
       "    <tr>\n",
       "      <th>3</th>\n",
       "      <td>398653</td>\n",
       "      <td>None</td>\n",
       "      <td>111</td>\n",
       "    </tr>\n",
       "    <tr>\n",
       "      <th>4</th>\n",
       "      <td>388566</td>\n",
       "      <td>Is it wrong to rephrase \"1 in 80 deaths is cau...</td>\n",
       "      <td>101</td>\n",
       "    </tr>\n",
       "    <tr>\n",
       "      <th>5</th>\n",
       "      <td>398646</td>\n",
       "      <td>What does \"Scientists rise up against statisti...</td>\n",
       "      <td>99</td>\n",
       "    </tr>\n",
       "    <tr>\n",
       "      <th>6</th>\n",
       "      <td>421677</td>\n",
       "      <td>None</td>\n",
       "      <td>96</td>\n",
       "    </tr>\n",
       "    <tr>\n",
       "      <th>7</th>\n",
       "      <td>420526</td>\n",
       "      <td>None</td>\n",
       "      <td>92</td>\n",
       "    </tr>\n",
       "    <tr>\n",
       "      <th>8</th>\n",
       "      <td>400317</td>\n",
       "      <td>None</td>\n",
       "      <td>72</td>\n",
       "    </tr>\n",
       "    <tr>\n",
       "      <th>9</th>\n",
       "      <td>388582</td>\n",
       "      <td>None</td>\n",
       "      <td>69</td>\n",
       "    </tr>\n",
       "  </tbody>\n",
       "</table>\n",
       "</div>"
      ],
      "text/plain": [
       "       Id                                              Title  total_score\n",
       "0  394118  Why do neural networks need so many training e...          306\n",
       "1  394128                                               None          169\n",
       "2  388578                                               None          141\n",
       "3  398653                                               None          111\n",
       "4  388566  Is it wrong to rephrase \"1 in 80 deaths is cau...          101\n",
       "5  398646  What does \"Scientists rise up against statisti...           99\n",
       "6  421677                                               None           96\n",
       "7  420526                                               None           92\n",
       "8  400317                                               None           72\n",
       "9  388582                                               None           69"
      ]
     },
     "execution_count": 322,
     "metadata": {},
     "output_type": "execute_result"
    }
   ],
   "source": [
    "sql = \"\"\" \n",
    "SELECT posts.Id, posts.Title, posts.Score + SUM(comments.Score) AS total_score\n",
    "FROM posts\n",
    "JOIN comments ON posts.Id = comments.PostId\n",
    "GROUP BY posts.Id\n",
    "ORDER BY total_score DESC\n",
    "LIMIT 10;\n",
    "\n",
    "\"\"\"\n",
    "store_query(\"Task 3.4\", \"Top 10 Score\", sql)\n",
    "result = pd.read_sql(sql, con)\n",
    "result"
   ]
  },
  {
   "cell_type": "code",
   "execution_count": 323,
   "metadata": {},
   "outputs": [
    {
     "data": {
      "text/html": [
       "<div>\n",
       "<style scoped>\n",
       "    .dataframe tbody tr th:only-of-type {\n",
       "        vertical-align: middle;\n",
       "    }\n",
       "\n",
       "    .dataframe tbody tr th {\n",
       "        vertical-align: top;\n",
       "    }\n",
       "\n",
       "    .dataframe thead th {\n",
       "        text-align: right;\n",
       "    }\n",
       "</style>\n",
       "<table border=\"1\" class=\"dataframe\">\n",
       "  <thead>\n",
       "    <tr style=\"text-align: right;\">\n",
       "      <th></th>\n",
       "      <th>user_id</th>\n",
       "      <th>comment_count</th>\n",
       "      <th>user_reputation</th>\n",
       "    </tr>\n",
       "  </thead>\n",
       "  <tbody>\n",
       "    <tr>\n",
       "      <th>0</th>\n",
       "      <td>805</td>\n",
       "      <td>1153</td>\n",
       "      <td>228662</td>\n",
       "    </tr>\n",
       "    <tr>\n",
       "      <th>1</th>\n",
       "      <td>919</td>\n",
       "      <td>3301</td>\n",
       "      <td>223056</td>\n",
       "    </tr>\n",
       "    <tr>\n",
       "      <th>2</th>\n",
       "      <td>7290</td>\n",
       "      <td>370</td>\n",
       "      <td>115531</td>\n",
       "    </tr>\n",
       "    <tr>\n",
       "      <th>3</th>\n",
       "      <td>686</td>\n",
       "      <td>349</td>\n",
       "      <td>85077</td>\n",
       "    </tr>\n",
       "    <tr>\n",
       "      <th>4</th>\n",
       "      <td>28666</td>\n",
       "      <td>158</td>\n",
       "      <td>75024</td>\n",
       "    </tr>\n",
       "    <tr>\n",
       "      <th>5</th>\n",
       "      <td>35989</td>\n",
       "      <td>470</td>\n",
       "      <td>71548</td>\n",
       "    </tr>\n",
       "    <tr>\n",
       "      <th>6</th>\n",
       "      <td>7224</td>\n",
       "      <td>424</td>\n",
       "      <td>65999</td>\n",
       "    </tr>\n",
       "    <tr>\n",
       "      <th>7</th>\n",
       "      <td>4253</td>\n",
       "      <td>255</td>\n",
       "      <td>59952</td>\n",
       "    </tr>\n",
       "    <tr>\n",
       "      <th>8</th>\n",
       "      <td>1352</td>\n",
       "      <td>422</td>\n",
       "      <td>59160</td>\n",
       "    </tr>\n",
       "    <tr>\n",
       "      <th>9</th>\n",
       "      <td>22311</td>\n",
       "      <td>467</td>\n",
       "      <td>51155</td>\n",
       "    </tr>\n",
       "  </tbody>\n",
       "</table>\n",
       "</div>"
      ],
      "text/plain": [
       "   user_id  comment_count  user_reputation\n",
       "0      805           1153           228662\n",
       "1      919           3301           223056\n",
       "2     7290            370           115531\n",
       "3      686            349            85077\n",
       "4    28666            158            75024\n",
       "5    35989            470            71548\n",
       "6     7224            424            65999\n",
       "7     4253            255            59952\n",
       "8     1352            422            59160\n",
       "9    22311            467            51155"
      ]
     },
     "execution_count": 323,
     "metadata": {},
     "output_type": "execute_result"
    }
   ],
   "source": [
    "sql = \"\"\" \n",
    "SELECT u.Id AS user_id, COUNT(c.Id) AS comment_count, u.Reputation AS user_reputation\n",
    "FROM users u\n",
    "JOIN comments c ON u.Id = c.UserId\n",
    "GROUP BY u.Id\n",
    "ORDER BY user_reputation DESC\n",
    "LIMIT 10;\n",
    "\"\"\"\n",
    "store_query(\"Task 3.5.1\", \"Top 10 Most comments\", sql)\n",
    "result = pd.read_sql(sql, con)\n",
    "result"
   ]
  },
  {
   "cell_type": "code",
   "execution_count": 324,
   "metadata": {},
   "outputs": [
    {
     "data": {
      "text/html": [
       "<div>\n",
       "<style scoped>\n",
       "    .dataframe tbody tr th:only-of-type {\n",
       "        vertical-align: middle;\n",
       "    }\n",
       "\n",
       "    .dataframe tbody tr th {\n",
       "        vertical-align: top;\n",
       "    }\n",
       "\n",
       "    .dataframe thead th {\n",
       "        text-align: right;\n",
       "    }\n",
       "</style>\n",
       "<table border=\"1\" class=\"dataframe\">\n",
       "  <thead>\n",
       "    <tr style=\"text-align: right;\">\n",
       "      <th></th>\n",
       "      <th>user_id</th>\n",
       "      <th>comment_count</th>\n",
       "      <th>user_reputation</th>\n",
       "    </tr>\n",
       "  </thead>\n",
       "  <tbody>\n",
       "    <tr>\n",
       "      <th>0</th>\n",
       "      <td>919</td>\n",
       "      <td>3301</td>\n",
       "      <td>223056</td>\n",
       "    </tr>\n",
       "    <tr>\n",
       "      <th>1</th>\n",
       "      <td>805</td>\n",
       "      <td>1153</td>\n",
       "      <td>228662</td>\n",
       "    </tr>\n",
       "    <tr>\n",
       "      <th>2</th>\n",
       "      <td>143489</td>\n",
       "      <td>1024</td>\n",
       "      <td>2890</td>\n",
       "    </tr>\n",
       "    <tr>\n",
       "      <th>3</th>\n",
       "      <td>11887</td>\n",
       "      <td>805</td>\n",
       "      <td>39200</td>\n",
       "    </tr>\n",
       "    <tr>\n",
       "      <th>4</th>\n",
       "      <td>85665</td>\n",
       "      <td>691</td>\n",
       "      <td>17391</td>\n",
       "    </tr>\n",
       "    <tr>\n",
       "      <th>5</th>\n",
       "      <td>164061</td>\n",
       "      <td>540</td>\n",
       "      <td>13485</td>\n",
       "    </tr>\n",
       "    <tr>\n",
       "      <th>6</th>\n",
       "      <td>22047</td>\n",
       "      <td>536</td>\n",
       "      <td>41385</td>\n",
       "    </tr>\n",
       "    <tr>\n",
       "      <th>7</th>\n",
       "      <td>158565</td>\n",
       "      <td>504</td>\n",
       "      <td>6482</td>\n",
       "    </tr>\n",
       "    <tr>\n",
       "      <th>8</th>\n",
       "      <td>7962</td>\n",
       "      <td>492</td>\n",
       "      <td>8030</td>\n",
       "    </tr>\n",
       "    <tr>\n",
       "      <th>9</th>\n",
       "      <td>35989</td>\n",
       "      <td>470</td>\n",
       "      <td>71548</td>\n",
       "    </tr>\n",
       "  </tbody>\n",
       "</table>\n",
       "</div>"
      ],
      "text/plain": [
       "   user_id  comment_count  user_reputation\n",
       "0      919           3301           223056\n",
       "1      805           1153           228662\n",
       "2   143489           1024             2890\n",
       "3    11887            805            39200\n",
       "4    85665            691            17391\n",
       "5   164061            540            13485\n",
       "6    22047            536            41385\n",
       "7   158565            504             6482\n",
       "8     7962            492             8030\n",
       "9    35989            470            71548"
      ]
     },
     "execution_count": 324,
     "metadata": {},
     "output_type": "execute_result"
    }
   ],
   "source": [
    "sql = \"\"\" \n",
    "SELECT u.Id AS user_id, COUNT(c.Id) AS comment_count, u.Reputation AS user_reputation\n",
    "FROM users u\n",
    "JOIN comments c ON u.Id = c.UserId\n",
    "GROUP BY u.Id\n",
    "ORDER BY comment_count DESC\n",
    "LIMIT 10;\n",
    "\"\"\"\n",
    "store_query(\"Task 3.5.2\", \"Top 10 Most comments\", sql)\n",
    "result = pd.read_sql(sql, con)\n",
    "result"
   ]
  },
  {
   "cell_type": "code",
   "execution_count": 325,
   "metadata": {},
   "outputs": [],
   "source": [
    "#COMMENT -"
   ]
  },
  {
   "cell_type": "code",
   "execution_count": 326,
   "metadata": {},
   "outputs": [
    {
     "data": {
      "text/html": [
       "<div>\n",
       "<style scoped>\n",
       "    .dataframe tbody tr th:only-of-type {\n",
       "        vertical-align: middle;\n",
       "    }\n",
       "\n",
       "    .dataframe tbody tr th {\n",
       "        vertical-align: top;\n",
       "    }\n",
       "\n",
       "    .dataframe thead th {\n",
       "        text-align: right;\n",
       "    }\n",
       "</style>\n",
       "<table border=\"1\" class=\"dataframe\">\n",
       "  <thead>\n",
       "    <tr style=\"text-align: right;\">\n",
       "      <th></th>\n",
       "      <th>user_id</th>\n",
       "      <th>post_count</th>\n",
       "      <th>user_reputation</th>\n",
       "    </tr>\n",
       "  </thead>\n",
       "  <tbody>\n",
       "    <tr>\n",
       "      <th>0</th>\n",
       "      <td>204068</td>\n",
       "      <td>637</td>\n",
       "      <td>17404</td>\n",
       "    </tr>\n",
       "    <tr>\n",
       "      <th>1</th>\n",
       "      <td>85665</td>\n",
       "      <td>545</td>\n",
       "      <td>17391</td>\n",
       "    </tr>\n",
       "    <tr>\n",
       "      <th>2</th>\n",
       "      <td>173082</td>\n",
       "      <td>435</td>\n",
       "      <td>42553</td>\n",
       "    </tr>\n",
       "    <tr>\n",
       "      <th>3</th>\n",
       "      <td>11887</td>\n",
       "      <td>435</td>\n",
       "      <td>39200</td>\n",
       "    </tr>\n",
       "    <tr>\n",
       "      <th>4</th>\n",
       "      <td>686</td>\n",
       "      <td>386</td>\n",
       "      <td>85077</td>\n",
       "    </tr>\n",
       "    <tr>\n",
       "      <th>5</th>\n",
       "      <td>1352</td>\n",
       "      <td>285</td>\n",
       "      <td>59160</td>\n",
       "    </tr>\n",
       "    <tr>\n",
       "      <th>6</th>\n",
       "      <td>3382</td>\n",
       "      <td>274</td>\n",
       "      <td>24841</td>\n",
       "    </tr>\n",
       "    <tr>\n",
       "      <th>7</th>\n",
       "      <td>7224</td>\n",
       "      <td>233</td>\n",
       "      <td>65999</td>\n",
       "    </tr>\n",
       "    <tr>\n",
       "      <th>8</th>\n",
       "      <td>35989</td>\n",
       "      <td>230</td>\n",
       "      <td>71548</td>\n",
       "    </tr>\n",
       "    <tr>\n",
       "      <th>9</th>\n",
       "      <td>805</td>\n",
       "      <td>230</td>\n",
       "      <td>228662</td>\n",
       "    </tr>\n",
       "  </tbody>\n",
       "</table>\n",
       "</div>"
      ],
      "text/plain": [
       "   user_id  post_count  user_reputation\n",
       "0   204068         637            17404\n",
       "1    85665         545            17391\n",
       "2   173082         435            42553\n",
       "3    11887         435            39200\n",
       "4      686         386            85077\n",
       "5     1352         285            59160\n",
       "6     3382         274            24841\n",
       "7     7224         233            65999\n",
       "8    35989         230            71548\n",
       "9      805         230           228662"
      ]
     },
     "execution_count": 326,
     "metadata": {},
     "output_type": "execute_result"
    }
   ],
   "source": [
    "sql = \"\"\" \n",
    "SELECT u.Id AS user_id, COUNT(p.Id) AS post_count, u.Reputation AS user_reputation\n",
    "FROM users u\n",
    "JOIN posts p ON u.Id = p.OwnerUserId\n",
    "GROUP BY u.Id\n",
    "ORDER BY post_count DESC\n",
    "LIMIT 10;\n",
    "\"\"\"\n",
    "store_query(\"Task 3.6.1\", \"Top 10 users that post the most\", sql)\n",
    "result = pd.read_sql(sql, con)\n",
    "result"
   ]
  },
  {
   "cell_type": "code",
   "execution_count": 327,
   "metadata": {},
   "outputs": [
    {
     "data": {
      "text/html": [
       "<div>\n",
       "<style scoped>\n",
       "    .dataframe tbody tr th:only-of-type {\n",
       "        vertical-align: middle;\n",
       "    }\n",
       "\n",
       "    .dataframe tbody tr th {\n",
       "        vertical-align: top;\n",
       "    }\n",
       "\n",
       "    .dataframe thead th {\n",
       "        text-align: right;\n",
       "    }\n",
       "</style>\n",
       "<table border=\"1\" class=\"dataframe\">\n",
       "  <thead>\n",
       "    <tr style=\"text-align: right;\">\n",
       "      <th></th>\n",
       "      <th>user_id</th>\n",
       "      <th>post_count</th>\n",
       "      <th>user_reputation</th>\n",
       "    </tr>\n",
       "  </thead>\n",
       "  <tbody>\n",
       "    <tr>\n",
       "      <th>0</th>\n",
       "      <td>805</td>\n",
       "      <td>230</td>\n",
       "      <td>228662</td>\n",
       "    </tr>\n",
       "    <tr>\n",
       "      <th>1</th>\n",
       "      <td>919</td>\n",
       "      <td>203</td>\n",
       "      <td>223056</td>\n",
       "    </tr>\n",
       "    <tr>\n",
       "      <th>2</th>\n",
       "      <td>7290</td>\n",
       "      <td>35</td>\n",
       "      <td>115531</td>\n",
       "    </tr>\n",
       "    <tr>\n",
       "      <th>3</th>\n",
       "      <td>686</td>\n",
       "      <td>386</td>\n",
       "      <td>85077</td>\n",
       "    </tr>\n",
       "    <tr>\n",
       "      <th>4</th>\n",
       "      <td>28666</td>\n",
       "      <td>8</td>\n",
       "      <td>75024</td>\n",
       "    </tr>\n",
       "    <tr>\n",
       "      <th>5</th>\n",
       "      <td>35989</td>\n",
       "      <td>230</td>\n",
       "      <td>71548</td>\n",
       "    </tr>\n",
       "    <tr>\n",
       "      <th>6</th>\n",
       "      <td>7224</td>\n",
       "      <td>233</td>\n",
       "      <td>65999</td>\n",
       "    </tr>\n",
       "    <tr>\n",
       "      <th>7</th>\n",
       "      <td>4253</td>\n",
       "      <td>71</td>\n",
       "      <td>59952</td>\n",
       "    </tr>\n",
       "    <tr>\n",
       "      <th>8</th>\n",
       "      <td>1352</td>\n",
       "      <td>285</td>\n",
       "      <td>59160</td>\n",
       "    </tr>\n",
       "    <tr>\n",
       "      <th>9</th>\n",
       "      <td>22311</td>\n",
       "      <td>140</td>\n",
       "      <td>51155</td>\n",
       "    </tr>\n",
       "  </tbody>\n",
       "</table>\n",
       "</div>"
      ],
      "text/plain": [
       "   user_id  post_count  user_reputation\n",
       "0      805         230           228662\n",
       "1      919         203           223056\n",
       "2     7290          35           115531\n",
       "3      686         386            85077\n",
       "4    28666           8            75024\n",
       "5    35989         230            71548\n",
       "6     7224         233            65999\n",
       "7     4253          71            59952\n",
       "8     1352         285            59160\n",
       "9    22311         140            51155"
      ]
     },
     "execution_count": 327,
     "metadata": {},
     "output_type": "execute_result"
    }
   ],
   "source": [
    "sql = \"\"\" \n",
    "SELECT u.Id AS user_id, COUNT(p.Id) AS post_count, u.Reputation AS user_reputation\n",
    "FROM users u\n",
    "JOIN posts p ON u.Id = p.OwnerUserId\n",
    "GROUP BY u.Id\n",
    "ORDER BY user_reputation DESC\n",
    "LIMIT 10;\n",
    "\"\"\"\n",
    "store_query(\"Task 3.6.2\", \"Top 10 users that post the most\", sql)\n",
    "result = pd.read_sql(sql, con)\n",
    "result"
   ]
  },
  {
   "cell_type": "code",
   "execution_count": 328,
   "metadata": {},
   "outputs": [],
   "source": [
    "#COMMENT"
   ]
  },
  {
   "cell_type": "markdown",
   "metadata": {},
   "source": [
    "#  Check the Queries Table\n",
    "\n",
    "Now let's tidy up and check the queries table.\n",
    "\n",
    "First let's check it's contents:"
   ]
  },
  {
   "cell_type": "code",
   "execution_count": 329,
   "metadata": {},
   "outputs": [
    {
     "name": "stdout",
     "output_type": "stream",
     "text": [
      " * sqlite:///chatdata.db\n",
      "Done.\n"
     ]
    },
    {
     "data": {
      "text/html": [
       "<table>\n",
       "    <thead>\n",
       "        <tr>\n",
       "            <th>task</th>\n",
       "            <th>action</th>\n",
       "            <th>query</th>\n",
       "        </tr>\n",
       "    </thead>\n",
       "    <tbody>\n",
       "        <tr>\n",
       "            <td>Single Table Queries</td>\n",
       "            <td>Which 5 users have viewed the most times and what is the sum of those views per user?</td>\n",
       "            <td><br>SELECT Id, SUM(Views) AS TotalViews<br>    FROM Users<br>        GROUP BY Id<br>            ORDER BY TotalViews DESC<br>                LIMIT 5<br>                </td>\n",
       "        </tr>\n",
       "        <tr>\n",
       "            <td>Task 1</td>\n",
       "            <td>Create table comments</td>\n",
       "            <td><br>    CREATE TABLE &quot;comments&quot; (<br>    &quot;Id&quot; INTEGER,<br>    &quot;PostId&quot; INTEGER,<br>    &quot;Score&quot; INTEGER,<br>    &quot;Text&quot; TEXT,<br>    &quot;CreationDate&quot; TEXT,<br>    &quot;UserId&quot; INTEGER<br>    )<br>    </td>\n",
       "        </tr>\n",
       "        <tr>\n",
       "            <td>Task 2</td>\n",
       "            <td>Create table posts</td>\n",
       "            <td><br>    CREATE TABLE &quot;posts&quot; (<br>&quot;Id&quot; INTEGER,<br>&quot;PostTypeId&quot; INTEGER,<br>&quot;AcceptedAnswerId&quot; INTEGER,<br>&quot;ParentId&quot; INTEGER,<br>&quot;CreationDate&quot; TEXT,<br>&quot;Score&quot; INTEGER,<br>&quot;ViewCount&quot; INTEGER,<br>&quot;Body&quot; TEXT,<br>&quot;OwnerUserId&quot; INTEGER,<br>&quot;OwnerDisplayName&quot; TEXT,<br>&quot;LastEditorUserId&quot; INTEGER,<br>&quot;LastEditorDisplayName&quot; TEXT,<br>&quot;LastEditDate&quot; TEXT,<br>&quot;LastActivityDate&quot; TEXT,<br>&quot;Title&quot; TEXT,<br>&quot;Tags&quot; TEXT,<br>&quot;AnswerCount&quot; INTEGER,<br>&quot;CommentCount&quot; INTEGER,<br>&quot;FavoriteCount&quot; INTEGER,<br>&quot;ClosedDate&quot; TEXT,<br>&quot;CommunityOwnedDate&quot; TEXT<br>)<br>    </td>\n",
       "        </tr>\n",
       "        <tr>\n",
       "            <td>Task 3</td>\n",
       "            <td>Create table users</td>\n",
       "            <td><br>  CREATE TABLE &quot;users&quot; (<br>&quot;Id&quot; INTEGER,<br>&quot;Reputation&quot; INTEGER,<br>&quot;CreationDate&quot; TEXT,<br>&quot;DisplayName&quot; TEXT,<br>&quot;LastAccessDate&quot; TEXT,<br>&quot;WebsiteUrl&quot; TEXT,<br>&quot;Location&quot; TEXT,<br>&quot;AboutMe&quot; TEXT,<br>&quot;Views&quot; INTEGER,<br>&quot;UpVotes&quot; INTEGER,<br>&quot;DownVotes&quot; INTEGER,<br>&quot;ProfileImageUrl&quot; TEXT,<br>&quot;AccountId&quot; INTEGER<br>)<br>    </td>\n",
       "        </tr>\n",
       "        <tr>\n",
       "            <td>Task 4</td>\n",
       "            <td>Random Comments</td>\n",
       "            <td><br>select * from Comments order by random() limit 5;<br></td>\n",
       "        </tr>\n",
       "        <tr>\n",
       "            <td>Task 5</td>\n",
       "            <td>Random post Users</td>\n",
       "            <td><br>select * from Users order by random() limit 5;<br></td>\n",
       "        </tr>\n",
       "        <tr>\n",
       "            <td>Task 6</td>\n",
       "            <td>Random post Posts</td>\n",
       "            <td><br>select * from Posts order by random() limit 5;<br></td>\n",
       "        </tr>\n",
       "        <tr>\n",
       "            <td>Task 7</td>\n",
       "            <td>How many posts have 0 comments</td>\n",
       "            <td><br>SELECT COUNT(*) FROM Posts WHERE CommentCount = 0;<br></td>\n",
       "        </tr>\n",
       "        <tr>\n",
       "            <td>Task 8</td>\n",
       "            <td>How many posts have 1 comments</td>\n",
       "            <td><br>SELECT COUNT(*) FROM Posts WHERE CommentCount = 1;<br></td>\n",
       "        </tr>\n",
       "        <tr>\n",
       "            <td>Task 7</td>\n",
       "            <td>How many posts have 0 comments</td>\n",
       "            <td><br>SELECT COUNT(*) FROM Posts WHERE CommentCount &gt;= 2;<br></td>\n",
       "        </tr>\n",
       "        <tr>\n",
       "            <td>Task 8</td>\n",
       "            <td>Find the 5 posts with the highest ViewCount</td>\n",
       "            <td><br>SELECT Id, Title, ViewCount<br>FROM Posts<br>ORDER BY ViewCount DESC<br>LIMIT 5;<br></td>\n",
       "        </tr>\n",
       "        <tr>\n",
       "            <td>Task 9</td>\n",
       "            <td>Find the 5 posts with the highest Score</td>\n",
       "            <td><br>SELECT Id, Title, Score<br>FROM Posts<br>ORDER BY Score DESC<br>LIMIT 5;<br></td>\n",
       "        </tr>\n",
       "        <tr>\n",
       "            <td>Task 10</td>\n",
       "            <td>5 most frequent Scores</td>\n",
       "            <td><br>SELECT Score, COUNT(*) AS count<br>FROM Posts<br>GROUP BY Score<br>ORDER BY count DESC<br>LIMIT 5;<br></td>\n",
       "        </tr>\n",
       "        <tr>\n",
       "            <td>Task 11</td>\n",
       "            <td>How Many keyword Data in Tags</td>\n",
       "            <td><br>SELECT COUNT(*) <br>FROM Posts <br>WHERE Tags LIKE &#x27;%data%&#x27;;<br></td>\n",
       "        </tr>\n",
       "        <tr>\n",
       "            <td>Task 12</td>\n",
       "            <td>Most frequent commentcount for posts</td>\n",
       "            <td><br>SELECT CommentCount, COUNT(*) AS Frequency<br>FROM Posts<br>GROUP BY CommentCount<br>ORDER BY Frequency DESC<br>LIMIT 5;<br></td>\n",
       "        </tr>\n",
       "        <tr>\n",
       "            <td>Task 13</td>\n",
       "            <td>How many posts have an accepted answer?</td>\n",
       "            <td><br>SELECT COUNT(*) as AcceptedAnswerCount <br>FROM Posts <br>WHERE AcceptedAnswerId &gt;0;<br></td>\n",
       "        </tr>\n",
       "        <tr>\n",
       "            <td>Task 14</td>\n",
       "            <td>Average reputation of users</td>\n",
       "            <td><br>SELECT AVG(reputation) AS avg_reputation FROM users;<br></td>\n",
       "        </tr>\n",
       "        <tr>\n",
       "            <td>Task 14</td>\n",
       "            <td>Min and Max reputation of users</td>\n",
       "            <td><br>SELECT MIN(reputation), MAX(reputation) FROM users;<br></td>\n",
       "        </tr>\n",
       "        <tr>\n",
       "            <td>Task 15</td>\n",
       "            <td>What is the length of the body of 5 most viewed posts?</td>\n",
       "            <td><br>SELECT LEN_BODY, ViewCount<br>FROM Posts<br>ORDER BY ViewCount DESC<br>LIMIT 5<br></td>\n",
       "        </tr>\n",
       "        <tr>\n",
       "            <td>Task 16</td>\n",
       "            <td>Distinct Locations</td>\n",
       "            <td><br>SELECT COUNT(DISTINCT (location)) AS num_locations<br>FROM users;<br></td>\n",
       "        </tr>\n",
       "        <tr>\n",
       "            <td>Task 17</td>\n",
       "            <td>top 5 locations for users</td>\n",
       "            <td><br>SELECT Location, COUNT(*) AS count<br>FROM Users<br>WHERE Location IS NOT NULL<br>GROUP BY Location<br>ORDER BY count DESC<br>LIMIT 5<br></td>\n",
       "        </tr>\n",
       "        <tr>\n",
       "            <td>Task 18</td>\n",
       "            <td>Rank Days of the week</td>\n",
       "            <td><br>SELECT CAST(strftime(&#x27;%w&#x27;, CreationDate) AS INTEGER) AS day_of_week,<br>       SUM(ViewCount) AS total_views,<br>       100.0 * SUM(ViewCount) / (SELECT SUM(ViewCount) FROM Posts) AS percentage<br>FROM Posts<br>GROUP BY day_of_week<br>ORDER BY total_views DESC<br></td>\n",
       "        </tr>\n",
       "        <tr>\n",
       "            <td>Task 3.1</td>\n",
       "            <td>Post created by a user about me section</td>\n",
       "            <td><br>SELECT COUNT(*) AS post_count<br>FROM users<br>JOIN posts ON users.Id = posts.OwnerUserId<br>WHERE users.AboutMe IS NOT NULL;<br></td>\n",
       "        </tr>\n",
       "        <tr>\n",
       "            <td>Task 3.2</td>\n",
       "            <td>Post created by a user about me section</td>\n",
       "            <td> <br>SELECT users.Id, users.DisplayName, COUNT(posts.Id) AS post_count<br>FROM users<br>JOIN posts ON users.Id = posts.OwnerUserId<br>WHERE users.AboutMe IS NOT NULL<br>GROUP BY users.Id<br>ORDER BY post_count DESC;<br></td>\n",
       "        </tr>\n",
       "        <tr>\n",
       "            <td>Task 3.3</td>\n",
       "            <td>Top 10 posts number of comments</td>\n",
       "            <td> <br>SELECT posts.Id, posts.Title, COUNT(comments.Id) AS comment_count<br>FROM posts<br>JOIN comments ON posts.Id = comments.PostId<br>GROUP BY posts.Id<br>ORDER BY comment_count DESC<br>LIMIT 10;<br></td>\n",
       "        </tr>\n",
       "        <tr>\n",
       "            <td>Task 3.4</td>\n",
       "            <td>Top 10 Score</td>\n",
       "            <td> <br>SELECT posts.Id, posts.Title, posts.Score + SUM(comments.Score) AS total_score<br>FROM posts<br>JOIN comments ON posts.Id = comments.PostId<br>GROUP BY posts.Id<br>ORDER BY total_score DESC<br>LIMIT 10;<br><br></td>\n",
       "        </tr>\n",
       "        <tr>\n",
       "            <td>Task 3.5</td>\n",
       "            <td>Top 10 Most comments</td>\n",
       "            <td> <br>SELECT u.Id AS user_id, COUNT(c.Id) AS comment_count, u.Reputation AS user_reputation<br>FROM users u<br>JOIN comments c ON u.Id = c.UserId<br>GROUP BY u.Id<br>ORDER BY user_reputation DESC<br>LIMIT 10;<br></td>\n",
       "        </tr>\n",
       "        <tr>\n",
       "            <td>Task 3.5</td>\n",
       "            <td>Top 10 Most comments</td>\n",
       "            <td> <br>SELECT u.Id AS user_id, COUNT(c.Id) AS comment_count, u.Reputation AS user_reputation<br>FROM users u<br>JOIN comments c ON u.Id = c.UserId<br>GROUP BY u.Id<br>ORDER BY comment_count DESC<br>LIMIT 10;<br></td>\n",
       "        </tr>\n",
       "        <tr>\n",
       "            <td>Task 3.6</td>\n",
       "            <td>Top 10 users that post the most</td>\n",
       "            <td> <br>SELECT u.Id AS user_id, COUNT(p.Id) AS post_count, u.Reputation AS user_reputation<br>FROM users u<br>JOIN posts p ON u.Id = p.OwnerUserId<br>GROUP BY u.Id<br>ORDER BY post_count DESC<br>LIMIT 10;<br></td>\n",
       "        </tr>\n",
       "        <tr>\n",
       "            <td>Task 3.6</td>\n",
       "            <td>Top 10 users that post the most</td>\n",
       "            <td> <br>SELECT u.Id AS user_id, COUNT(p.Id) AS post_count, u.Reputation AS user_reputation<br>FROM users u<br>JOIN posts p ON u.Id = p.OwnerUserId<br>GROUP BY u.Id<br>ORDER BY user_reputation DESC<br>LIMIT 10;<br></td>\n",
       "        </tr>\n",
       "    </tbody>\n",
       "</table>"
      ],
      "text/plain": [
       "[('Single Table Queries', 'Which 5 users have viewed the most times and what is the sum of those views per user?', '\\nSELECT Id, SUM(Views) AS TotalViews\\n    FROM Users\\n        GROUP BY Id\\n            ORDER BY TotalViews DESC\\n                LIMIT 5\\n                '),\n",
       " ('Task 1', 'Create table comments', '\\n    CREATE TABLE \"comments\" (\\n    \"Id\" INTEGER,\\n    \"PostId\" INTEGER,\\n    \"Score\" INTEGER,\\n    \"Text\" TEXT,\\n    \"CreationDate\" TEXT,\\n    \"UserId\" INTEGER\\n    )\\n    '),\n",
       " ('Task 2', 'Create table posts', '\\n    CREATE TABLE \"posts\" (\\n\"Id\" INTEGER,\\n\"PostTypeId\" INTEGER,\\n\"AcceptedAnswerId\" INTEGER,\\n\"ParentId\" INTEGER,\\n\"CreationDate\" TEXT,\\n\"Score\" I ... (212 characters truncated) ... EXT,\\n\"Tags\" TEXT,\\n\"AnswerCount\" INTEGER,\\n\"CommentCount\" INTEGER,\\n\"FavoriteCount\" INTEGER,\\n\"ClosedDate\" TEXT,\\n\"CommunityOwnedDate\" TEXT\\n)\\n    '),\n",
       " ('Task 3', 'Create table users', '\\n  CREATE TABLE \"users\" (\\n\"Id\" INTEGER,\\n\"Reputation\" INTEGER,\\n\"CreationDate\" TEXT,\\n\"DisplayName\" TEXT,\\n\"LastAccessDate\" TEXT,\\n\"WebsiteUrl\" TEX ... (3 characters truncated) ... n\"Location\" TEXT,\\n\"AboutMe\" TEXT,\\n\"Views\" INTEGER,\\n\"UpVotes\" INTEGER,\\n\"DownVotes\" INTEGER,\\n\"ProfileImageUrl\" TEXT,\\n\"AccountId\" INTEGER\\n)\\n    '),\n",
       " ('Task 4', 'Random Comments', '\\nselect * from Comments order by random() limit 5;\\n'),\n",
       " ('Task 5', 'Random post Users', '\\nselect * from Users order by random() limit 5;\\n'),\n",
       " ('Task 6', 'Random post Posts', '\\nselect * from Posts order by random() limit 5;\\n'),\n",
       " ('Task 7', 'How many posts have 0 comments', '\\nSELECT COUNT(*) FROM Posts WHERE CommentCount = 0;\\n'),\n",
       " ('Task 8', 'How many posts have 1 comments', '\\nSELECT COUNT(*) FROM Posts WHERE CommentCount = 1;\\n'),\n",
       " ('Task 7', 'How many posts have 0 comments', '\\nSELECT COUNT(*) FROM Posts WHERE CommentCount >= 2;\\n'),\n",
       " ('Task 8', 'Find the 5 posts with the highest ViewCount', '\\nSELECT Id, Title, ViewCount\\nFROM Posts\\nORDER BY ViewCount DESC\\nLIMIT 5;\\n'),\n",
       " ('Task 9', 'Find the 5 posts with the highest Score', '\\nSELECT Id, Title, Score\\nFROM Posts\\nORDER BY Score DESC\\nLIMIT 5;\\n'),\n",
       " ('Task 10', '5 most frequent Scores', '\\nSELECT Score, COUNT(*) AS count\\nFROM Posts\\nGROUP BY Score\\nORDER BY count DESC\\nLIMIT 5;\\n'),\n",
       " ('Task 11', 'How Many keyword Data in Tags', \"\\nSELECT COUNT(*) \\nFROM Posts \\nWHERE Tags LIKE '%data%';\\n\"),\n",
       " ('Task 12', 'Most frequent commentcount for posts', '\\nSELECT CommentCount, COUNT(*) AS Frequency\\nFROM Posts\\nGROUP BY CommentCount\\nORDER BY Frequency DESC\\nLIMIT 5;\\n'),\n",
       " ('Task 13', 'How many posts have an accepted answer?', '\\nSELECT COUNT(*) as AcceptedAnswerCount \\nFROM Posts \\nWHERE AcceptedAnswerId >0;\\n'),\n",
       " ('Task 14', 'Average reputation of users', '\\nSELECT AVG(reputation) AS avg_reputation FROM users;\\n'),\n",
       " ('Task 14', 'Min and Max reputation of users', '\\nSELECT MIN(reputation), MAX(reputation) FROM users;\\n'),\n",
       " ('Task 15', 'What is the length of the body of 5 most viewed posts?', '\\nSELECT LEN_BODY, ViewCount\\nFROM Posts\\nORDER BY ViewCount DESC\\nLIMIT 5\\n'),\n",
       " ('Task 16', 'Distinct Locations', '\\nSELECT COUNT(DISTINCT (location)) AS num_locations\\nFROM users;\\n'),\n",
       " ('Task 17', 'top 5 locations for users', '\\nSELECT Location, COUNT(*) AS count\\nFROM Users\\nWHERE Location IS NOT NULL\\nGROUP BY Location\\nORDER BY count DESC\\nLIMIT 5\\n'),\n",
       " ('Task 18', 'Rank Days of the week', \"\\nSELECT CAST(strftime('%w', CreationDate) AS INTEGER) AS day_of_week,\\n       SUM(ViewCount) AS total_views,\\n       100.0 * SUM(ViewCount) / (SELECT SUM(ViewCount) FROM Posts) AS percentage\\nFROM Posts\\nGROUP BY day_of_week\\nORDER BY total_views DESC\\n\"),\n",
       " ('Task 3.1', 'Post created by a user about me section', '\\nSELECT COUNT(*) AS post_count\\nFROM users\\nJOIN posts ON users.Id = posts.OwnerUserId\\nWHERE users.AboutMe IS NOT NULL;\\n'),\n",
       " ('Task 3.2', 'Post created by a user about me section', ' \\nSELECT users.Id, users.DisplayName, COUNT(posts.Id) AS post_count\\nFROM users\\nJOIN posts ON users.Id = posts.OwnerUserId\\nWHERE users.AboutMe IS NOT NULL\\nGROUP BY users.Id\\nORDER BY post_count DESC;\\n'),\n",
       " ('Task 3.3', 'Top 10 posts number of comments', ' \\nSELECT posts.Id, posts.Title, COUNT(comments.Id) AS comment_count\\nFROM posts\\nJOIN comments ON posts.Id = comments.PostId\\nGROUP BY posts.Id\\nORDER BY comment_count DESC\\nLIMIT 10;\\n'),\n",
       " ('Task 3.4', 'Top 10 Score', ' \\nSELECT posts.Id, posts.Title, posts.Score + SUM(comments.Score) AS total_score\\nFROM posts\\nJOIN comments ON posts.Id = comments.PostId\\nGROUP BY posts.Id\\nORDER BY total_score DESC\\nLIMIT 10;\\n\\n'),\n",
       " ('Task 3.5', 'Top 10 Most comments', ' \\nSELECT u.Id AS user_id, COUNT(c.Id) AS comment_count, u.Reputation AS user_reputation\\nFROM users u\\nJOIN comments c ON u.Id = c.UserId\\nGROUP BY u.Id\\nORDER BY user_reputation DESC\\nLIMIT 10;\\n'),\n",
       " ('Task 3.5', 'Top 10 Most comments', ' \\nSELECT u.Id AS user_id, COUNT(c.Id) AS comment_count, u.Reputation AS user_reputation\\nFROM users u\\nJOIN comments c ON u.Id = c.UserId\\nGROUP BY u.Id\\nORDER BY comment_count DESC\\nLIMIT 10;\\n'),\n",
       " ('Task 3.6', 'Top 10 users that post the most', ' \\nSELECT u.Id AS user_id, COUNT(p.Id) AS post_count, u.Reputation AS user_reputation\\nFROM users u\\nJOIN posts p ON u.Id = p.OwnerUserId\\nGROUP BY u.Id\\nORDER BY post_count DESC\\nLIMIT 10;\\n'),\n",
       " ('Task 3.6', 'Top 10 users that post the most', ' \\nSELECT u.Id AS user_id, COUNT(p.Id) AS post_count, u.Reputation AS user_reputation\\nFROM users u\\nJOIN posts p ON u.Id = p.OwnerUserId\\nGROUP BY u.Id\\nORDER BY user_reputation DESC\\nLIMIT 10;\\n')]"
      ]
     },
     "execution_count": 329,
     "metadata": {},
     "output_type": "execute_result"
    }
   ],
   "source": [
    "%sql SELECT * FROM queries"
   ]
  },
  {
   "cell_type": "markdown",
   "metadata": {},
   "source": [
    "## Drop Duplicates\n",
    "\n",
    "You likely have some duplicates. Lets drop them. "
   ]
  },
  {
   "cell_type": "code",
   "execution_count": 330,
   "metadata": {},
   "outputs": [],
   "source": [
    "# Read the queries table into pandas\n",
    "sql = 'SELECT * FROM queries'\n",
    "queries = pd.read_sql(sql, con)\n",
    "\n",
    "# Drop duplicates\n",
    "queries.drop_duplicates(inplace = True) # drop duplicates"
   ]
  },
  {
   "cell_type": "markdown",
   "metadata": {},
   "source": [
    "## Case Issues"
   ]
  },
  {
   "cell_type": "markdown",
   "metadata": {},
   "source": [
    "Remember, SQL is case insensitive. Pandas IS case sensitive. Lets deal with this now by making all of the text uppercase. "
   ]
  },
  {
   "cell_type": "code",
   "execution_count": 331,
   "metadata": {},
   "outputs": [
    {
     "data": {
      "text/html": [
       "<div>\n",
       "<style scoped>\n",
       "    .dataframe tbody tr th:only-of-type {\n",
       "        vertical-align: middle;\n",
       "    }\n",
       "\n",
       "    .dataframe tbody tr th {\n",
       "        vertical-align: top;\n",
       "    }\n",
       "\n",
       "    .dataframe thead th {\n",
       "        text-align: right;\n",
       "    }\n",
       "</style>\n",
       "<table border=\"1\" class=\"dataframe\">\n",
       "  <thead>\n",
       "    <tr style=\"text-align: right;\">\n",
       "      <th></th>\n",
       "      <th>task</th>\n",
       "      <th>action</th>\n",
       "      <th>query</th>\n",
       "    </tr>\n",
       "  </thead>\n",
       "  <tbody>\n",
       "    <tr>\n",
       "      <th>0</th>\n",
       "      <td>SINGLE TABLE QUERIES</td>\n",
       "      <td>WHICH 5 USERS HAVE VIEWED THE MOST TIMES AND W...</td>\n",
       "      <td>\\nSELECT ID, SUM(VIEWS) AS TOTALVIEWS\\n    FRO...</td>\n",
       "    </tr>\n",
       "    <tr>\n",
       "      <th>1</th>\n",
       "      <td>TASK 1</td>\n",
       "      <td>CREATE TABLE COMMENTS</td>\n",
       "      <td>\\n    CREATE TABLE \"COMMENTS\" (\\n    \"ID\" INTE...</td>\n",
       "    </tr>\n",
       "    <tr>\n",
       "      <th>2</th>\n",
       "      <td>TASK 2</td>\n",
       "      <td>CREATE TABLE POSTS</td>\n",
       "      <td>\\n    CREATE TABLE \"POSTS\" (\\n\"ID\" INTEGER,\\n\"...</td>\n",
       "    </tr>\n",
       "    <tr>\n",
       "      <th>3</th>\n",
       "      <td>TASK 3</td>\n",
       "      <td>CREATE TABLE USERS</td>\n",
       "      <td>\\n  CREATE TABLE \"USERS\" (\\n\"ID\" INTEGER,\\n\"RE...</td>\n",
       "    </tr>\n",
       "    <tr>\n",
       "      <th>4</th>\n",
       "      <td>TASK 4</td>\n",
       "      <td>RANDOM COMMENTS</td>\n",
       "      <td>\\nSELECT * FROM COMMENTS ORDER BY RANDOM() LIM...</td>\n",
       "    </tr>\n",
       "    <tr>\n",
       "      <th>5</th>\n",
       "      <td>TASK 5</td>\n",
       "      <td>RANDOM POST USERS</td>\n",
       "      <td>\\nSELECT * FROM USERS ORDER BY RANDOM() LIMIT ...</td>\n",
       "    </tr>\n",
       "    <tr>\n",
       "      <th>6</th>\n",
       "      <td>TASK 6</td>\n",
       "      <td>RANDOM POST POSTS</td>\n",
       "      <td>\\nSELECT * FROM POSTS ORDER BY RANDOM() LIMIT ...</td>\n",
       "    </tr>\n",
       "    <tr>\n",
       "      <th>7</th>\n",
       "      <td>TASK 7</td>\n",
       "      <td>HOW MANY POSTS HAVE 0 COMMENTS</td>\n",
       "      <td>\\nSELECT COUNT(*) FROM POSTS WHERE COMMENTCOUN...</td>\n",
       "    </tr>\n",
       "    <tr>\n",
       "      <th>8</th>\n",
       "      <td>TASK 8</td>\n",
       "      <td>HOW MANY POSTS HAVE 1 COMMENTS</td>\n",
       "      <td>\\nSELECT COUNT(*) FROM POSTS WHERE COMMENTCOUN...</td>\n",
       "    </tr>\n",
       "    <tr>\n",
       "      <th>9</th>\n",
       "      <td>TASK 7</td>\n",
       "      <td>HOW MANY POSTS HAVE 0 COMMENTS</td>\n",
       "      <td>\\nSELECT COUNT(*) FROM POSTS WHERE COMMENTCOUN...</td>\n",
       "    </tr>\n",
       "    <tr>\n",
       "      <th>10</th>\n",
       "      <td>TASK 8</td>\n",
       "      <td>FIND THE 5 POSTS WITH THE HIGHEST VIEWCOUNT</td>\n",
       "      <td>\\nSELECT ID, TITLE, VIEWCOUNT\\nFROM POSTS\\nORD...</td>\n",
       "    </tr>\n",
       "    <tr>\n",
       "      <th>11</th>\n",
       "      <td>TASK 9</td>\n",
       "      <td>FIND THE 5 POSTS WITH THE HIGHEST SCORE</td>\n",
       "      <td>\\nSELECT ID, TITLE, SCORE\\nFROM POSTS\\nORDER B...</td>\n",
       "    </tr>\n",
       "    <tr>\n",
       "      <th>12</th>\n",
       "      <td>TASK 10</td>\n",
       "      <td>5 MOST FREQUENT SCORES</td>\n",
       "      <td>\\nSELECT SCORE, COUNT(*) AS COUNT\\nFROM POSTS\\...</td>\n",
       "    </tr>\n",
       "    <tr>\n",
       "      <th>13</th>\n",
       "      <td>TASK 11</td>\n",
       "      <td>HOW MANY KEYWORD DATA IN TAGS</td>\n",
       "      <td>\\nSELECT COUNT(*) \\nFROM POSTS \\nWHERE TAGS LI...</td>\n",
       "    </tr>\n",
       "    <tr>\n",
       "      <th>14</th>\n",
       "      <td>TASK 12</td>\n",
       "      <td>MOST FREQUENT COMMENTCOUNT FOR POSTS</td>\n",
       "      <td>\\nSELECT COMMENTCOUNT, COUNT(*) AS FREQUENCY\\n...</td>\n",
       "    </tr>\n",
       "    <tr>\n",
       "      <th>15</th>\n",
       "      <td>TASK 13</td>\n",
       "      <td>HOW MANY POSTS HAVE AN ACCEPTED ANSWER?</td>\n",
       "      <td>\\nSELECT COUNT(*) AS ACCEPTEDANSWERCOUNT \\nFRO...</td>\n",
       "    </tr>\n",
       "    <tr>\n",
       "      <th>16</th>\n",
       "      <td>TASK 14</td>\n",
       "      <td>AVERAGE REPUTATION OF USERS</td>\n",
       "      <td>\\nSELECT AVG(REPUTATION) AS AVG_REPUTATION FRO...</td>\n",
       "    </tr>\n",
       "    <tr>\n",
       "      <th>17</th>\n",
       "      <td>TASK 14</td>\n",
       "      <td>MIN AND MAX REPUTATION OF USERS</td>\n",
       "      <td>\\nSELECT MIN(REPUTATION), MAX(REPUTATION) FROM...</td>\n",
       "    </tr>\n",
       "    <tr>\n",
       "      <th>18</th>\n",
       "      <td>TASK 15</td>\n",
       "      <td>WHAT IS THE LENGTH OF THE BODY OF 5 MOST VIEWE...</td>\n",
       "      <td>\\nSELECT LEN_BODY, VIEWCOUNT\\nFROM POSTS\\nORDE...</td>\n",
       "    </tr>\n",
       "    <tr>\n",
       "      <th>19</th>\n",
       "      <td>TASK 16</td>\n",
       "      <td>DISTINCT LOCATIONS</td>\n",
       "      <td>\\nSELECT COUNT(DISTINCT (LOCATION)) AS NUM_LOC...</td>\n",
       "    </tr>\n",
       "    <tr>\n",
       "      <th>20</th>\n",
       "      <td>TASK 17</td>\n",
       "      <td>TOP 5 LOCATIONS FOR USERS</td>\n",
       "      <td>\\nSELECT LOCATION, COUNT(*) AS COUNT\\nFROM USE...</td>\n",
       "    </tr>\n",
       "    <tr>\n",
       "      <th>21</th>\n",
       "      <td>TASK 18</td>\n",
       "      <td>RANK DAYS OF THE WEEK</td>\n",
       "      <td>\\nSELECT CAST(STRFTIME('%W', CREATIONDATE) AS ...</td>\n",
       "    </tr>\n",
       "    <tr>\n",
       "      <th>22</th>\n",
       "      <td>TASK 3.1</td>\n",
       "      <td>POST CREATED BY A USER ABOUT ME SECTION</td>\n",
       "      <td>\\nSELECT COUNT(*) AS POST_COUNT\\nFROM USERS\\nJ...</td>\n",
       "    </tr>\n",
       "    <tr>\n",
       "      <th>23</th>\n",
       "      <td>TASK 3.2</td>\n",
       "      <td>POST CREATED BY A USER ABOUT ME SECTION</td>\n",
       "      <td>\\nSELECT USERS.ID, USERS.DISPLAYNAME, COUNT(P...</td>\n",
       "    </tr>\n",
       "    <tr>\n",
       "      <th>24</th>\n",
       "      <td>TASK 3.3</td>\n",
       "      <td>TOP 10 POSTS NUMBER OF COMMENTS</td>\n",
       "      <td>\\nSELECT POSTS.ID, POSTS.TITLE, COUNT(COMMENT...</td>\n",
       "    </tr>\n",
       "    <tr>\n",
       "      <th>25</th>\n",
       "      <td>TASK 3.4</td>\n",
       "      <td>TOP 10 SCORE</td>\n",
       "      <td>\\nSELECT POSTS.ID, POSTS.TITLE, POSTS.SCORE +...</td>\n",
       "    </tr>\n",
       "    <tr>\n",
       "      <th>26</th>\n",
       "      <td>TASK 3.5</td>\n",
       "      <td>TOP 10 MOST COMMENTS</td>\n",
       "      <td>\\nSELECT U.ID AS USER_ID, COUNT(C.ID) AS COMM...</td>\n",
       "    </tr>\n",
       "    <tr>\n",
       "      <th>27</th>\n",
       "      <td>TASK 3.5</td>\n",
       "      <td>TOP 10 MOST COMMENTS</td>\n",
       "      <td>\\nSELECT U.ID AS USER_ID, COUNT(C.ID) AS COMM...</td>\n",
       "    </tr>\n",
       "    <tr>\n",
       "      <th>28</th>\n",
       "      <td>TASK 3.6</td>\n",
       "      <td>TOP 10 USERS THAT POST THE MOST</td>\n",
       "      <td>\\nSELECT U.ID AS USER_ID, COUNT(P.ID) AS POST...</td>\n",
       "    </tr>\n",
       "    <tr>\n",
       "      <th>29</th>\n",
       "      <td>TASK 3.6</td>\n",
       "      <td>TOP 10 USERS THAT POST THE MOST</td>\n",
       "      <td>\\nSELECT U.ID AS USER_ID, COUNT(P.ID) AS POST...</td>\n",
       "    </tr>\n",
       "  </tbody>\n",
       "</table>\n",
       "</div>"
      ],
      "text/plain": [
       "                    task                                             action  \\\n",
       "0   SINGLE TABLE QUERIES  WHICH 5 USERS HAVE VIEWED THE MOST TIMES AND W...   \n",
       "1                 TASK 1                              CREATE TABLE COMMENTS   \n",
       "2                 TASK 2                                 CREATE TABLE POSTS   \n",
       "3                 TASK 3                                 CREATE TABLE USERS   \n",
       "4                 TASK 4                                    RANDOM COMMENTS   \n",
       "5                 TASK 5                                  RANDOM POST USERS   \n",
       "6                 TASK 6                                  RANDOM POST POSTS   \n",
       "7                 TASK 7                     HOW MANY POSTS HAVE 0 COMMENTS   \n",
       "8                 TASK 8                     HOW MANY POSTS HAVE 1 COMMENTS   \n",
       "9                 TASK 7                     HOW MANY POSTS HAVE 0 COMMENTS   \n",
       "10                TASK 8        FIND THE 5 POSTS WITH THE HIGHEST VIEWCOUNT   \n",
       "11                TASK 9            FIND THE 5 POSTS WITH THE HIGHEST SCORE   \n",
       "12               TASK 10                             5 MOST FREQUENT SCORES   \n",
       "13               TASK 11                      HOW MANY KEYWORD DATA IN TAGS   \n",
       "14               TASK 12               MOST FREQUENT COMMENTCOUNT FOR POSTS   \n",
       "15               TASK 13            HOW MANY POSTS HAVE AN ACCEPTED ANSWER?   \n",
       "16               TASK 14                        AVERAGE REPUTATION OF USERS   \n",
       "17               TASK 14                    MIN AND MAX REPUTATION OF USERS   \n",
       "18               TASK 15  WHAT IS THE LENGTH OF THE BODY OF 5 MOST VIEWE...   \n",
       "19               TASK 16                                 DISTINCT LOCATIONS   \n",
       "20               TASK 17                          TOP 5 LOCATIONS FOR USERS   \n",
       "21               TASK 18                              RANK DAYS OF THE WEEK   \n",
       "22              TASK 3.1            POST CREATED BY A USER ABOUT ME SECTION   \n",
       "23              TASK 3.2            POST CREATED BY A USER ABOUT ME SECTION   \n",
       "24              TASK 3.3                    TOP 10 POSTS NUMBER OF COMMENTS   \n",
       "25              TASK 3.4                                       TOP 10 SCORE   \n",
       "26              TASK 3.5                               TOP 10 MOST COMMENTS   \n",
       "27              TASK 3.5                               TOP 10 MOST COMMENTS   \n",
       "28              TASK 3.6                    TOP 10 USERS THAT POST THE MOST   \n",
       "29              TASK 3.6                    TOP 10 USERS THAT POST THE MOST   \n",
       "\n",
       "                                                query  \n",
       "0   \\nSELECT ID, SUM(VIEWS) AS TOTALVIEWS\\n    FRO...  \n",
       "1   \\n    CREATE TABLE \"COMMENTS\" (\\n    \"ID\" INTE...  \n",
       "2   \\n    CREATE TABLE \"POSTS\" (\\n\"ID\" INTEGER,\\n\"...  \n",
       "3   \\n  CREATE TABLE \"USERS\" (\\n\"ID\" INTEGER,\\n\"RE...  \n",
       "4   \\nSELECT * FROM COMMENTS ORDER BY RANDOM() LIM...  \n",
       "5   \\nSELECT * FROM USERS ORDER BY RANDOM() LIMIT ...  \n",
       "6   \\nSELECT * FROM POSTS ORDER BY RANDOM() LIMIT ...  \n",
       "7   \\nSELECT COUNT(*) FROM POSTS WHERE COMMENTCOUN...  \n",
       "8   \\nSELECT COUNT(*) FROM POSTS WHERE COMMENTCOUN...  \n",
       "9   \\nSELECT COUNT(*) FROM POSTS WHERE COMMENTCOUN...  \n",
       "10  \\nSELECT ID, TITLE, VIEWCOUNT\\nFROM POSTS\\nORD...  \n",
       "11  \\nSELECT ID, TITLE, SCORE\\nFROM POSTS\\nORDER B...  \n",
       "12  \\nSELECT SCORE, COUNT(*) AS COUNT\\nFROM POSTS\\...  \n",
       "13  \\nSELECT COUNT(*) \\nFROM POSTS \\nWHERE TAGS LI...  \n",
       "14  \\nSELECT COMMENTCOUNT, COUNT(*) AS FREQUENCY\\n...  \n",
       "15  \\nSELECT COUNT(*) AS ACCEPTEDANSWERCOUNT \\nFRO...  \n",
       "16  \\nSELECT AVG(REPUTATION) AS AVG_REPUTATION FRO...  \n",
       "17  \\nSELECT MIN(REPUTATION), MAX(REPUTATION) FROM...  \n",
       "18  \\nSELECT LEN_BODY, VIEWCOUNT\\nFROM POSTS\\nORDE...  \n",
       "19  \\nSELECT COUNT(DISTINCT (LOCATION)) AS NUM_LOC...  \n",
       "20  \\nSELECT LOCATION, COUNT(*) AS COUNT\\nFROM USE...  \n",
       "21  \\nSELECT CAST(STRFTIME('%W', CREATIONDATE) AS ...  \n",
       "22  \\nSELECT COUNT(*) AS POST_COUNT\\nFROM USERS\\nJ...  \n",
       "23   \\nSELECT USERS.ID, USERS.DISPLAYNAME, COUNT(P...  \n",
       "24   \\nSELECT POSTS.ID, POSTS.TITLE, COUNT(COMMENT...  \n",
       "25   \\nSELECT POSTS.ID, POSTS.TITLE, POSTS.SCORE +...  \n",
       "26   \\nSELECT U.ID AS USER_ID, COUNT(C.ID) AS COMM...  \n",
       "27   \\nSELECT U.ID AS USER_ID, COUNT(C.ID) AS COMM...  \n",
       "28   \\nSELECT U.ID AS USER_ID, COUNT(P.ID) AS POST...  \n",
       "29   \\nSELECT U.ID AS USER_ID, COUNT(P.ID) AS POST...  "
      ]
     },
     "execution_count": 331,
     "metadata": {},
     "output_type": "execute_result"
    }
   ],
   "source": [
    "for col in queries.columns:\n",
    "    queries[col] = queries[col].str.upper()\n",
    "    \n",
    "queries"
   ]
  },
  {
   "cell_type": "code",
   "execution_count": 332,
   "metadata": {},
   "outputs": [
    {
     "data": {
      "text/plain": [
       "30"
      ]
     },
     "execution_count": 332,
     "metadata": {},
     "output_type": "execute_result"
    }
   ],
   "source": [
    "# Write the now deduped uppercase dataframe back to sqlite and replace the table\n",
    "queries.to_sql('queries', con, if_exists='replace', index=False)"
   ]
  },
  {
   "cell_type": "markdown",
   "metadata": {},
   "source": [
    "## Use Case\n",
    "\n",
    "Now that we have this queries table, lets give you some ideas about how you would use it.\n",
    "\n",
    "Suppose you wanted to find all of the queries where you did a GROUP BY:"
   ]
  },
  {
   "cell_type": "code",
   "execution_count": 333,
   "metadata": {
    "scrolled": true
   },
   "outputs": [
    {
     "name": "stdout",
     "output_type": "stream",
     "text": [
      " * sqlite:///chatdata.db\n",
      "Done.\n"
     ]
    },
    {
     "data": {
      "text/html": [
       "<table>\n",
       "    <thead>\n",
       "        <tr>\n",
       "            <th>query</th>\n",
       "        </tr>\n",
       "    </thead>\n",
       "    <tbody>\n",
       "        <tr>\n",
       "            <td><br>SELECT ID, SUM(VIEWS) AS TOTALVIEWS<br>    FROM USERS<br>        GROUP BY ID<br>            ORDER BY TOTALVIEWS DESC<br>                LIMIT 5<br>                </td>\n",
       "        </tr>\n",
       "        <tr>\n",
       "            <td><br>SELECT SCORE, COUNT(*) AS COUNT<br>FROM POSTS<br>GROUP BY SCORE<br>ORDER BY COUNT DESC<br>LIMIT 5;<br></td>\n",
       "        </tr>\n",
       "        <tr>\n",
       "            <td><br>SELECT COMMENTCOUNT, COUNT(*) AS FREQUENCY<br>FROM POSTS<br>GROUP BY COMMENTCOUNT<br>ORDER BY FREQUENCY DESC<br>LIMIT 5;<br></td>\n",
       "        </tr>\n",
       "        <tr>\n",
       "            <td><br>SELECT LOCATION, COUNT(*) AS COUNT<br>FROM USERS<br>WHERE LOCATION IS NOT NULL<br>GROUP BY LOCATION<br>ORDER BY COUNT DESC<br>LIMIT 5<br></td>\n",
       "        </tr>\n",
       "        <tr>\n",
       "            <td><br>SELECT CAST(STRFTIME(&#x27;%W&#x27;, CREATIONDATE) AS INTEGER) AS DAY_OF_WEEK,<br>       SUM(VIEWCOUNT) AS TOTAL_VIEWS,<br>       100.0 * SUM(VIEWCOUNT) / (SELECT SUM(VIEWCOUNT) FROM POSTS) AS PERCENTAGE<br>FROM POSTS<br>GROUP BY DAY_OF_WEEK<br>ORDER BY TOTAL_VIEWS DESC<br></td>\n",
       "        </tr>\n",
       "        <tr>\n",
       "            <td> <br>SELECT USERS.ID, USERS.DISPLAYNAME, COUNT(POSTS.ID) AS POST_COUNT<br>FROM USERS<br>JOIN POSTS ON USERS.ID = POSTS.OWNERUSERID<br>WHERE USERS.ABOUTME IS NOT NULL<br>GROUP BY USERS.ID<br>ORDER BY POST_COUNT DESC;<br></td>\n",
       "        </tr>\n",
       "        <tr>\n",
       "            <td> <br>SELECT POSTS.ID, POSTS.TITLE, COUNT(COMMENTS.ID) AS COMMENT_COUNT<br>FROM POSTS<br>JOIN COMMENTS ON POSTS.ID = COMMENTS.POSTID<br>GROUP BY POSTS.ID<br>ORDER BY COMMENT_COUNT DESC<br>LIMIT 10;<br></td>\n",
       "        </tr>\n",
       "        <tr>\n",
       "            <td> <br>SELECT POSTS.ID, POSTS.TITLE, POSTS.SCORE + SUM(COMMENTS.SCORE) AS TOTAL_SCORE<br>FROM POSTS<br>JOIN COMMENTS ON POSTS.ID = COMMENTS.POSTID<br>GROUP BY POSTS.ID<br>ORDER BY TOTAL_SCORE DESC<br>LIMIT 10;<br><br></td>\n",
       "        </tr>\n",
       "        <tr>\n",
       "            <td> <br>SELECT U.ID AS USER_ID, COUNT(C.ID) AS COMMENT_COUNT, U.REPUTATION AS USER_REPUTATION<br>FROM USERS U<br>JOIN COMMENTS C ON U.ID = C.USERID<br>GROUP BY U.ID<br>ORDER BY USER_REPUTATION DESC<br>LIMIT 10;<br></td>\n",
       "        </tr>\n",
       "        <tr>\n",
       "            <td> <br>SELECT U.ID AS USER_ID, COUNT(C.ID) AS COMMENT_COUNT, U.REPUTATION AS USER_REPUTATION<br>FROM USERS U<br>JOIN COMMENTS C ON U.ID = C.USERID<br>GROUP BY U.ID<br>ORDER BY COMMENT_COUNT DESC<br>LIMIT 10;<br></td>\n",
       "        </tr>\n",
       "        <tr>\n",
       "            <td> <br>SELECT U.ID AS USER_ID, COUNT(P.ID) AS POST_COUNT, U.REPUTATION AS USER_REPUTATION<br>FROM USERS U<br>JOIN POSTS P ON U.ID = P.OWNERUSERID<br>GROUP BY U.ID<br>ORDER BY POST_COUNT DESC<br>LIMIT 10;<br></td>\n",
       "        </tr>\n",
       "        <tr>\n",
       "            <td> <br>SELECT U.ID AS USER_ID, COUNT(P.ID) AS POST_COUNT, U.REPUTATION AS USER_REPUTATION<br>FROM USERS U<br>JOIN POSTS P ON U.ID = P.OWNERUSERID<br>GROUP BY U.ID<br>ORDER BY USER_REPUTATION DESC<br>LIMIT 10;<br></td>\n",
       "        </tr>\n",
       "    </tbody>\n",
       "</table>"
      ],
      "text/plain": [
       "[('\\nSELECT ID, SUM(VIEWS) AS TOTALVIEWS\\n    FROM USERS\\n        GROUP BY ID\\n            ORDER BY TOTALVIEWS DESC\\n                LIMIT 5\\n                ',),\n",
       " ('\\nSELECT SCORE, COUNT(*) AS COUNT\\nFROM POSTS\\nGROUP BY SCORE\\nORDER BY COUNT DESC\\nLIMIT 5;\\n',),\n",
       " ('\\nSELECT COMMENTCOUNT, COUNT(*) AS FREQUENCY\\nFROM POSTS\\nGROUP BY COMMENTCOUNT\\nORDER BY FREQUENCY DESC\\nLIMIT 5;\\n',),\n",
       " ('\\nSELECT LOCATION, COUNT(*) AS COUNT\\nFROM USERS\\nWHERE LOCATION IS NOT NULL\\nGROUP BY LOCATION\\nORDER BY COUNT DESC\\nLIMIT 5\\n',),\n",
       " (\"\\nSELECT CAST(STRFTIME('%W', CREATIONDATE) AS INTEGER) AS DAY_OF_WEEK,\\n       SUM(VIEWCOUNT) AS TOTAL_VIEWS,\\n       100.0 * SUM(VIEWCOUNT) / (SELECT SUM(VIEWCOUNT) FROM POSTS) AS PERCENTAGE\\nFROM POSTS\\nGROUP BY DAY_OF_WEEK\\nORDER BY TOTAL_VIEWS DESC\\n\",),\n",
       " (' \\nSELECT USERS.ID, USERS.DISPLAYNAME, COUNT(POSTS.ID) AS POST_COUNT\\nFROM USERS\\nJOIN POSTS ON USERS.ID = POSTS.OWNERUSERID\\nWHERE USERS.ABOUTME IS NOT NULL\\nGROUP BY USERS.ID\\nORDER BY POST_COUNT DESC;\\n',),\n",
       " (' \\nSELECT POSTS.ID, POSTS.TITLE, COUNT(COMMENTS.ID) AS COMMENT_COUNT\\nFROM POSTS\\nJOIN COMMENTS ON POSTS.ID = COMMENTS.POSTID\\nGROUP BY POSTS.ID\\nORDER BY COMMENT_COUNT DESC\\nLIMIT 10;\\n',),\n",
       " (' \\nSELECT POSTS.ID, POSTS.TITLE, POSTS.SCORE + SUM(COMMENTS.SCORE) AS TOTAL_SCORE\\nFROM POSTS\\nJOIN COMMENTS ON POSTS.ID = COMMENTS.POSTID\\nGROUP BY POSTS.ID\\nORDER BY TOTAL_SCORE DESC\\nLIMIT 10;\\n\\n',),\n",
       " (' \\nSELECT U.ID AS USER_ID, COUNT(C.ID) AS COMMENT_COUNT, U.REPUTATION AS USER_REPUTATION\\nFROM USERS U\\nJOIN COMMENTS C ON U.ID = C.USERID\\nGROUP BY U.ID\\nORDER BY USER_REPUTATION DESC\\nLIMIT 10;\\n',),\n",
       " (' \\nSELECT U.ID AS USER_ID, COUNT(C.ID) AS COMMENT_COUNT, U.REPUTATION AS USER_REPUTATION\\nFROM USERS U\\nJOIN COMMENTS C ON U.ID = C.USERID\\nGROUP BY U.ID\\nORDER BY COMMENT_COUNT DESC\\nLIMIT 10;\\n',),\n",
       " (' \\nSELECT U.ID AS USER_ID, COUNT(P.ID) AS POST_COUNT, U.REPUTATION AS USER_REPUTATION\\nFROM USERS U\\nJOIN POSTS P ON U.ID = P.OWNERUSERID\\nGROUP BY U.ID\\nORDER BY POST_COUNT DESC\\nLIMIT 10;\\n',),\n",
       " (' \\nSELECT U.ID AS USER_ID, COUNT(P.ID) AS POST_COUNT, U.REPUTATION AS USER_REPUTATION\\nFROM USERS U\\nJOIN POSTS P ON U.ID = P.OWNERUSERID\\nGROUP BY U.ID\\nORDER BY USER_REPUTATION DESC\\nLIMIT 10;\\n',)]"
      ]
     },
     "execution_count": 333,
     "metadata": {},
     "output_type": "execute_result"
    }
   ],
   "source": [
    "%%sql\n",
    "SELECT query\n",
    "    FROM queries\n",
    "        WHERE query LIKE '%GROUP BY%'"
   ]
  },
  {
   "cell_type": "markdown",
   "metadata": {},
   "source": [
    "\n",
    "Find the queries that have 'DISTINCT' in them. You can do it with the %sql command or with Pandas and sql.\n"
   ]
  },
  {
   "cell_type": "code",
   "execution_count": 335,
   "metadata": {},
   "outputs": [
    {
     "name": "stdout",
     "output_type": "stream",
     "text": [
      " * sqlite:///chatdata.db\n",
      "Done.\n"
     ]
    },
    {
     "data": {
      "text/html": [
       "<table>\n",
       "    <thead>\n",
       "        <tr>\n",
       "            <th>query</th>\n",
       "        </tr>\n",
       "    </thead>\n",
       "    <tbody>\n",
       "        <tr>\n",
       "            <td><br>SELECT COUNT(DISTINCT (LOCATION)) AS NUM_LOCATIONS<br>FROM USERS;<br></td>\n",
       "        </tr>\n",
       "    </tbody>\n",
       "</table>"
      ],
      "text/plain": [
       "[('\\nSELECT COUNT(DISTINCT (LOCATION)) AS NUM_LOCATIONS\\nFROM USERS;\\n',)]"
      ]
     },
     "execution_count": 335,
     "metadata": {},
     "output_type": "execute_result"
    }
   ],
   "source": [
    "%%sql\n",
    "SELECT query\n",
    "    FROM queries\n",
    "        WHERE query LIKE '%DISTINCT%'"
   ]
  },
  {
   "cell_type": "code",
   "execution_count": 336,
   "metadata": {},
   "outputs": [],
   "source": [
    "con.close()"
   ]
  }
 ],
 "metadata": {
  "kernelspec": {
   "display_name": "Python 3 (ipykernel)",
   "language": "python",
   "name": "python3"
  },
  "language_info": {
   "codemirror_mode": {
    "name": "ipython",
    "version": 3
   },
   "file_extension": ".py",
   "mimetype": "text/x-python",
   "name": "python",
   "nbconvert_exporter": "python",
   "pygments_lexer": "ipython3",
   "version": "3.9.13"
  },
  "toc": {
   "base_numbering": 1,
   "nav_menu": {},
   "number_sections": true,
   "sideBar": true,
   "skip_h1_title": false,
   "title_cell": "Table of Contents",
   "title_sidebar": "Contents",
   "toc_cell": false,
   "toc_position": {
    "height": "calc(100% - 180px)",
    "left": "10px",
    "top": "150px",
    "width": "293.993px"
   },
   "toc_section_display": true,
   "toc_window_display": true
  }
 },
 "nbformat": 4,
 "nbformat_minor": 4
}
